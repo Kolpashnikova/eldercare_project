{
 "cells": [
  {
   "cell_type": "markdown",
   "id": "121da27c",
   "metadata": {},
   "source": [
    "# Optimal Matching in Julia Using Distributed Computing"
   ]
  },
  {
   "cell_type": "markdown",
   "id": "9e5a87c2",
   "metadata": {},
   "source": [
    "*Kamila Kolpashikova 2021*"
   ]
  },
  {
   "cell_type": "markdown",
   "id": "948ccdf8",
   "metadata": {},
   "source": [
    "In time use research, one of the challenges is that we have considerably long sequences (96, 144, or 1440 steps), and we usually use optimal matching to calculate dissimilarity scores on those sequences. However, the optimal matching technique is very computationally demanding. At the moment, most social scientists use the TraMineR R package, which usually gives a great performance."
   ]
  },
  {
   "cell_type": "markdown",
   "id": "2ba20875",
   "metadata": {},
   "source": [
    "In this tutorial, I use Julia on an iCore9 Mac laptop (16 threads), which reduces the calculation time of 18776 sequences in half (compared to TraMineR). "
   ]
  },
  {
   "cell_type": "markdown",
   "id": "fe251f47",
   "metadata": {},
   "source": [
    "You can follow the tutorial using the [code on GitHub](https://github.com/Kolpashnikova/Optimal-Matching-in-Julia-Using-Distributed-Computing)"
   ]
  },
  {
   "cell_type": "code",
   "execution_count": 1,
   "id": "d03b8a31",
   "metadata": {},
   "outputs": [
    {
     "data": {
      "text/plain": [
       "\"/Users/kamilakolpashnikova/Documents\""
      ]
     },
     "execution_count": 1,
     "metadata": {},
     "output_type": "execute_result"
    }
   ],
   "source": [
    "## change directory to the directory where you want to store the project\n",
    "cd(\"/Users/kamilakolpashnikova/Documents\") \n",
    "home_path = pwd()\n",
    "home_path"
   ]
  },
  {
   "cell_type": "code",
   "execution_count": 2,
   "id": "033b250d",
   "metadata": {},
   "outputs": [],
   "source": [
    "## Load packages\n",
    "using Bio\n",
    "using Bio.Align\n",
    "using DataFrames\n",
    "using CSV\n",
    "using ZipFile\n",
    "using BenchmarkTools\n",
    "using StatsBase\n",
    "using Dates"
   ]
  },
  {
   "cell_type": "code",
   "execution_count": 3,
   "id": "a32cd7f4",
   "metadata": {},
   "outputs": [
    {
     "data": {
      "text/plain": [
       "1"
      ]
     },
     "execution_count": 3,
     "metadata": {},
     "output_type": "execute_result"
    }
   ],
   "source": [
    "using Distributed\n",
    "nprocs()"
   ]
  },
  {
   "cell_type": "code",
   "execution_count": 4,
   "id": "2df2fd9c",
   "metadata": {},
   "outputs": [
    {
     "data": {
      "text/plain": [
       "8"
      ]
     },
     "execution_count": 4,
     "metadata": {},
     "output_type": "execute_result"
    }
   ],
   "source": [
    "import Hwloc\n",
    "n = Hwloc.num_physical_cores()"
   ]
  },
  {
   "cell_type": "markdown",
   "id": "fb92f748",
   "metadata": {},
   "source": [
    "I use a Mac with **iCore 9**. It has 16 threads, so I'm multiplying n (number of physical cores) by 2 to add the number of available threads. You need to check your own laptop's processor to figure out how many threads are available. If not sure, comment out the first line and uncomment the second, and you will use just the number of physical cores."
   ]
  },
  {
   "cell_type": "markdown",
   "id": "ca3e73e6",
   "metadata": {},
   "source": [
    "If you are using Mac, start Activity Monitor and open the CPU Load graph. It will show you the number of threads (Mac names them all 'cores')."
   ]
  },
  {
   "cell_type": "code",
   "execution_count": 5,
   "id": "dbcc47bd",
   "metadata": {},
   "outputs": [
    {
     "data": {
      "text/plain": [
       "17"
      ]
     },
     "execution_count": 5,
     "metadata": {},
     "output_type": "execute_result"
    }
   ],
   "source": [
    "addprocs(n*2, exeflags=`--project=$@__DIR__`)\n",
    "#addprocs(n, exeflags=`--project=$@__DIR__`)\n",
    "nprocs()"
   ]
  },
  {
   "cell_type": "code",
   "execution_count": 6,
   "id": "6d22fc1f",
   "metadata": {},
   "outputs": [],
   "source": [
    "@everywhere using Distributed\n",
    "using DistributedArrays\n",
    "@everywhere using DistributedArrays"
   ]
  },
  {
   "cell_type": "code",
   "execution_count": 7,
   "id": "9c70d833",
   "metadata": {},
   "outputs": [],
   "source": [
    "#if any of the packages above do not work then run\n",
    "#import Pkg; Pkg.add(\"DistributedArrays\")"
   ]
  },
  {
   "cell_type": "markdown",
   "id": "119a528c",
   "metadata": {},
   "source": [
    "## Download and Unzip the ATUS files"
   ]
  },
  {
   "cell_type": "code",
   "execution_count": 8,
   "id": "3daed6af",
   "metadata": {},
   "outputs": [
    {
     "data": {
      "text/plain": [
       "open_file_to_dataframe (generic function with 1 method)"
      ]
     },
     "execution_count": 8,
     "metadata": {},
     "output_type": "execute_result"
    }
   ],
   "source": [
    "function open_file_to_dataframe(link, home_path)\n",
    "    download(link, home_path * last(split(link, \"/\")))\n",
    "    zarchive = ZipFile.Reader(home_path * last(split(link, \"/\")))\n",
    "            \n",
    "    daf  = DataFrame()\n",
    "\n",
    "    for file in zarchive.files\n",
    "        if last(split(file.name, \".\")) == \"dat\"\n",
    "            #writing .dat file into home dir\n",
    "            write(home_path * \"/\" * file.name, read(file, String))\n",
    "            \n",
    "            #reading the file and transforming into array of arrays\n",
    "            f = open(home_path * \"/\" * file.name);\n",
    "            lines = readlines(f)\n",
    "            lines = split.(lines, ',') \n",
    "            \n",
    "            #transforming arr of arr into dataframe\n",
    "            namelist = Symbol.(lines[1])\n",
    "            \n",
    "            for (i, name) in enumerate(namelist)\n",
    "                daf[name] =  [lines[j][i] for j in 2:length(lines)]\n",
    "            end\n",
    "        end\n",
    "        \n",
    "    end\n",
    "    close(zarchive)\n",
    "    return daf  \n",
    "end"
   ]
  },
  {
   "cell_type": "code",
   "execution_count": 9,
   "id": "bba3db6c",
   "metadata": {},
   "outputs": [
    {
     "data": {
      "text/html": [
       "<table class=\"data-frame\"><thead><tr><th></th><th>TUCASEID</th><th>TUACTIVITY_N</th><th>TUACTDUR24</th><th>TUCC5</th><th>TUCC5B</th><th>TRTCCTOT_LN</th><th>TRTCC_LN</th></tr><tr><th></th><th>SubStri…</th><th>SubStri…</th><th>SubStri…</th><th>SubStri…</th><th>SubStri…</th><th>SubStri…</th><th>SubStri…</th></tr></thead><tbody><p>5 rows × 29 columns (omitted printing of 22 columns)</p><tr><th>1</th><td>20030100013280</td><td>1</td><td>60</td><td>-1</td><td>-1</td><td>-1</td><td>-1</td></tr><tr><th>2</th><td>20030100013280</td><td>2</td><td>30</td><td>-1</td><td>-1</td><td>-1</td><td>-1</td></tr><tr><th>3</th><td>20030100013280</td><td>3</td><td>600</td><td>-1</td><td>-1</td><td>-1</td><td>-1</td></tr><tr><th>4</th><td>20030100013280</td><td>4</td><td>150</td><td>-1</td><td>-1</td><td>-1</td><td>-1</td></tr><tr><th>5</th><td>20030100013280</td><td>5</td><td>5</td><td>-1</td><td>-1</td><td>-1</td><td>-1</td></tr></tbody></table>"
      ],
      "text/latex": [
       "\\begin{tabular}{r|cccccccc}\n",
       "\t& TUCASEID & TUACTIVITY\\_N & TUACTDUR24 & TUCC5 & TUCC5B & TRTCCTOT\\_LN & TRTCC\\_LN & \\\\\n",
       "\t\\hline\n",
       "\t& SubStri… & SubStri… & SubStri… & SubStri… & SubStri… & SubStri… & SubStri… & \\\\\n",
       "\t\\hline\n",
       "\t1 & 20030100013280 & 1 & 60 & -1 & -1 & -1 & -1 & $\\dots$ \\\\\n",
       "\t2 & 20030100013280 & 2 & 30 & -1 & -1 & -1 & -1 & $\\dots$ \\\\\n",
       "\t3 & 20030100013280 & 3 & 600 & -1 & -1 & -1 & -1 & $\\dots$ \\\\\n",
       "\t4 & 20030100013280 & 4 & 150 & -1 & -1 & -1 & -1 & $\\dots$ \\\\\n",
       "\t5 & 20030100013280 & 5 & 5 & -1 & -1 & -1 & -1 & $\\dots$ \\\\\n",
       "\\end{tabular}\n"
      ],
      "text/plain": [
       "5×29 DataFrame. Omitted printing of 24 columns\n",
       "│ Row │ TUCASEID       │ TUACTIVITY_N │ TUACTDUR24 │ TUCC5    │ TUCC5B   │\n",
       "│     │ \u001b[90mSubString…\u001b[39m     │ \u001b[90mSubString…\u001b[39m   │ \u001b[90mSubString…\u001b[39m │ \u001b[90mSubStri…\u001b[39m │ \u001b[90mSubStri…\u001b[39m │\n",
       "├─────┼────────────────┼──────────────┼────────────┼──────────┼──────────┤\n",
       "│ 1   │ 20030100013280 │ 1            │ 60         │ -1       │ -1       │\n",
       "│ 2   │ 20030100013280 │ 2            │ 30         │ -1       │ -1       │\n",
       "│ 3   │ 20030100013280 │ 3            │ 600        │ -1       │ -1       │\n",
       "│ 4   │ 20030100013280 │ 4            │ 150        │ -1       │ -1       │\n",
       "│ 5   │ 20030100013280 │ 5            │ 5          │ -1       │ -1       │"
      ]
     },
     "execution_count": 9,
     "metadata": {},
     "output_type": "execute_result"
    }
   ],
   "source": [
    "link = \"https://www.bls.gov/tus/special.requests/atusact-0320.zip\"\n",
    "#download(link)\n",
    "df_full = open_file_to_dataframe(link, home_path)\n",
    "first(df_full, 5)"
   ]
  },
  {
   "cell_type": "code",
   "execution_count": 10,
   "id": "fa40a888",
   "metadata": {},
   "outputs": [
    {
     "data": {
      "text/html": [
       "<table class=\"data-frame\"><thead><tr><th></th><th>TUCASEID</th><th>TEAGE_EC</th><th>TEELDUR</th><th>TEELWHO</th><th>TEELYRS</th><th>TRELHH</th><th>TUECLNO</th><th>TULINENO</th></tr><tr><th></th><th>SubStri…</th><th>SubStri…</th><th>SubStri…</th><th>SubStri…</th><th>SubStri…</th><th>SubStri…</th><th>SubStri…</th><th>SubStri…</th></tr></thead><tbody><p>5 rows × 8 columns</p><tr><th>1</th><td>20110101110074</td><td>70</td><td>4</td><td>44</td><td>2</td><td>0</td><td>5</td><td>-1</td></tr><tr><th>2</th><td>20110101110156</td><td>85</td><td>4</td><td>46</td><td>2</td><td>0</td><td>5</td><td>-1</td></tr><tr><th>3</th><td>20110101110507</td><td>80</td><td>1</td><td>55</td><td>-1</td><td>0</td><td>2</td><td>-1</td></tr><tr><th>4</th><td>20110101110521</td><td>85</td><td>3</td><td>43</td><td>-1</td><td>0</td><td>3</td><td>-1</td></tr><tr><th>5</th><td>20110101110522</td><td>80</td><td>4</td><td>44</td><td>6</td><td>0</td><td>2</td><td>-1</td></tr></tbody></table>"
      ],
      "text/latex": [
       "\\begin{tabular}{r|cccccccc}\n",
       "\t& TUCASEID & TEAGE\\_EC & TEELDUR & TEELWHO & TEELYRS & TRELHH & TUECLNO & TULINENO\\\\\n",
       "\t\\hline\n",
       "\t& SubStri… & SubStri… & SubStri… & SubStri… & SubStri… & SubStri… & SubStri… & SubStri…\\\\\n",
       "\t\\hline\n",
       "\t1 & 20110101110074 & 70 & 4 & 44 & 2 & 0 & 5 & -1 \\\\\n",
       "\t2 & 20110101110156 & 85 & 4 & 46 & 2 & 0 & 5 & -1 \\\\\n",
       "\t3 & 20110101110507 & 80 & 1 & 55 & -1 & 0 & 2 & -1 \\\\\n",
       "\t4 & 20110101110521 & 85 & 3 & 43 & -1 & 0 & 3 & -1 \\\\\n",
       "\t5 & 20110101110522 & 80 & 4 & 44 & 6 & 0 & 2 & -1 \\\\\n",
       "\\end{tabular}\n"
      ],
      "text/plain": [
       "5×8 DataFrame. Omitted printing of 2 columns\n",
       "│ Row │ TUCASEID       │ TEAGE_EC │ TEELDUR  │ TEELWHO  │ TEELYRS  │ TRELHH   │\n",
       "│     │ \u001b[90mSubString…\u001b[39m     │ \u001b[90mSubStri…\u001b[39m │ \u001b[90mSubStri…\u001b[39m │ \u001b[90mSubStri…\u001b[39m │ \u001b[90mSubStri…\u001b[39m │ \u001b[90mSubStri…\u001b[39m │\n",
       "├─────┼────────────────┼──────────┼──────────┼──────────┼──────────┼──────────┤\n",
       "│ 1   │ 20110101110074 │ 70       │ 4        │ 44       │ 2        │ 0        │\n",
       "│ 2   │ 20110101110156 │ 85       │ 4        │ 46       │ 2        │ 0        │\n",
       "│ 3   │ 20110101110507 │ 80       │ 1        │ 55       │ -1       │ 0        │\n",
       "│ 4   │ 20110101110521 │ 85       │ 3        │ 43       │ -1       │ 0        │\n",
       "│ 5   │ 20110101110522 │ 80       │ 4        │ 44       │ 6        │ 0        │"
      ]
     },
     "execution_count": 10,
     "metadata": {},
     "output_type": "execute_result"
    }
   ],
   "source": [
    "df_ec = open_file_to_dataframe(\"https://www.bls.gov/tus/special.requests/atusrostec-1120.zip\", \n",
    "    home_path)\n",
    "first(df_ec, 5)"
   ]
  },
  {
   "cell_type": "code",
   "execution_count": 11,
   "id": "ea59aeee",
   "metadata": {},
   "outputs": [
    {
     "data": {
      "text/html": [
       "<table class=\"data-frame\"><thead><tr><th></th><th>TUCASEID</th></tr><tr><th></th><th>SubStri…</th></tr></thead><tbody><p>5 rows × 1 columns</p><tr><th>1</th><td>20110101110074</td></tr><tr><th>2</th><td>20110101110156</td></tr><tr><th>3</th><td>20110101110507</td></tr><tr><th>4</th><td>20110101110521</td></tr><tr><th>5</th><td>20110101110522</td></tr></tbody></table>"
      ],
      "text/latex": [
       "\\begin{tabular}{r|c}\n",
       "\t& TUCASEID\\\\\n",
       "\t\\hline\n",
       "\t& SubStri…\\\\\n",
       "\t\\hline\n",
       "\t1 & 20110101110074 \\\\\n",
       "\t2 & 20110101110156 \\\\\n",
       "\t3 & 20110101110507 \\\\\n",
       "\t4 & 20110101110521 \\\\\n",
       "\t5 & 20110101110522 \\\\\n",
       "\\end{tabular}\n"
      ],
      "text/plain": [
       "5×1 DataFrame\n",
       "│ Row │ TUCASEID       │\n",
       "│     │ \u001b[90mSubString…\u001b[39m     │\n",
       "├─────┼────────────────┤\n",
       "│ 1   │ 20110101110074 │\n",
       "│ 2   │ 20110101110156 │\n",
       "│ 3   │ 20110101110507 │\n",
       "│ 4   │ 20110101110521 │\n",
       "│ 5   │ 20110101110522 │"
      ]
     },
     "execution_count": 11,
     "metadata": {},
     "output_type": "execute_result"
    }
   ],
   "source": [
    "## select only ids\n",
    "\n",
    "df_ec = select(df_ec, \"TUCASEID\")\n",
    "first(df_ec, 5)"
   ]
  },
  {
   "cell_type": "code",
   "execution_count": 12,
   "id": "e4e9701f",
   "metadata": {},
   "outputs": [
    {
     "data": {
      "text/plain": [
       "395955"
      ]
     },
     "execution_count": 12,
     "metadata": {},
     "output_type": "execute_result"
    }
   ],
   "source": [
    "## filter caregivers\n",
    "\n",
    "df = innerjoin(df_full, df_ec, on=\"TUCASEID\")\n",
    "df = unique(df)\n",
    "nrow(df)"
   ]
  },
  {
   "cell_type": "code",
   "execution_count": 13,
   "id": "6a156765",
   "metadata": {},
   "outputs": [
    {
     "data": {
      "text/html": [
       "<table class=\"data-frame\"><thead><tr><th></th><th>TUCASEID</th><th>TUACTIVITY_N</th><th>TRCODEP</th><th>TUACTDUR24</th></tr><tr><th></th><th>SubStri…</th><th>SubStri…</th><th>SubStri…</th><th>SubStri…</th></tr></thead><tbody><p>5 rows × 4 columns</p><tr><th>1</th><td>20201212202312</td><td>16</td><td>020203</td><td>20</td></tr><tr><th>2</th><td>20201212202312</td><td>17</td><td>010201</td><td>30</td></tr><tr><th>3</th><td>20201212202312</td><td>18</td><td>120312</td><td>90</td></tr><tr><th>4</th><td>20201212202312</td><td>19</td><td>120303</td><td>120</td></tr><tr><th>5</th><td>20201212202312</td><td>20</td><td>010101</td><td>420</td></tr></tbody></table>"
      ],
      "text/latex": [
       "\\begin{tabular}{r|cccc}\n",
       "\t& TUCASEID & TUACTIVITY\\_N & TRCODEP & TUACTDUR24\\\\\n",
       "\t\\hline\n",
       "\t& SubStri… & SubStri… & SubStri… & SubStri…\\\\\n",
       "\t\\hline\n",
       "\t1 & 20201212202312 & 16 & 020203 & 20 \\\\\n",
       "\t2 & 20201212202312 & 17 & 010201 & 30 \\\\\n",
       "\t3 & 20201212202312 & 18 & 120312 & 90 \\\\\n",
       "\t4 & 20201212202312 & 19 & 120303 & 120 \\\\\n",
       "\t5 & 20201212202312 & 20 & 010101 & 420 \\\\\n",
       "\\end{tabular}\n"
      ],
      "text/plain": [
       "5×4 DataFrame\n",
       "│ Row │ TUCASEID       │ TUACTIVITY_N │ TRCODEP  │ TUACTDUR24 │\n",
       "│     │ \u001b[90mSubString…\u001b[39m     │ \u001b[90mSubString…\u001b[39m   │ \u001b[90mSubStri…\u001b[39m │ \u001b[90mSubString…\u001b[39m │\n",
       "├─────┼────────────────┼──────────────┼──────────┼────────────┤\n",
       "│ 1   │ 20201212202312 │ 16           │ 020203   │ 20         │\n",
       "│ 2   │ 20201212202312 │ 17           │ 010201   │ 30         │\n",
       "│ 3   │ 20201212202312 │ 18           │ 120312   │ 90         │\n",
       "│ 4   │ 20201212202312 │ 19           │ 120303   │ 120        │\n",
       "│ 5   │ 20201212202312 │ 20           │ 010101   │ 420        │"
      ]
     },
     "execution_count": 13,
     "metadata": {},
     "output_type": "execute_result"
    }
   ],
   "source": [
    "## select only needed columns\n",
    "\n",
    "df = select(df, [\"TUCASEID\", \"TUACTIVITY_N\", \"TRCODEP\", \"TUACTDUR24\"])\n",
    "last(df, 5)"
   ]
  },
  {
   "cell_type": "code",
   "execution_count": 14,
   "id": "3957afa4",
   "metadata": {},
   "outputs": [
    {
     "data": {
      "text/html": [
       "<table class=\"data-frame\"><thead><tr><th></th><th>caseid</th><th>actline</th><th>activity</th><th>duration</th></tr><tr><th></th><th>SubStri…</th><th>SubStri…</th><th>SubStri…</th><th>SubStri…</th></tr></thead><tbody><p>5 rows × 4 columns</p><tr><th>1</th><td>20110101110074</td><td>1</td><td>110101</td><td>10</td></tr><tr><th>2</th><td>20110101110074</td><td>2</td><td>020402</td><td>300</td></tr><tr><th>3</th><td>20110101110074</td><td>3</td><td>180482</td><td>5</td></tr><tr><th>4</th><td>20110101110074</td><td>4</td><td>500101</td><td>525</td></tr><tr><th>5</th><td>20110101110074</td><td>5</td><td>180482</td><td>5</td></tr></tbody></table>"
      ],
      "text/latex": [
       "\\begin{tabular}{r|cccc}\n",
       "\t& caseid & actline & activity & duration\\\\\n",
       "\t\\hline\n",
       "\t& SubStri… & SubStri… & SubStri… & SubStri…\\\\\n",
       "\t\\hline\n",
       "\t1 & 20110101110074 & 1 & 110101 & 10 \\\\\n",
       "\t2 & 20110101110074 & 2 & 020402 & 300 \\\\\n",
       "\t3 & 20110101110074 & 3 & 180482 & 5 \\\\\n",
       "\t4 & 20110101110074 & 4 & 500101 & 525 \\\\\n",
       "\t5 & 20110101110074 & 5 & 180482 & 5 \\\\\n",
       "\\end{tabular}\n"
      ],
      "text/plain": [
       "5×4 DataFrame\n",
       "│ Row │ caseid         │ actline  │ activity │ duration │\n",
       "│     │ \u001b[90mSubString…\u001b[39m     │ \u001b[90mSubStri…\u001b[39m │ \u001b[90mSubStri…\u001b[39m │ \u001b[90mSubStri…\u001b[39m │\n",
       "├─────┼────────────────┼──────────┼──────────┼──────────┤\n",
       "│ 1   │ 20110101110074 │ 1        │ 110101   │ 10       │\n",
       "│ 2   │ 20110101110074 │ 2        │ 020402   │ 300      │\n",
       "│ 3   │ 20110101110074 │ 3        │ 180482   │ 5        │\n",
       "│ 4   │ 20110101110074 │ 4        │ 500101   │ 525      │\n",
       "│ 5   │ 20110101110074 │ 5        │ 180482   │ 5        │"
      ]
     },
     "execution_count": 14,
     "metadata": {},
     "output_type": "execute_result"
    }
   ],
   "source": [
    "colnames = [\"caseid\", \"actline\", \"activity\", \"duration\"]\n",
    "rename!(df, Symbol.(colnames))\n",
    "first(df, 5)"
   ]
  },
  {
   "cell_type": "code",
   "execution_count": 15,
   "id": "d9e22f97",
   "metadata": {},
   "outputs": [
    {
     "data": {
      "text/plain": [
       "activity_trans (generic function with 1 method)"
      ]
     },
     "execution_count": 15,
     "metadata": {},
     "output_type": "execute_result"
    }
   ],
   "source": [
    "## custom functions recoding activity codes (you need to change it \n",
    "# if you want to focus on other activities)\n",
    "# the coding is arbitrary (this is what I usually use in my research--\n",
    "# you can change it the way you want)\n",
    "#\"1\" or \"a\" = \"Sleep\",\n",
    "#\"2\" or \"b\" = \"Personal Care\",\n",
    "#\"3\" or \"c\" = \"Housework\",\n",
    "#\"4\" or \"d\" = \"Child Care\",\n",
    "#\"5\" or \"e\" = \"Adult Care\",\n",
    "#\"6\" or \"f\" = \"Work and Education\",\n",
    "#\"7\" or \"g\" = \"Shopping\",\n",
    "#\"8\" or \"h\" = \"TV Watching\",\n",
    "#\"9\" or \"i\" = \"Eating\",\n",
    "#\"10\" or \"j\" = \"Leisure\",\n",
    "#\"11\" = \"Travel and Other\"\n",
    "\n",
    "\n",
    "function a_trans(val)\n",
    "    a_dct = Dict(1 => \"a\", 2 => \"b\", 3 => \"c\", 4 => \"d\", \n",
    "        5 => \"e\", 6 => \"f\", 7 => \"g\", 8 => \"h\", 9 => \"i\", \n",
    "        10 => \"j\", 11 => \"k\")\n",
    "    return a_dct[val]\n",
    "end\n",
    "\n",
    "function activity_trans(val)\n",
    "    act_dct = Dict(\"010101\" => 1, \"010102\" => 1, \n",
    "        \"010199\" => 1, \"010201\" => 2, \"010299\" => 2, \n",
    "        \"010301\" => 2, \"010399\" => 2, \"010401\" => 2, \n",
    "        \"010499\" => 2, \"010501\" => 2, \"010599\" => 2, \n",
    "        \"019999\" => 2, \"020101\" => 3, \"020102\" => 3, \n",
    "        \"020103\" => 3, \"020104\" => 3, \"020199\" => 3, \n",
    "        \"020201\" => 3, \"020202\" => 3, \"020203\" => 3, \n",
    "        \"020299\" => 3, \"020301\" => 3, \"020302\" => 3, \n",
    "        \"020303\" => 3, \"020399\" => 3, \"020400\" => 3, \n",
    "        \"020401\" => 3, \"020402\" => 3, \"020499\" => 3, \n",
    "        \"020500\" => 3, \"020501\" => 3, \"020502\" => 3, \n",
    "        \"020599\" => 3, \"020600\" => 3, \"020601\" => 3, \n",
    "        \"020602\" => 3, \"020603\" => 3, \"020681\" => 10, \n",
    "        \"020699\" => 3, \"020700\" => 3, \"020701\" => 3, \n",
    "        \"020799\" => 3, \"020800\" => 3, \"020801\" => 3, \n",
    "        \"020899\" => 3, \"020900\" => 3, \"020901\" => 3, \n",
    "        \"020902\" => 3, \"020903\" => 3, \"020904\" => 3, \n",
    "        \"020905\" => 3, \"020999\" => 3, \"029900\" => 3, \n",
    "        \"029999\" => 3, \"030100\" => 4, \"030101\" => 4, \n",
    "        \"030102\" => 4, \"030103\" => 4, \"030104\" => 4, \n",
    "        \"030105\" => 4, \"030106\" => 4, \"030107\" => 4, \n",
    "        \"030108\" => 4, \"030109\" => 4, \"030110\" => 4, \n",
    "        \"030111\" => 4, \"030112\" => 4, \"030199\" => 4, \n",
    "        \"030200\" => 4, \"030201\" => 4, \"030202\" => 4, \n",
    "        \"030203\" => 4, \"030204\" => 4, \"030299\" => 4, \n",
    "        \"030300\" => 4, \"030301\" => 4, \"030302\" => 4, \n",
    "        \"030303\" => 4, \"030399\" => 4, \"040100\" => 4, \n",
    "        \"040101\" => 4, \"040102\" => 4, \"040103\" => 4, \n",
    "        \"040104\" => 4, \"040105\" => 4, \"040106\" => 4, \n",
    "        \"040107\" => 4, \"040108\" => 4, \"040109\" => 4, \n",
    "        \"040110\" => 4, \"040111\" => 4, \"040112\" => 4, \n",
    "        \"040199\" => 4, \"040200\" => 4, \"040201\" => 4, \n",
    "        \"040202\" => 4, \"040203\" => 4, \"040204\" => 4, \n",
    "        \"040299\" => 4, \"040300\" => 4, \"040301\" => 4, \n",
    "        \"040302\" => 4, \"040303\" => 4, \"040399\" => 4, \n",
    "        \"030186\" => 4, \"040186\" => 4, \"030000\" => 5, \n",
    "        \"030400\" => 5, \"030401\" => 5, \"030402\" => 5, \n",
    "        \"030403\" => 5, \"030404\" => 5, \"030405\" => 5, \n",
    "        \"030499\" => 5, \"030500\" => 5, \"030501\" => 5, \n",
    "        \"030502\" => 5, \"030503\" => 5, \"030504\" => 5, \n",
    "        \"030599\" => 5, \"039900\" => 5, \"039999\" => 5, \n",
    "        \"040000\" => 5, \"040400\" => 5, \"040401\" => 5, \n",
    "        \"040402\" => 5, \"040403\" => 5, \"040404\" => 5, \n",
    "        \"040405\" => 5, \"040499\" => 5, \"040500\" => 5, \n",
    "        \"040501\" => 5, \"040502\" => 5, \"040503\" => 5, \n",
    "        \"040504\" => 5, \"040505\" => 5, \"040506\" => 5, \n",
    "        \"040507\" => 5, \"040508\" => 5, \"040599\" => 5, \n",
    "        \"049900\" => 5, \"049999\" => 5, \"050000\" => 6, \n",
    "        \"050100\" => 6, \"050101\" => 6, \"050102\" => 6, \n",
    "        \"050103\" => 6, \"050104\" => 6, \"050199\" => 6, \n",
    "        \"050200\" => 6, \"050201\" => 6, \"050202\" => 6, \n",
    "        \"050203\" => 6, \"050204\" => 6, \"050205\" => 6, \n",
    "        \"050299\" => 6, \"050300\" => 6, \"050301\" => 6, \n",
    "        \"050302\" => 6, \"050303\" => 6, \"050304\" => 6, \n",
    "        \"050305\" => 6, \"050399\" => 6, \"050400\" => 6, \n",
    "        \"050401\" => 6, \"050403\" => 6, \"050404\" => 6, \n",
    "        \"050405\" => 6, \"050499\" => 6, \"059900\" => 6, \n",
    "        \"059999\" => 6, \"060000\" => 6, \"060100\" => 6, \n",
    "        \"060101\" => 6, \"060102\" => 6, \"060103\" => 6, \n",
    "        \"060104\" => 6, \"060199\" => 6, \"060200\" => 6, \n",
    "        \"060201\" => 6, \"060202\" => 6, \"060203\" => 6, \n",
    "        \"060204\" => 6, \"060299\" => 6, \"060300\" => 6, \n",
    "        \"060301\" => 6, \"060302\" => 6, \"060303\" => 6, \n",
    "        \"060399\" => 6, \"060400\" => 6, \"060401\" => 6, \n",
    "        \"060402\" => 6, \"060403\" => 6, \"060499\" => 6, \n",
    "        \"069900\" => 6, \"069999\" => 6, \"050481\" => 6, \n",
    "        \"050389\" => 6, \"050189\" => 6, \"060289\" => 6, \n",
    "        \"050289\" => 6, \"070000\" => 7, \"070100\" => 7, \n",
    "        \"070101\" => 7, \"070102\" => 7, \"070103\" => 7, \n",
    "        \"070104\" => 7, \"070105\" => 7, \"070199\" => 7, \n",
    "        \"070200\" => 7, \"070201\" => 7, \"070299\" => 7, \n",
    "        \"070300\" => 7, \"070301\" => 7, \"070399\" => 7, \n",
    "        \"079900\" => 7, \"079999\" => 7, \"080000\" => 7, \n",
    "        \"080100\" => 7, \"080101\" => 7, \"080102\" => 7, \n",
    "        \"080199\" => 7, \"080200\" => 7, \"080201\" => 7, \n",
    "        \"080202\" => 7, \"080203\" => 7, \"080299\" => 7, \n",
    "        \"080300\" => 7, \"080301\" => 7, \"080302\" => 7, \n",
    "        \"080399\" => 7, \"080400\" => 7, \"080401\" => 7, \n",
    "        \"080402\" => 7, \"080403\" => 7, \"080499\" => 7, \n",
    "        \"080500\" => 7, \"080501\" => 7, \"080502\" => 7, \n",
    "        \"080599\" => 7, \"080600\" => 7, \"080601\" => 7, \n",
    "        \"080602\" => 7, \"080699\" => 7, \"080700\" => 7, \n",
    "        \"080701\" => 7, \"080702\" => 7, \"080799\" => 7, \n",
    "        \"080800\" => 7, \"080801\" => 7, \"080899\" => 7, \n",
    "        \"089900\" => 7, \"089999\" => 7, \"090000\" => 7, \n",
    "        \"090100\" => 7, \"090101\" => 7, \"090102\" => 7, \n",
    "        \"090103\" => 7, \"090104\" => 7, \"090199\" => 7, \n",
    "        \"090200\" => 7, \"090201\" => 7, \"090202\" => 7, \n",
    "        \"090299\" => 7, \"090300\" => 7, \"090301\" => 7, \n",
    "        \"090302\" => 7, \"090399\" => 7, \"090400\" => 7, \n",
    "        \"090401\" => 7, \"090402\" => 7, \"090499\" => 7, \n",
    "        \"090500\" => 7, \"090501\" => 7, \"090502\" => 7, \n",
    "        \"090599\" => 7, \"099900\" => 7, \"099999\" => 7, \n",
    "        \"100000\" => 7, \"100100\" => 7, \"100101\" => 7, \n",
    "        \"100102\" => 7, \"100103\" => 7, \"100199\" => 7, \n",
    "        \"100200\" => 7, \"100201\" => 7, \"100299\" => 7, \n",
    "        \"100300\" => 7, \"100303\" => 7, \"100304\" => 7, \n",
    "        \"100399\" => 7, \"100400\" => 7, \"100401\" => 7, \n",
    "        \"100499\" => 7, \"109900\" => 7, \"109999\" => 7, \n",
    "        \"120303\" => 8, \"120304\" => 8, \"110000\" => 9, \n",
    "        \"110100\" => 9, \"110101\" => 9, \"110199\" => 9, \n",
    "        \"110200\" => 9, \"110201\" => 9, \"110299\" => 9, \n",
    "        \"119900\" => 9, \"110289\" => 9, \"119999\" => 9, \n",
    "        \"120000\" => 10, \"120100\" => 10, \"120101\" => 10, \n",
    "        \"120199\" => 10, \"120200\" => 10, \"120201\" => 10, \n",
    "        \"120202\" => 10, \"120299\" => 10, \"120300\" => 10, \n",
    "        \"120301\" => 10, \"120302\" => 10, \"120305\" => 10, \n",
    "        \"120306\" => 10, \"120307\" => 10, \"120308\" => 10, \n",
    "        \"120309\" => 10, \"120310\" => 10, \"120311\" => 10, \n",
    "        \"120312\" => 10, \"120313\" => 10, \"120399\" => 10, \n",
    "        \"120400\" => 10, \"120401\" => 10, \"120402\" => 10, \n",
    "        \"120403\" => 10, \"120404\" => 10, \"120405\" => 10, \n",
    "        \"120499\" => 10, \"120500\" => 10, \"120501\" => 10, \n",
    "        \"120502\" => 10, \"120503\" => 10, \"120504\" => 10, \n",
    "        \"120599\" => 10, \"129900\" => 10, \"129999\" => 10, \n",
    "        \"130000\" => 10, \"130100\" => 10, \"130101\" => 10, \n",
    "        \"130102\" => 10, \"130103\" => 10, \"130104\" => 10, \n",
    "        \"130105\" => 10, \"130106\" => 10, \"130107\" => 10, \n",
    "        \"130108\" => 10, \"130109\" => 10, \"130110\" => 10, \n",
    "        \"130111\" => 10, \"130112\" => 10, \"130113\" => 10, \n",
    "        \"130114\" => 10, \"130115\" => 10, \"130116\" => 10, \n",
    "        \"130117\" => 10, \"130118\" => 10, \"130119\" => 10, \n",
    "        \"130120\" => 10, \"130121\" => 10, \"130122\" => 10, \n",
    "        \"130123\" => 10, \"130124\" => 10, \"130125\" => 10, \n",
    "        \"130126\" => 10, \"130127\" => 10, \"130128\" => 10, \n",
    "        \"130129\" => 10, \"130130\" => 10, \"130131\" => 10, \n",
    "        \"130132\" => 10, \"130133\" => 10, \"130134\" => 10, \n",
    "        \"130135\" => 10, \"130136\" => 10, \"130199\" => 10,\n",
    "        \"130200\" => 10, \"130201\" => 10, \"130202\" => 10, \n",
    "        \"130203\" => 10, \"130204\" => 10, \"130205\" => 10, \n",
    "        \"130206\" => 10, \"130207\" => 10, \"130208\" => 10, \n",
    "        \"130209\" => 10, \"130210\" => 10, \"130211\" => 10, \n",
    "        \"130212\" => 10, \"130213\" => 10, \"130214\" => 10, \n",
    "        \"130215\" => 10, \"130216\" => 10, \"130217\" => 10, \n",
    "        \"130218\" => 10, \"130219\" => 10, \"130220\" => 10, \n",
    "        \"130221\" => 10, \"130222\" => 10, \"130223\" => 10, \n",
    "        \"130224\" => 10, \"130225\" => 10, \"130226\" => 10, \n",
    "        \"130227\" => 10, \"130228\" => 10, \"130229\" => 10, \n",
    "        \"130230\" => 10, \"130231\" => 10, \"130232\" => 10, \n",
    "        \"130299\" => 10, \"130300\" => 10, \"130301\" => 10, \n",
    "        \"130302\" => 10, \"130399\" => 10, \"130400\" => 10, \n",
    "        \"130401\" => 10, \"130402\" => 10, \"130499\" => 10, \n",
    "        \"139900\" => 10, \"139999\" => 10, \"140000\" => 10, \n",
    "        \"140100\" => 10, \"140101\" => 10, \"140102\" => 10, \n",
    "        \"140103\" => 10, \"140104\" => 10, \"140105\" => 10, \n",
    "        \"149900\" => 10, \"149999\" => 10, \"150000\" => 10, \n",
    "        \"150100\" => 10, \"150101\" => 10, \"150102\" => 10, \n",
    "        \"150103\" => 10, \"150104\" => 10, \"150105\" => 10, \n",
    "        \"150106\" => 10, \"150199\" => 10, \"150200\" => 10, \n",
    "        \"150201\" => 10, \"150202\" => 10, \"150203\" => 10, \n",
    "        \"150204\" => 10, \"150299\" => 10, \"150300\" => 10, \n",
    "        \"150301\" => 10, \"150302\" => 10, \"150399\" => 10, \n",
    "        \"150400\" => 10, \"150401\" => 10, \"150402\" => 10, \n",
    "        \"150499\" => 10, \"150500\" => 10, \"150501\" => 10, \n",
    "        \"150599\" => 10, \"150600\" => 10, \"150601\" => 10, \n",
    "        \"150602\" => 10, \"150699\" => 10, \"150700\" => 10, \n",
    "        \"150701\" => 10, \"150799\" => 10, \"150800\" => 10, \n",
    "        \"150801\" => 10, \"150899\" => 10, \"159900\" => 10, \n",
    "        \"159999\" => 10, \"160000\" => 10, \"160100\" => 10, \n",
    "        \"160101\" => 10, \"160102\" => 10, \"160103\" => 10, \n",
    "        \"160104\" => 10, \"160105\" => 10, \"160106\" => 10, \n",
    "        \"160107\" => 10, \"160108\" => 10, \"160199\" => 10, \n",
    "        \"160200\" => 10, \"160201\" => 10, \"160299\" => 10, \n",
    "        \"169900\" => 10, \"169999\" => 10, \"159989\" => 10, \n",
    "        \"169989\" => 10, \"110281\" => 10, \"100381\" => 10, \n",
    "        \"100383\" => 10, \"180000\" => 11, \"180100\" => 11, \n",
    "        \"180101\" => 11, \"180199\" => 11, \"180200\" => 11, \n",
    "        \"180201\" => 11, \"180202\" => 11, \"180203\" => 11, \n",
    "        \"180204\" => 11, \"180205\" => 11, \"180206\" => 11, \n",
    "        \"180207\" => 11, \"180208\" => 11, \"180209\" => 11, \n",
    "        \"180280\" => 11, \"180299\" => 11, \"180300\" => 11, \n",
    "        \"180301\" => 11, \"180302\" => 11, \"180303\" => 11, \n",
    "        \"180304\" => 11, \"180305\" => 11, \"180306\" => 11, \n",
    "        \"180307\" => 11, \"180399\" => 11, \"180400\" => 11, \n",
    "        \"180401\" => 11, \"180402\" => 11, \"180403\" => 11, \n",
    "        \"180404\" => 11, \"180405\" => 11, \"180406\" => 11, \n",
    "        \"180407\" => 11, \"180482\" => 11, \"180499\" => 11, \n",
    "        \"180500\" => 11, \"180501\" => 11, \"180502\" => 11, \n",
    "        \"180503\" => 11, \"180504\" => 11, \"180599\" => 11, \n",
    "        \"180600\" => 11, \"180601\" => 11, \"180602\" => 11, \n",
    "        \"180603\" => 11, \"180604\" => 11, \"180605\" => 11, \n",
    "        \"180699\" => 11, \"180700\" => 11, \"180701\" => 11, \n",
    "        \"180702\" => 11, \"180703\" => 11, \"180704\" => 11, \n",
    "        \"180705\" => 11, \"180782\" => 11, \"180799\" => 11, \n",
    "        \"180800\" => 11, \"180801\" => 11, \"180802\" => 11, \n",
    "        \"180803\" => 11, \"180804\" => 11, \"180805\" => 11, \n",
    "        \"180806\" => 11, \"180807\" => 11, \"180899\" => 11, \n",
    "        \"180900\" => 11, \"180901\" => 11, \"180902\" => 11, \n",
    "        \"180903\" => 11, \"180904\" => 11, \"180905\" => 11, \n",
    "        \"180999\" => 11, \"181000\" => 11, \"181001\" => 11, \n",
    "        \"181002\" => 11, \"181099\" => 11, \"181100\" => 11, \n",
    "        \"181101\" => 11, \"181199\" => 11, \"181200\" => 11, \n",
    "        \"181201\" => 11, \"181202\" => 11, \"181203\" => 11, \n",
    "        \"181204\" => 11, \"181205\" => 11, \"181206\" => 11, \n",
    "        \"181283\" => 11, \"181299\" => 11, \"181300\" => 11, \n",
    "        \"181301\" => 11, \"181302\" => 11, \"181399\" => 11, \n",
    "        \"181400\" => 11, \"181401\" => 11, \"181499\" => 11, \n",
    "        \"181500\" => 11, \"181501\" => 11, \"181599\" => 11, \n",
    "        \"181600\" => 11, \"181601\" => 11, \"181699\" => 11, \n",
    "        \"181800\" => 11, \"181801\" => 11, \"181899\" => 11, \n",
    "        \"189900\" => 11, \"189999\" => 11, \"180481\" => 11, \n",
    "        \"180381\" => 11, \"180382\" => 11, \"181081\" => 11, \n",
    "        \"180589\" => 11, \"180682\" => 11, \"500000\" => 11, \n",
    "        \"500100\" => 11, \"500101\" => 11, \"500102\" => 11, \n",
    "        \"500103\" => 11, \"500104\" => 11, \"500105\" => 11, \n",
    "        \"500106\" => 11, \"500107\" => 11, \"509900\" => 11, \n",
    "        \"509989\" => 11, \"509999\" => 11)\n",
    "        \n",
    "    return a_trans(act_dct[val])\n",
    "end"
   ]
  },
  {
   "cell_type": "markdown",
   "id": "5196284c",
   "metadata": {},
   "source": [
    "I avoid using the numbers for sequence coding because the way how the pairalign function in Bio.jl package works. It takes strings as sequences, and if the numbers are used and the number of activities is over 9, there is a problem of separating activities. There are ways around it, but I chose to use characters instead."
   ]
  },
  {
   "cell_type": "code",
   "execution_count": 16,
   "id": "998e21cb",
   "metadata": {},
   "outputs": [
    {
     "data": {
      "text/html": [
       "<table class=\"data-frame\"><thead><tr><th></th><th>caseid</th><th>actline</th><th>activity</th><th>duration</th><th>act</th></tr><tr><th></th><th>SubStri…</th><th>SubStri…</th><th>SubStri…</th><th>SubStri…</th><th>String</th></tr></thead><tbody><p>5 rows × 5 columns</p><tr><th>1</th><td>20110101110074</td><td>1</td><td>110101</td><td>10</td><td>i</td></tr><tr><th>2</th><td>20110101110074</td><td>2</td><td>020402</td><td>300</td><td>c</td></tr><tr><th>3</th><td>20110101110074</td><td>3</td><td>180482</td><td>5</td><td>k</td></tr><tr><th>4</th><td>20110101110074</td><td>4</td><td>500101</td><td>525</td><td>k</td></tr><tr><th>5</th><td>20110101110074</td><td>5</td><td>180482</td><td>5</td><td>k</td></tr></tbody></table>"
      ],
      "text/latex": [
       "\\begin{tabular}{r|ccccc}\n",
       "\t& caseid & actline & activity & duration & act\\\\\n",
       "\t\\hline\n",
       "\t& SubStri… & SubStri… & SubStri… & SubStri… & String\\\\\n",
       "\t\\hline\n",
       "\t1 & 20110101110074 & 1 & 110101 & 10 & i \\\\\n",
       "\t2 & 20110101110074 & 2 & 020402 & 300 & c \\\\\n",
       "\t3 & 20110101110074 & 3 & 180482 & 5 & k \\\\\n",
       "\t4 & 20110101110074 & 4 & 500101 & 525 & k \\\\\n",
       "\t5 & 20110101110074 & 5 & 180482 & 5 & k \\\\\n",
       "\\end{tabular}\n"
      ],
      "text/plain": [
       "5×5 DataFrame\n",
       "│ Row │ caseid         │ actline  │ activity │ duration │ act    │\n",
       "│     │ \u001b[90mSubString…\u001b[39m     │ \u001b[90mSubStri…\u001b[39m │ \u001b[90mSubStri…\u001b[39m │ \u001b[90mSubStri…\u001b[39m │ \u001b[90mString\u001b[39m │\n",
       "├─────┼────────────────┼──────────┼──────────┼──────────┼────────┤\n",
       "│ 1   │ 20110101110074 │ 1        │ 110101   │ 10       │ i      │\n",
       "│ 2   │ 20110101110074 │ 2        │ 020402   │ 300      │ c      │\n",
       "│ 3   │ 20110101110074 │ 3        │ 180482   │ 5        │ k      │\n",
       "│ 4   │ 20110101110074 │ 4        │ 500101   │ 525      │ k      │\n",
       "│ 5   │ 20110101110074 │ 5        │ 180482   │ 5        │ k      │"
      ]
     },
     "execution_count": 16,
     "metadata": {},
     "output_type": "execute_result"
    }
   ],
   "source": [
    "df[\"act\"] = activity_trans.(df[\"activity\"]) \n",
    "first(df,5)"
   ]
  },
  {
   "cell_type": "code",
   "execution_count": 17,
   "id": "a870e939",
   "metadata": {},
   "outputs": [
    {
     "data": {
      "text/plain": [
       "11-element Array{String,1}:\n",
       " \"i\"\n",
       " \"c\"\n",
       " \"k\"\n",
       " \"b\"\n",
       " \"h\"\n",
       " \"a\"\n",
       " \"j\"\n",
       " \"e\"\n",
       " \"g\"\n",
       " \"d\"\n",
       " \"f\""
      ]
     },
     "execution_count": 17,
     "metadata": {},
     "output_type": "execute_result"
    }
   ],
   "source": [
    "## check if all activities were recoded. If numbers appear in the list \n",
    "# --> some of the activities were missed\n",
    "\n",
    "unique(df[\"act\"])"
   ]
  },
  {
   "cell_type": "code",
   "execution_count": 18,
   "id": "236bc96f",
   "metadata": {},
   "outputs": [
    {
     "data": {
      "text/html": [
       "<table class=\"data-frame\"><thead><tr><th></th><th>caseid</th><th>actline</th><th>activity</th><th>duration</th><th>act</th><th>dur</th></tr><tr><th></th><th>SubStri…</th><th>SubStri…</th><th>SubStri…</th><th>SubStri…</th><th>String</th><th>Int64</th></tr></thead><tbody><p>5 rows × 6 columns</p><tr><th>1</th><td>20110101110074</td><td>1</td><td>110101</td><td>10</td><td>i</td><td>10</td></tr><tr><th>2</th><td>20110101110074</td><td>2</td><td>020402</td><td>300</td><td>c</td><td>300</td></tr><tr><th>3</th><td>20110101110074</td><td>3</td><td>180482</td><td>5</td><td>k</td><td>5</td></tr><tr><th>4</th><td>20110101110074</td><td>4</td><td>500101</td><td>525</td><td>k</td><td>525</td></tr><tr><th>5</th><td>20110101110074</td><td>5</td><td>180482</td><td>5</td><td>k</td><td>5</td></tr></tbody></table>"
      ],
      "text/latex": [
       "\\begin{tabular}{r|cccccc}\n",
       "\t& caseid & actline & activity & duration & act & dur\\\\\n",
       "\t\\hline\n",
       "\t& SubStri… & SubStri… & SubStri… & SubStri… & String & Int64\\\\\n",
       "\t\\hline\n",
       "\t1 & 20110101110074 & 1 & 110101 & 10 & i & 10 \\\\\n",
       "\t2 & 20110101110074 & 2 & 020402 & 300 & c & 300 \\\\\n",
       "\t3 & 20110101110074 & 3 & 180482 & 5 & k & 5 \\\\\n",
       "\t4 & 20110101110074 & 4 & 500101 & 525 & k & 525 \\\\\n",
       "\t5 & 20110101110074 & 5 & 180482 & 5 & k & 5 \\\\\n",
       "\\end{tabular}\n"
      ],
      "text/plain": [
       "5×6 DataFrame\n",
       "│ Row │ caseid         │ actline  │ activity │ duration │ act    │ dur   │\n",
       "│     │ \u001b[90mSubString…\u001b[39m     │ \u001b[90mSubStri…\u001b[39m │ \u001b[90mSubStri…\u001b[39m │ \u001b[90mSubStri…\u001b[39m │ \u001b[90mString\u001b[39m │ \u001b[90mInt64\u001b[39m │\n",
       "├─────┼────────────────┼──────────┼──────────┼──────────┼────────┼───────┤\n",
       "│ 1   │ 20110101110074 │ 1        │ 110101   │ 10       │ i      │ 10    │\n",
       "│ 2   │ 20110101110074 │ 2        │ 020402   │ 300      │ c      │ 300   │\n",
       "│ 3   │ 20110101110074 │ 3        │ 180482   │ 5        │ k      │ 5     │\n",
       "│ 4   │ 20110101110074 │ 4        │ 500101   │ 525      │ k      │ 525   │\n",
       "│ 5   │ 20110101110074 │ 5        │ 180482   │ 5        │ k      │ 5     │"
      ]
     },
     "execution_count": 18,
     "metadata": {},
     "output_type": "execute_result"
    }
   ],
   "source": [
    "## change the type of activity duration variable to integers\n",
    "\n",
    "df[:dur] = parse.(Int64, df[\"duration\"])\n",
    "first(df, 5)"
   ]
  },
  {
   "cell_type": "code",
   "execution_count": 19,
   "id": "4a949641",
   "metadata": {},
   "outputs": [
    {
     "data": {
      "text/html": [
       "<table class=\"data-frame\"><thead><tr><th></th><th>caseid</th><th>actline</th><th>activity</th><th>duration</th><th>act</th></tr><tr><th></th><th>SubStri…</th><th>SubStri…</th><th>SubStri…</th><th>SubStri…</th><th>String</th></tr></thead><tbody><p>3 rows × 7 columns (omitted printing of 2 columns)</p><tr><th>1</th><td>20110101110074</td><td>1</td><td>110101</td><td>10</td><td>iiiiiiiiii</td></tr><tr><th>2</th><td>20110101110074</td><td>2</td><td>020402</td><td>300</td><td>cccccccccccccccccccccccccccccccccccccccccccccccccccccccccccccccccccccccccccccccccccccccccccccccccccccccccccccccccccccccccccccccccccccccccccccccccccccccccccccccccccccccccccccccccccccccccccccccccccccccccccccccccccccccccccccccccccccccccccccccccccccccccccccccccccccccccccccccccccccccccccccccccccccccccccc</td></tr><tr><th>3</th><td>20110101110074</td><td>3</td><td>180482</td><td>5</td><td>kkkkk</td></tr></tbody></table>"
      ],
      "text/latex": [
       "\\begin{tabular}{r|cccccc}\n",
       "\t& caseid & actline & activity & duration & act & \\\\\n",
       "\t\\hline\n",
       "\t& SubStri… & SubStri… & SubStri… & SubStri… & String & \\\\\n",
       "\t\\hline\n",
       "\t1 & 20110101110074 & 1 & 110101 & 10 & iiiiiiiiii & $\\dots$ \\\\\n",
       "\t2 & 20110101110074 & 2 & 020402 & 300 & cccccccccccccccccccccccccccccccccccccccccccccccccccccccccccccccccccccccccccccccccccccccccccccccccccccccccccccccccccccccccccccccccccccccccccccccccccccccccccccccccccccccccccccccccccccccccccccccccccccccccccccccccccccccccccccccccccccccccccccccccccccccccccccccccccccccccccccccccccccccccccccccccccccccccccc & $\\dots$ \\\\\n",
       "\t3 & 20110101110074 & 3 & 180482 & 5 & kkkkk & $\\dots$ \\\\\n",
       "\\end{tabular}\n"
      ],
      "text/plain": [
       "3×7 DataFrame. Omitted printing of 3 columns\n",
       "│ Row │ caseid         │ actline  │ activity │ duration │\n",
       "│     │ \u001b[90mSubString…\u001b[39m     │ \u001b[90mSubStri…\u001b[39m │ \u001b[90mSubStri…\u001b[39m │ \u001b[90mSubStri…\u001b[39m │\n",
       "├─────┼────────────────┼──────────┼──────────┼──────────┤\n",
       "│ 1   │ 20110101110074 │ 1        │ 110101   │ 10       │\n",
       "│ 2   │ 20110101110074 │ 2        │ 020402   │ 300      │\n",
       "│ 3   │ 20110101110074 │ 3        │ 180482   │ 5        │"
      ]
     },
     "execution_count": 19,
     "metadata": {},
     "output_type": "execute_result"
    }
   ],
   "source": [
    "## create sequences separately for each activity line\n",
    "\n",
    "df[\"act_rep\"] = df[\"act\"]\n",
    "for i in 1:nrow(df)\n",
    "    df[\"act_rep\"][i] = repeat(df[\"act\"][i], df[\"dur\"][i])\n",
    "end\n",
    "first(df, 3)"
   ]
  },
  {
   "cell_type": "code",
   "execution_count": 20,
   "id": "ffa121eb",
   "metadata": {},
   "outputs": [],
   "source": [
    "## to combine the sequences by caseid, \n",
    "# I'll create a separate dictionary with caseid's as keys\n",
    "\n",
    "tempoTable = Dict()\n",
    "for i in unique(df[\"caseid\"])\n",
    "    tempoTable[i] = []\n",
    "end"
   ]
  },
  {
   "cell_type": "code",
   "execution_count": 21,
   "id": "ebebfb9c",
   "metadata": {},
   "outputs": [
    {
     "data": {
      "text/plain": [
       "chunk (generic function with 1 method)"
      ]
     },
     "execution_count": 21,
     "metadata": {},
     "output_type": "execute_result"
    }
   ],
   "source": [
    "## function that will divide an array (sequence) into equal parts of length n \n",
    "\n",
    "chunk(arr, n) = [arr[i:min(i + n - 1, end)] for i in 1:n:length(arr)]"
   ]
  },
  {
   "cell_type": "code",
   "execution_count": 22,
   "id": "2eb60d85",
   "metadata": {},
   "outputs": [],
   "source": [
    "## in these lines I loop over the df grouped by caseid\n",
    "# collect all act_rep per caseid into sequences per caseid\n",
    "# divide sequences into chunks of 15 (representing 15 minutes)\n",
    "# choose the most common activity code to represent the chunk\n",
    "\n",
    "for d in groupby(df, :caseid)\n",
    "    temp = join(push!(tempoTable[d[\"caseid\"][1]], d[\"act_rep\"])[1])\n",
    "    lst = \"\"\n",
    "    for c in chunk(temp, 15)\n",
    "        lst = lst * first(countmap(c))[1]\n",
    "    end\n",
    "    tempoTable[d[\"caseid\"][1]] = lst\n",
    "end"
   ]
  },
  {
   "cell_type": "code",
   "execution_count": 23,
   "id": "65e3a10e",
   "metadata": {},
   "outputs": [
    {
     "data": {
      "text/plain": [
       "Dict{Any,Any} with 18776 entries:\n",
       "  \"20120302120003\" => \"aaaaaaaaaaciihhhhhhhhhkkgggggkkcciihhhhhkkkggggkkkcciiii…\n",
       "  \"20180806182262\" => \"aaaaaaaaaaaaaaaaijjkkkkgggggggggggggkkkkkiihhhhhhhhhjjjj…\n",
       "  \"20141211142443\" => \"aaaaaaaaaaaaaaaajdddddkkkeekkkkkkkkjjjjjjjjjjjjjjjiiikkk…\n",
       "  \"20141109142047\" => \"aaaaaaaaaaaaaaaabbbbbbkdddjjjjjjjiiiiigggdddddddddddkkdk…\n",
       "  \"20140504141362\" => \"aaaaaaaaaacbbbkkffffffffffffffffffffffffffffffffffffffff…\n",
       "  \"20140112131728\" => \"aaaaaaaaaaaaaaaaaaaaaaaaaaaajjcccccccccccccccccccccccccc…\n",
       "  \"20150807150158\" => \"aaaaaaibbfffffjfffffffffjfffffffjjffffffffjffffffffffkhh…\n",
       "  \"20201110201074\" => \"aaaaaaaaaadddcccckgggggggggkggccccccccccbddddddddjjjkkdk…\n",
       "  \"20150112140644\" => \"aaaaaaaabiifffffffffffffffffffffffffkkkkkkkkggggkkkccccc…\n",
       "  \"20150403151136\" => \"hhcccciijjaaaaaaajjjhhhhhhhhhhhhchhccccijhhhhhhhhhhhhccj…\n",
       "  \"20110302110628\" => \"aaaaaaaaaaaaaaaaaaabjjjjjjjhhhhcihhhhhhhhhhhhhaaaaaaaajj…\n",
       "  \"20170111160007\" => \"aaaaaaaaaaaaaaaaddcdckkjjjjjjjjjjjjjjjjjjjjjjjjjjjjjkkcc…\n",
       "  \"20200605201979\" => \"aaaaaaaaaaaaaaaaciiccccjjcccccccciicjjjjjjjjjbbbbbbjjjjj…\n",
       "  \"20180403181820\" => \"aaaaaaaaaaaaaaaaciiiiiiiccccccccckgggggggggkcccccchhhhii…\n",
       "  \"20191110191403\" => \"aaaaaaaajjjjcciiccccbbbbkkjjjjjjjjkkcccccccccccccccccccc…\n",
       "  \"20120302120660\" => \"aaaaaaaaaaaabbiijjjcccjjjjjjjjhhhhhhhhhhhhhhhccccciihhhh…\n",
       "  \"20130302131716\" => \"aaaaaaaajjjjbbkkkkkgkjjjjjjjjjjjjjjjjjkcccijjjbkjjjjjjjj…\n",
       "  \"20131110131665\" => \"aaaaaaaaaaaabbbcccccccciijjjjjjjjjjjjjjjjjjjjjjcjjjjjjjj…\n",
       "  \"20191009190108\" => \"aaaaaaaaikkkkbjjjjjjjjjjjjjjjjjjcijjjjjjccccccccccccjcjj…\n",
       "  \"20171010172082\" => \"aaaaaaaaaaaaaaaacibhhbkjjjjjjjjjjjkjjjjjjjggggkkggggccgg…\n",
       "  \"20160302161799\" => \"aaaaaaaaaaaajjjjjjjjjjjjjjjbbbggggggggggggggiidddkgggggk…\n",
       "  \"20160806162407\" => \"aaaaaaaaaaaaaaaaaaaaaahhhhhhhhjjcccccccckigggggggggcccjj…\n",
       "  \"20181211180506\" => \"aaaaaaaadjckkkkkjjjjjggggkcfffffffffffffciiccckkccccjjjj…\n",
       "  \"20110403112514\" => \"aaaaaaaaaaaaaaaaaaaakkkkkkkkkkggggggggggggkjjjjjjjjjkhhh…\n",
       "  \"20140605140679\" => \"aaaaaaaaaaaaaaaaaaaaeeeeeeefffffffffccifffffffffccccccch…\n",
       "  ⋮                => ⋮"
      ]
     },
     "execution_count": 23,
     "metadata": {},
     "output_type": "execute_result"
    }
   ],
   "source": [
    "tempoTable"
   ]
  },
  {
   "cell_type": "code",
   "execution_count": 24,
   "id": "ea9b9036",
   "metadata": {},
   "outputs": [],
   "source": [
    "## when we transform sequences of 1440 minutes into 15-minutes slots\n",
    "# the resulting sequences should be 96 steps in length\n",
    "# these lines check if all values in tempoTable sequences are of length 96\n",
    "# if it doesn't print anything it means that we are OK\n",
    "\n",
    "for i in keys(tempoTable)\n",
    "    if length(tempoTable[i]) != 96\n",
    "        print(tempoTable[i])\n",
    "        print(\" \")\n",
    "    end\n",
    "end"
   ]
  },
  {
   "cell_type": "code",
   "execution_count": 25,
   "id": "5d012f7a",
   "metadata": {},
   "outputs": [
    {
     "data": {
      "text/plain": [
       "18776-element Array{Any,1}:\n",
       " \"aaaaaaaaaaciihhhhhhhhhkkgggggkkcciihhhhhkkkggggkkkcciiiihhhhjjjhhhbbbbeehhaaaaaaaaaaaaaaaaaaaaaa\"\n",
       " \"aaaaaaaaaaaaaaaaijjkkkkgggggggggggggkkkkkiihhhhhhhhhjjjjjjjjccijjjjjjjjjjjjihjaaaaaaaaaaaaaaaaaa\"\n",
       " \"aaaaaaaaaaaaaaaajdddddkkkeekkkkkkkkjjjjjjjjjjjjjjjiiikkkkkkkkkkkkddddhaaaaaaaaaaaaaaaaaaaaaaaaaa\"\n",
       " \"aaaaaaaaaaaaaaaabbbbbbkdddjjjjjjjiiiiigggdddddddddddkkdkiiiiiiijjjjjjjjjjjjjjjjjkaaaaaaaaaaaaaaa\"\n",
       " \"aaaaaaaaaacbbbkkffffffffffffffffffffffffffffffffffffffffffffkkccciiiiiiiibaaaaaaaaaaaaaaaaaaaaaa\"\n",
       " \"aaaaaaaaaaaaaaaaaaaaaaaaaaaajjcccccccccccccccccccccccccccciiiiccccccccccccccccccccccccccccccjjjj\"\n",
       " \"aaaaaaibbfffffjfffffffffjfffffffjjffffffffjffffffffffkhhhhhhhhhhhhhhhhhhhhhhaaaaaaaaaaaaaaaaaaaa\"\n",
       " \"aaaaaaaaaadddcccckgggggggggkggccccccccccbddddddddjjjkkdkkkdddkkkdddddkkkaaaaaaaaaaaaaaaaaaaaaaaa\"\n",
       " \"aaaaaaaabiifffffffffffffffffffffffffkkkkkkkkggggkkkcccccccciccfffffffffffffaaaaajaaaaaaaaaaajaaa\"\n",
       " \"hhcccciijjaaaaaaajjjhhhhhhhhhhhhchhccccijhhhhhhhhhhhhccjjaaaaaahhhhhajjjaaaaaaaaaaaaaaaaaaaaaaaa\"\n",
       " \"aaaaaaaaaaaaaaaaaaabjjjjjjjhhhhcihhhhhhhhhhhhhaaaaaaaajjjjhhhhhhhhhhjjjjjjaaaaaaaaaaaaaaaaaaaaaa\"\n",
       " \"aaaaaaaaaaaaaaaaddcdckkjjjjjjjjjjjjjjjjjjjjjjjjjjjjjkkcccciijjjjjddccbhhhhhhaaaaaaaaaaaaaaaaaaaa\"\n",
       " \"aaaaaaaaaaaaaaaaciiccccjjcccccccciicjjjjjjjjjbbbbbbjjjjjcchciiicjbjjjjjjhhhhaaaaaaaaaaaaaaaaaaaa\"\n",
       " ⋮\n",
       " \"aaaaaaaaccibhhhhhhffffffffffffffffffciiiffffffffffffffjjjjccciihhhhjjjjjaaaaaaaaaaaaaaaaaaaaaaaa\"\n",
       " \"ffffffffffffffffaaaaaaaaaaaaaaaaaaaaaaaaaaaaaaaacccccbjjjjjjjjjjkjjjjjjjjjjjjjjjjjjjjjjjjjjjjjjj\"\n",
       " \"aaaaaaaaaaaaaaaaaaaaaaaacicccbjcccjjjjjjjaaaaaajjjccccccchhhhhhhhhhhhhhhjjaaaaaaaaaaaaaaaaaaaaaa\"\n",
       " \"aaaaaaaaaaaaiiffffffffccccccccccccckkkhhhhhjjjjjjjhhhhhhjjccccccaaaaaaaaaaaaaaaaaaaaaaaaaaaaaaaa\"\n",
       " \"aaaaaaaaaaaaaaaajjccchhhhhjjcccccccccccchhhhhjjjjjjhhhhjjjjjjjjhhhhccihhjjaaaaaaaaaaaaaaaaaaaaaa\"\n",
       " \"aaaaaaaaaaaaaaaaaaaaiiiiccccccccccccccccccccccccggkeeeebbbcccihhhhhhhhhbaaaaaaaaaaaaaaaaaaaaaaaa\"\n",
       " \"aaaaaaaaaaaaaaaaaaaakkkkekkkkkiiiiiikkkekkkccccccccccccckkkjjjjkkkjjjjjjjjkkkkbaaaaaaaaaaaaaaaaa\"\n",
       " \"aaaaaaaaaaaaaakgggjjjjjcccccccccccccccjjkkjjjjjjjjjjjjjjkkiccccccccccjdddddjjaaaaaaaaaaaaaaaaaaa\"\n",
       " \"aaaaaaaaaaaaaaaaaaaaaaaaaaaaaaaabbbihhhhhhcckkkkkkjjjjjjjjjjjjjjjjjjjjjjjkkkkkaaaaaaaaaaaaaaaaaa\"\n",
       " \"aaaaaaaaaajiffffffffffffbbbbjjkkffffffkikkfffffffffffffffffijjjjjjjjjjaaaaaaaaaaaaaaaaaaaaaaaaaa\"\n",
       " \"aaaaffffaaaabbcciibbjjjjjjjjjjjjiiiiiikkkkkkkkkkjjjjkcccckjjjjjjkjjjjjjkbaaaaaaaaaaaaaaaaaaaaaaa\"\n",
       " \"aaaaaaaaaaaaaaiiiicccbcccccccccccccccccciiccccccccjjjjccciicchhhhbbhhhhhaaaaaaaaaaaaaaaaaaaaaaaa\""
      ]
     },
     "execution_count": 25,
     "metadata": {},
     "output_type": "execute_result"
    }
   ],
   "source": [
    "## let's create an array that contains only the sequences\n",
    "\n",
    "lines = collect(values(tempoTable))"
   ]
  },
  {
   "cell_type": "code",
   "execution_count": 26,
   "id": "6b3a96e8",
   "metadata": {},
   "outputs": [],
   "source": [
    "## it might be that you will be running OM again, so better save the lines variable\n",
    "outfile = \"lines.txt\"\n",
    "open(outfile, \"w\") do f\n",
    "  for i in lines\n",
    "    println(f, i)\n",
    "  end\n",
    "end"
   ]
  },
  {
   "cell_type": "code",
   "execution_count": 27,
   "id": "1de9d939",
   "metadata": {},
   "outputs": [],
   "source": [
    "## you can then restart here, by just opening the lines file\n",
    "@everywhere f = open(\"lines.txt\");\n",
    "@everywhere lines = readlines(f)"
   ]
  },
  {
   "cell_type": "code",
   "execution_count": 28,
   "id": "42b8b113",
   "metadata": {},
   "outputs": [],
   "source": [
    "## before we can distribute the tasks to our threads \n",
    "# we need to give them all the data and packages \n",
    "# that they need to perform the tasks\n",
    "@everywhere using Bio.Align\n",
    "@everywhere costmodel = CostModel(match=0, mismatch=2, insertion=1, deletion=1);"
   ]
  },
  {
   "cell_type": "code",
   "execution_count": 29,
   "id": "f227ee01",
   "metadata": {},
   "outputs": [
    {
     "data": {
      "text/plain": [
       "18776×18776 Array{UInt32,2}:\n",
       " 0x00000000  0x00000000  0x00000000  …  0x00000000  0x00000000  0x00000000\n",
       " 0x00000000  0x00000000  0x00000000     0x00000000  0x00000000  0x00000000\n",
       " 0x00000000  0x00000000  0x00000000     0x00000000  0x00000000  0x00000000\n",
       " 0x00000000  0x00000000  0x00000000     0x00000000  0x00000000  0x00000000\n",
       " 0x00000000  0x00000000  0x00000000     0x00000000  0x00000000  0x00000000\n",
       " 0x00000000  0x00000000  0x00000000  …  0x00000000  0x00000000  0x00000000\n",
       " 0x00000000  0x00000000  0x00000000     0x00000000  0x00000000  0x00000000\n",
       " 0x00000000  0x00000000  0x00000000     0x00000000  0x00000000  0x00000000\n",
       " 0x00000000  0x00000000  0x00000000     0x00000000  0x00000000  0x00000000\n",
       " 0x00000000  0x00000000  0x00000000     0x00000000  0x00000000  0x00000000\n",
       " 0x00000000  0x00000000  0x00000000  …  0x00000000  0x00000000  0x00000000\n",
       " 0x00000000  0x00000000  0x00000000     0x00000000  0x00000000  0x00000000\n",
       " 0x00000000  0x00000000  0x00000000     0x00000000  0x00000000  0x00000000\n",
       "          ⋮                          ⋱                                   ⋮\n",
       " 0x00000000  0x00000000  0x00000000     0x00000000  0x00000000  0x00000000\n",
       " 0x00000000  0x00000000  0x00000000  …  0x00000000  0x00000000  0x00000000\n",
       " 0x00000000  0x00000000  0x00000000     0x00000000  0x00000000  0x00000000\n",
       " 0x00000000  0x00000000  0x00000000     0x00000000  0x00000000  0x00000000\n",
       " 0x00000000  0x00000000  0x00000000     0x00000000  0x00000000  0x00000000\n",
       " 0x00000000  0x00000000  0x00000000     0x00000000  0x00000000  0x00000000\n",
       " 0x00000000  0x00000000  0x00000000  …  0x00000000  0x00000000  0x00000000\n",
       " 0x00000000  0x00000000  0x00000000     0x00000000  0x00000000  0x00000000\n",
       " 0x00000000  0x00000000  0x00000000     0x00000000  0x00000000  0x00000000\n",
       " 0x00000000  0x00000000  0x00000000     0x00000000  0x00000000  0x00000000\n",
       " 0x00000000  0x00000000  0x00000000     0x00000000  0x00000000  0x00000000\n",
       " 0x00000000  0x00000000  0x00000000  …  0x00000000  0x00000000  0x00000000"
      ]
     },
     "execution_count": 29,
     "metadata": {},
     "output_type": "execute_result"
    }
   ],
   "source": [
    "## let's create a dissimilarity matrix where the results will be stored\n",
    "## because I will be hashing the line codes \n",
    "# I use UInt32 for preserving memory\n",
    "# However, do not run more than 20000 sequences at once \n",
    "# --> may run into memory problems \n",
    "# and hashing problems (above 40000)\n",
    "\n",
    "d_m = zeros(UInt32, length(lines), length(lines))"
   ]
  },
  {
   "cell_type": "code",
   "execution_count": 30,
   "id": "332b7963",
   "metadata": {},
   "outputs": [],
   "source": [
    "## hash the combinations of sequences that will be matched \n",
    "# using a simple integer representing first sequence + second sequence\n",
    "\n",
    "for i in 1:length(lines)\n",
    "    for j in 1:length(lines)\n",
    "        d_m[i,j] = i*100000 + j\n",
    "    end\n",
    "end"
   ]
  },
  {
   "cell_type": "code",
   "execution_count": 31,
   "id": "bcfa9d10",
   "metadata": {},
   "outputs": [
    {
     "data": {
      "text/plain": [
       "18776×18776 DArray{UInt32,2,Array{UInt32,2}}:\n",
       " 0x000186a1  0x000186a2  0x000186a3  …  0x000198f4  0x000198f5  0x000198f6\n",
       " 0x00030d41  0x00030d42  0x00030d43     0x00031f94  0x00031f95  0x00031f96\n",
       " 0x000493e1  0x000493e2  0x000493e3     0x0004a634  0x0004a635  0x0004a636\n",
       " 0x00061a81  0x00061a82  0x00061a83     0x00062cd4  0x00062cd5  0x00062cd6\n",
       " 0x0007a121  0x0007a122  0x0007a123     0x0007b374  0x0007b375  0x0007b376\n",
       " 0x000927c1  0x000927c2  0x000927c3  …  0x00093a14  0x00093a15  0x00093a16\n",
       " 0x000aae61  0x000aae62  0x000aae63     0x000ac0b4  0x000ac0b5  0x000ac0b6\n",
       " 0x000c3501  0x000c3502  0x000c3503     0x000c4754  0x000c4755  0x000c4756\n",
       " 0x000dbba1  0x000dbba2  0x000dbba3     0x000dcdf4  0x000dcdf5  0x000dcdf6\n",
       " 0x000f4241  0x000f4242  0x000f4243     0x000f5494  0x000f5495  0x000f5496\n",
       " 0x0010c8e1  0x0010c8e2  0x0010c8e3  …  0x0010db34  0x0010db35  0x0010db36\n",
       " 0x00124f81  0x00124f82  0x00124f83     0x001261d4  0x001261d5  0x001261d6\n",
       " 0x0013d621  0x0013d622  0x0013d623     0x0013e874  0x0013e875  0x0013e876\n",
       "          ⋮                          ⋱                                   ⋮\n",
       " 0x1be9b0e1  0x1be9b0e2  0x1be9b0e3     0x1be9c334  0x1be9c335  0x1be9c336\n",
       " 0x1beb3781  0x1beb3782  0x1beb3783  …  0x1beb49d4  0x1beb49d5  0x1beb49d6\n",
       " 0x1becbe21  0x1becbe22  0x1becbe23     0x1becd074  0x1becd075  0x1becd076\n",
       " 0x1bee44c1  0x1bee44c2  0x1bee44c3     0x1bee5714  0x1bee5715  0x1bee5716\n",
       " 0x1befcb61  0x1befcb62  0x1befcb63     0x1befddb4  0x1befddb5  0x1befddb6\n",
       " 0x1bf15201  0x1bf15202  0x1bf15203     0x1bf16454  0x1bf16455  0x1bf16456\n",
       " 0x1bf2d8a1  0x1bf2d8a2  0x1bf2d8a3  …  0x1bf2eaf4  0x1bf2eaf5  0x1bf2eaf6\n",
       " 0x1bf45f41  0x1bf45f42  0x1bf45f43     0x1bf47194  0x1bf47195  0x1bf47196\n",
       " 0x1bf5e5e1  0x1bf5e5e2  0x1bf5e5e3     0x1bf5f834  0x1bf5f835  0x1bf5f836\n",
       " 0x1bf76c81  0x1bf76c82  0x1bf76c83     0x1bf77ed4  0x1bf77ed5  0x1bf77ed6\n",
       " 0x1bf8f321  0x1bf8f322  0x1bf8f323     0x1bf90574  0x1bf90575  0x1bf90576\n",
       " 0x1bfa79c1  0x1bfa79c2  0x1bfa79c3  …  0x1bfa8c14  0x1bfa8c15  0x1bfa8c16"
      ]
     },
     "execution_count": 31,
     "metadata": {},
     "output_type": "execute_result"
    }
   ],
   "source": [
    "## transform dissimilarity matrix to a distributed array\n",
    "\n",
    "A = DArray(I->d_m, (length(lines), length(lines)))"
   ]
  },
  {
   "cell_type": "code",
   "execution_count": 32,
   "id": "daae940c",
   "metadata": {},
   "outputs": [],
   "source": [
    "## function that will run optimal matching \n",
    "# 1. it will read the value and transform it into indexes of lines array\n",
    "# 2. it will run optimal matching on those two lines (sequences) \n",
    "# 3. only lower triangle of the dissimilarity matrix will be calculated \n",
    "# (for optimization purposes)\n",
    "\n",
    "@everywhere function pairalignEditNum_Opt(num::UInt32, \n",
    "        lines = lines, editdist = EditDistance(), \n",
    "        cost = costmodel)\n",
    "    pos1 = convert(UInt32, floor(num/100000))\n",
    "    pos2 = num - pos1*100000\n",
    "    if pos1>pos2\n",
    "        return distance(pairalign(editdist, lines[pos1], lines[pos2], cost))\n",
    "    else\n",
    "        return 0\n",
    "    end\n",
    "end"
   ]
  },
  {
   "cell_type": "code",
   "execution_count": 33,
   "id": "a98fe4c8",
   "metadata": {},
   "outputs": [
    {
     "data": {
      "text/plain": [
       "\"14:06\""
      ]
     },
     "execution_count": 33,
     "metadata": {},
     "output_type": "execute_result"
    }
   ],
   "source": [
    "## log the start of OM\n",
    "\n",
    "Dates.format(now(), \"HH:MM\")"
   ]
  },
  {
   "cell_type": "code",
   "execution_count": 34,
   "id": "2f6fb149",
   "metadata": {},
   "outputs": [
    {
     "data": {
      "text/plain": [
       "18776×18776 DArray{Int64,2,Array{Int64,2}}:\n",
       "   0    0    0    0    0    0    0    0  …    0    0    0    0    0    0  0\n",
       "  84    0    0    0    0    0    0    0       0    0    0    0    0    0  0\n",
       " 100   70    0    0    0    0    0    0       0    0    0    0    0    0  0\n",
       " 108   76   80    0    0    0    0    0       0    0    0    0    0    0  0\n",
       " 100  120  114  114    0    0    0    0       0    0    0    0    0    0  0\n",
       " 136  136  136  136  136    0    0    0  …    0    0    0    0    0    0  0\n",
       "  94  116  126  134   56  140    0    0       0    0    0    0    0    0  0\n",
       "  94  102   84   98  114  136  130    0       0    0    0    0    0    0  0\n",
       " 100  110  112  126   60  138   64  106       0    0    0    0    0    0  0\n",
       "  78  102  110  128  124  136   90  110       0    0    0    0    0    0  0\n",
       "  78   80   84   92  122  126   84  116  …    0    0    0    0    0    0  0\n",
       "  94   76   70   74  110  136  116  102       0    0    0    0    0    0  0\n",
       "  94   72   80   84  110  110  114   96       0    0    0    0    0    0  0\n",
       "   ⋮                        ⋮            ⋱         ⋮                      ⋮\n",
       "  80  102  106  130  110  136   82  122       0    0    0    0    0    0  0\n",
       "  82   82   80   94  114  136  120   92  …    0    0    0    0    0    0  0\n",
       " 106  124  108  130   40  136   50  112       0    0    0    0    0    0  0\n",
       "  92   94  106  114  132  136  104  114       0    0    0    0    0    0  0\n",
       "  80   84   80   92  118  134   82  116       0    0    0    0    0    0  0\n",
       " 100   78   78   82  112  112  130   86       0    0    0    0    0    0  0\n",
       " 104   90   88   88  116  146  120  124  …   90    0    0    0    0    0  0\n",
       "  72   74   78   88  122  136  118   84      76  100    0    0    0    0  0\n",
       "  88   66   60   68  112  136  124   96      86   80   72    0    0    0  0\n",
       "  98  108  130  124   56  140   28  132     124  118  114  122    0    0  0\n",
       " 114  128  108  110  120  124  132   66     104  138  104  104  134    0  0\n",
       "  74   94  106  114  110  124   98  106  …   94  118   80   86  102  112  0"
      ]
     },
     "execution_count": 34,
     "metadata": {},
     "output_type": "execute_result"
    }
   ],
   "source": [
    "output_mat_opt = pairalignEditNum_Opt.(A)"
   ]
  },
  {
   "cell_type": "code",
   "execution_count": 35,
   "id": "f12d07b6",
   "metadata": {},
   "outputs": [
    {
     "data": {
      "text/plain": [
       "\"14:32\""
      ]
     },
     "execution_count": 35,
     "metadata": {},
     "output_type": "execute_result"
    }
   ],
   "source": [
    "## log the end of OM\n",
    "\n",
    "Dates.format(now(), \"HH:MM\")"
   ]
  },
  {
   "cell_type": "code",
   "execution_count": 36,
   "id": "43487634",
   "metadata": {},
   "outputs": [
    {
     "data": {
      "text/plain": [
       "18776×18776 Array{UInt32,2}:\n",
       " 0x00000000  0x00000000  0x00000000  …  0x00000000  0x00000000  0x00000000\n",
       " 0x00000054  0x00000000  0x00000000     0x00000000  0x00000000  0x00000000\n",
       " 0x00000064  0x00000046  0x00000000     0x00000000  0x00000000  0x00000000\n",
       " 0x0000006c  0x0000004c  0x00000050     0x00000000  0x00000000  0x00000000\n",
       " 0x00000064  0x00000078  0x00000072     0x00000000  0x00000000  0x00000000\n",
       " 0x00000088  0x00000088  0x00000088  …  0x00000000  0x00000000  0x00000000\n",
       " 0x0000005e  0x00000074  0x0000007e     0x00000000  0x00000000  0x00000000\n",
       " 0x0000005e  0x00000066  0x00000054     0x00000000  0x00000000  0x00000000\n",
       " 0x00000064  0x0000006e  0x00000070     0x00000000  0x00000000  0x00000000\n",
       " 0x0000004e  0x00000066  0x0000006e     0x00000000  0x00000000  0x00000000\n",
       " 0x0000004e  0x00000050  0x00000054  …  0x00000000  0x00000000  0x00000000\n",
       " 0x0000005e  0x0000004c  0x00000046     0x00000000  0x00000000  0x00000000\n",
       " 0x0000005e  0x00000048  0x00000050     0x00000000  0x00000000  0x00000000\n",
       "          ⋮                          ⋱                                   ⋮\n",
       " 0x00000050  0x00000066  0x0000006a     0x00000000  0x00000000  0x00000000\n",
       " 0x00000052  0x00000052  0x00000050  …  0x00000000  0x00000000  0x00000000\n",
       " 0x0000006a  0x0000007c  0x0000006c     0x00000000  0x00000000  0x00000000\n",
       " 0x0000005c  0x0000005e  0x0000006a     0x00000000  0x00000000  0x00000000\n",
       " 0x00000050  0x00000054  0x00000050     0x00000000  0x00000000  0x00000000\n",
       " 0x00000064  0x0000004e  0x0000004e     0x00000000  0x00000000  0x00000000\n",
       " 0x00000068  0x0000005a  0x00000058  …  0x00000000  0x00000000  0x00000000\n",
       " 0x00000048  0x0000004a  0x0000004e     0x00000000  0x00000000  0x00000000\n",
       " 0x00000058  0x00000042  0x0000003c     0x00000000  0x00000000  0x00000000\n",
       " 0x00000062  0x0000006c  0x00000082     0x00000000  0x00000000  0x00000000\n",
       " 0x00000072  0x00000080  0x0000006c     0x00000086  0x00000000  0x00000000\n",
       " 0x0000004a  0x0000005e  0x0000006a  …  0x00000066  0x00000070  0x00000000"
      ]
     },
     "execution_count": 36,
     "metadata": {},
     "output_type": "execute_result"
    }
   ],
   "source": [
    "## let's bring the distributed array back\n",
    "\n",
    "B = Array{UInt32}(output_mat_opt)"
   ]
  },
  {
   "cell_type": "code",
   "execution_count": 37,
   "id": "12407e73",
   "metadata": {},
   "outputs": [],
   "source": [
    "for i in 1:convert(UInt32, length(B)^0.5)\n",
    "    for j in 1:convert(UInt32, length(B)^0.5)\n",
    "        if i<j\n",
    "            if B[i,j] == 0\n",
    "                B[i,j] = B[j,i]\n",
    "            end\n",
    "        end\n",
    "    end\n",
    "end"
   ]
  },
  {
   "cell_type": "code",
   "execution_count": 38,
   "id": "f93de772",
   "metadata": {},
   "outputs": [
    {
     "data": {
      "text/plain": [
       "18776×18776 Array{UInt32,2}:\n",
       " 0x00000000  0x00000054  0x00000064  …  0x00000062  0x00000072  0x0000004a\n",
       " 0x00000054  0x00000000  0x00000046     0x0000006c  0x00000080  0x0000005e\n",
       " 0x00000064  0x00000046  0x00000000     0x00000082  0x0000006c  0x0000006a\n",
       " 0x0000006c  0x0000004c  0x00000050     0x0000007c  0x0000006e  0x00000072\n",
       " 0x00000064  0x00000078  0x00000072     0x00000038  0x00000078  0x0000006e\n",
       " 0x00000088  0x00000088  0x00000088  …  0x0000008c  0x0000007c  0x0000007c\n",
       " 0x0000005e  0x00000074  0x0000007e     0x0000001c  0x00000084  0x00000062\n",
       " 0x0000005e  0x00000066  0x00000054     0x00000084  0x00000042  0x0000006a\n",
       " 0x00000064  0x0000006e  0x00000070     0x0000003e  0x00000072  0x00000076\n",
       " 0x0000004e  0x00000066  0x0000006e     0x00000064  0x00000070  0x0000005a\n",
       " 0x0000004e  0x00000050  0x00000054  …  0x0000005e  0x0000007c  0x00000046\n",
       " 0x0000005e  0x0000004c  0x00000046     0x00000076  0x0000006e  0x00000058\n",
       " 0x0000005e  0x00000048  0x00000050     0x00000072  0x0000005a  0x00000050\n",
       "          ⋮                          ⋱                                   ⋮\n",
       " 0x00000050  0x00000066  0x0000006a     0x00000058  0x00000080  0x0000004a\n",
       " 0x00000052  0x00000052  0x00000050  …  0x00000074  0x00000074  0x00000058\n",
       " 0x0000006a  0x0000007c  0x0000006c     0x00000034  0x00000076  0x0000006a\n",
       " 0x0000005c  0x0000005e  0x0000006a     0x00000070  0x00000074  0x00000064\n",
       " 0x00000050  0x00000054  0x00000050     0x0000005c  0x0000007a  0x00000054\n",
       " 0x00000064  0x0000004e  0x0000004e     0x0000007c  0x00000068  0x0000005e\n",
       " 0x00000068  0x0000005a  0x00000058  …  0x00000076  0x0000008a  0x00000076\n",
       " 0x00000048  0x0000004a  0x0000004e     0x00000072  0x00000068  0x00000050\n",
       " 0x00000058  0x00000042  0x0000003c     0x0000007a  0x00000068  0x00000056\n",
       " 0x00000062  0x0000006c  0x00000082     0x00000000  0x00000086  0x00000066\n",
       " 0x00000072  0x00000080  0x0000006c     0x00000086  0x00000000  0x00000070\n",
       " 0x0000004a  0x0000005e  0x0000006a  …  0x00000066  0x00000070  0x00000000"
      ]
     },
     "execution_count": 38,
     "metadata": {},
     "output_type": "execute_result"
    }
   ],
   "source": [
    "## here is the final dissimilarity matrix\n",
    "\n",
    "B"
   ]
  },
  {
   "cell_type": "code",
   "execution_count": 39,
   "id": "192e8ab1",
   "metadata": {},
   "outputs": [
    {
     "data": {
      "text/plain": [
       "\"dissimilarity_matrix.csv\""
      ]
     },
     "execution_count": 39,
     "metadata": {},
     "output_type": "execute_result"
    }
   ],
   "source": [
    "CSV.write(\"dissimilarity_matrix.csv\",  Tables.table(B), writeheader=false)\n",
    "## you might also want to bind the caseid with this file -- I'll let you \n",
    "# figure it out by yourself"
   ]
  },
  {
   "cell_type": "code",
   "execution_count": 40,
   "id": "dd1a2ec6",
   "metadata": {},
   "outputs": [],
   "source": [
    "## the file will be saved in the working directory storing the dissimilarity scores matrix\n",
    "## you can use that matrix for further analysis either in Julia or other languages (Python, R)"
   ]
  },
  {
   "cell_type": "markdown",
   "id": "68cfad45",
   "metadata": {},
   "source": [
    "Good luck with your research!"
   ]
  },
  {
   "cell_type": "markdown",
   "id": "24d58e3d",
   "metadata": {},
   "source": [
    "### References"
   ]
  },
  {
   "cell_type": "markdown",
   "id": "30278267",
   "metadata": {},
   "source": [
    "1. Kolpashnikova, K. (2021, November 10). Sequence Analysis: Time Use Data (ATUS) in R. https://doi.org/10.31219/osf.io/ts34v"
   ]
  }
 ],
 "metadata": {
  "@webio": {
   "lastCommId": null,
   "lastKernelId": null
  },
  "kernelspec": {
   "display_name": "Julia 1.5.2",
   "language": "julia",
   "name": "julia-1.5"
  },
  "language_info": {
   "file_extension": ".jl",
   "mimetype": "application/julia",
   "name": "julia",
   "version": "1.5.2"
  }
 },
 "nbformat": 4,
 "nbformat_minor": 5
}
