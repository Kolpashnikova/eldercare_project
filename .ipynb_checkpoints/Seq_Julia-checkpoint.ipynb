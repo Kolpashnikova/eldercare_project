{
 "cells": [
  {
   "cell_type": "code",
   "execution_count": 1,
   "id": "bdd33861",
   "metadata": {},
   "outputs": [
    {
     "data": {
      "text/plain": [
       "\"/Users/kamilakolpashnikova/Documents\""
      ]
     },
     "execution_count": 1,
     "metadata": {},
     "output_type": "execute_result"
    }
   ],
   "source": [
    "cd(\"/Users/kamilakolpashnikova/Documents\")\n",
    "pwd()"
   ]
  },
  {
   "cell_type": "code",
   "execution_count": 2,
   "id": "49677fab",
   "metadata": {},
   "outputs": [
    {
     "data": {
      "text/plain": [
       "\"/Users/kamilakolpashnikova/Documents\""
      ]
     },
     "execution_count": 2,
     "metadata": {},
     "output_type": "execute_result"
    }
   ],
   "source": [
    "home_path = pwd()\n",
    "home_path"
   ]
  },
  {
   "cell_type": "code",
   "execution_count": 3,
   "id": "c38327ca",
   "metadata": {},
   "outputs": [],
   "source": [
    "## Load packages\n",
    "using Bio\n",
    "## using Bio.Seq\n",
    "using Bio.Align\n",
    "using DataFrames\n",
    "using CSV\n",
    "using ZipFile\n",
    "using BenchmarkTools\n",
    "using StatsBase"
   ]
  },
  {
   "cell_type": "code",
   "execution_count": 4,
   "id": "2f08e4a7",
   "metadata": {},
   "outputs": [],
   "source": [
    "#import Pkg; Pkg.add(\"Pipe\")"
   ]
  },
  {
   "cell_type": "code",
   "execution_count": 5,
   "id": "10daedaa",
   "metadata": {},
   "outputs": [
    {
     "data": {
      "text/plain": [
       "1"
      ]
     },
     "execution_count": 5,
     "metadata": {},
     "output_type": "execute_result"
    }
   ],
   "source": [
    "using Distributed\n",
    "nprocs()\n"
   ]
  },
  {
   "cell_type": "code",
   "execution_count": 6,
   "id": "cf502318",
   "metadata": {},
   "outputs": [
    {
     "data": {
      "text/plain": [
       "8"
      ]
     },
     "execution_count": 6,
     "metadata": {},
     "output_type": "execute_result"
    }
   ],
   "source": [
    "import Hwloc\n",
    "n = Hwloc.num_physical_cores()"
   ]
  },
  {
   "cell_type": "code",
   "execution_count": 7,
   "id": "32850349",
   "metadata": {},
   "outputs": [
    {
     "data": {
      "text/plain": [
       "17"
      ]
     },
     "execution_count": 7,
     "metadata": {},
     "output_type": "execute_result"
    }
   ],
   "source": [
    "addprocs(n*2, exeflags=`--project=$@__DIR__`)\n",
    "nprocs()"
   ]
  },
  {
   "cell_type": "code",
   "execution_count": 8,
   "id": "0fcab17f",
   "metadata": {},
   "outputs": [],
   "source": [
    "@everywhere using Distributed\n",
    "#import Pkg; Pkg.add(\"DistributedArrays\")\n",
    "using DistributedArrays\n",
    "@everywhere using DistributedArrays"
   ]
  },
  {
   "cell_type": "markdown",
   "id": "a9709e3c",
   "metadata": {},
   "source": [
    "## Download and Unzip ATUS files"
   ]
  },
  {
   "cell_type": "code",
   "execution_count": 189,
   "id": "cf7dce95",
   "metadata": {},
   "outputs": [
    {
     "data": {
      "text/plain": [
       "open_file_to_dataframe (generic function with 1 method)"
      ]
     },
     "execution_count": 189,
     "metadata": {},
     "output_type": "execute_result"
    }
   ],
   "source": [
    "function open_file_to_dataframe(link, home_path)\n",
    "    download(link, home_path * last(split(link, \"/\")))\n",
    "    zarchive = ZipFile.Reader(home_path * last(split(link, \"/\")))\n",
    "            \n",
    "    daf  = DataFrame()\n",
    "\n",
    "    for file in zarchive.files\n",
    "        if last(split(file.name, \".\")) == \"dat\"\n",
    "            #writing .dat file into home dir (optional, needed if repeated many times)\n",
    "            write(home_path * \"/\" * file.name, read(file, String))\n",
    "            \n",
    "            #reading the file and transforming into array of arrays\n",
    "            f = open(home_path * \"/\" * file.name);\n",
    "            lines = readlines(f)\n",
    "            lines = split.(lines, ',') \n",
    "            \n",
    "            #transforming arr of arr into dataframe\n",
    "            namelist = Symbol.(lines[1])\n",
    "            \n",
    "            for (i, name) in enumerate(namelist)\n",
    "                daf[name] =  [lines[j][i] for j in 2:length(lines)]\n",
    "            end\n",
    "        end\n",
    "        \n",
    "    end\n",
    "    close(zarchive)\n",
    "    return daf  \n",
    "end"
   ]
  },
  {
   "cell_type": "code",
   "execution_count": 190,
   "id": "04141452",
   "metadata": {},
   "outputs": [
    {
     "data": {
      "text/html": [
       "<table class=\"data-frame\"><thead><tr><th></th><th>TUCASEID</th><th>TUACTIVITY_N</th><th>TUACTDUR24</th><th>TUCC5</th><th>TUCC5B</th><th>TRTCCTOT_LN</th><th>TRTCC_LN</th></tr><tr><th></th><th>SubStri…</th><th>SubStri…</th><th>SubStri…</th><th>SubStri…</th><th>SubStri…</th><th>SubStri…</th><th>SubStri…</th></tr></thead><tbody><p>4,276,392 rows × 29 columns (omitted printing of 22 columns)</p><tr><th>1</th><td>20030100013280</td><td>1</td><td>60</td><td>-1</td><td>-1</td><td>-1</td><td>-1</td></tr><tr><th>2</th><td>20030100013280</td><td>2</td><td>30</td><td>-1</td><td>-1</td><td>-1</td><td>-1</td></tr><tr><th>3</th><td>20030100013280</td><td>3</td><td>600</td><td>-1</td><td>-1</td><td>-1</td><td>-1</td></tr><tr><th>4</th><td>20030100013280</td><td>4</td><td>150</td><td>-1</td><td>-1</td><td>-1</td><td>-1</td></tr><tr><th>5</th><td>20030100013280</td><td>5</td><td>5</td><td>-1</td><td>-1</td><td>-1</td><td>-1</td></tr><tr><th>6</th><td>20030100013280</td><td>6</td><td>175</td><td>-1</td><td>-1</td><td>-1</td><td>-1</td></tr><tr><th>7</th><td>20030100013280</td><td>7</td><td>270</td><td>-1</td><td>-1</td><td>-1</td><td>-1</td></tr><tr><th>8</th><td>20030100013280</td><td>8</td><td>10</td><td>-1</td><td>-1</td><td>-1</td><td>-1</td></tr><tr><th>9</th><td>20030100013280</td><td>9</td><td>140</td><td>-1</td><td>-1</td><td>-1</td><td>-1</td></tr><tr><th>10</th><td>20030100013344</td><td>1</td><td>180</td><td>-1</td><td>-1</td><td>-1</td><td>-1</td></tr><tr><th>11</th><td>20030100013344</td><td>2</td><td>60</td><td>-1</td><td>-1</td><td>-1</td><td>60</td></tr><tr><th>12</th><td>20030100013344</td><td>3</td><td>60</td><td>-1</td><td>-1</td><td>-1</td><td>-1</td></tr><tr><th>13</th><td>20030100013344</td><td>4</td><td>60</td><td>-1</td><td>-1</td><td>-1</td><td>-1</td></tr><tr><th>14</th><td>20030100013344</td><td>5</td><td>10</td><td>-1</td><td>-1</td><td>-1</td><td>10</td></tr><tr><th>15</th><td>20030100013344</td><td>6</td><td>530</td><td>-1</td><td>-1</td><td>-1</td><td>-1</td></tr><tr><th>16</th><td>20030100013344</td><td>7</td><td>10</td><td>-1</td><td>-1</td><td>-1</td><td>10</td></tr><tr><th>17</th><td>20030100013344</td><td>8</td><td>30</td><td>-1</td><td>-1</td><td>-1</td><td>30</td></tr><tr><th>18</th><td>20030100013344</td><td>9</td><td>60</td><td>-1</td><td>-1</td><td>-1</td><td>60</td></tr><tr><th>19</th><td>20030100013344</td><td>10</td><td>440</td><td>-1</td><td>-1</td><td>-1</td><td>-1</td></tr><tr><th>20</th><td>20030100013352</td><td>1</td><td>300</td><td>-1</td><td>-1</td><td>-1</td><td>-1</td></tr><tr><th>21</th><td>20030100013352</td><td>2</td><td>60</td><td>-1</td><td>-1</td><td>-1</td><td>-1</td></tr><tr><th>22</th><td>20030100013352</td><td>3</td><td>30</td><td>-1</td><td>-1</td><td>-1</td><td>-1</td></tr><tr><th>23</th><td>20030100013352</td><td>4</td><td>5</td><td>-1</td><td>-1</td><td>-1</td><td>-1</td></tr><tr><th>24</th><td>20030100013352</td><td>5</td><td>60</td><td>-1</td><td>-1</td><td>-1</td><td>-1</td></tr><tr><th>25</th><td>20030100013352</td><td>6</td><td>5</td><td>-1</td><td>-1</td><td>-1</td><td>-1</td></tr><tr><th>26</th><td>20030100013352</td><td>7</td><td>15</td><td>-1</td><td>-1</td><td>-1</td><td>-1</td></tr><tr><th>27</th><td>20030100013352</td><td>8</td><td>120</td><td>-1</td><td>-1</td><td>-1</td><td>-1</td></tr><tr><th>28</th><td>20030100013352</td><td>9</td><td>60</td><td>-1</td><td>-1</td><td>-1</td><td>-1</td></tr><tr><th>29</th><td>20030100013352</td><td>10</td><td>180</td><td>-1</td><td>-1</td><td>-1</td><td>-1</td></tr><tr><th>30</th><td>20030100013352</td><td>11</td><td>40</td><td>-1</td><td>-1</td><td>-1</td><td>-1</td></tr><tr><th>&vellip;</th><td>&vellip;</td><td>&vellip;</td><td>&vellip;</td><td>&vellip;</td><td>&vellip;</td><td>&vellip;</td><td>&vellip;</td></tr></tbody></table>"
      ],
      "text/latex": [
       "\\begin{tabular}{r|cccccccc}\n",
       "\t& TUCASEID & TUACTIVITY\\_N & TUACTDUR24 & TUCC5 & TUCC5B & TRTCCTOT\\_LN & TRTCC\\_LN & \\\\\n",
       "\t\\hline\n",
       "\t& SubStri… & SubStri… & SubStri… & SubStri… & SubStri… & SubStri… & SubStri… & \\\\\n",
       "\t\\hline\n",
       "\t1 & 20030100013280 & 1 & 60 & -1 & -1 & -1 & -1 & $\\dots$ \\\\\n",
       "\t2 & 20030100013280 & 2 & 30 & -1 & -1 & -1 & -1 & $\\dots$ \\\\\n",
       "\t3 & 20030100013280 & 3 & 600 & -1 & -1 & -1 & -1 & $\\dots$ \\\\\n",
       "\t4 & 20030100013280 & 4 & 150 & -1 & -1 & -1 & -1 & $\\dots$ \\\\\n",
       "\t5 & 20030100013280 & 5 & 5 & -1 & -1 & -1 & -1 & $\\dots$ \\\\\n",
       "\t6 & 20030100013280 & 6 & 175 & -1 & -1 & -1 & -1 & $\\dots$ \\\\\n",
       "\t7 & 20030100013280 & 7 & 270 & -1 & -1 & -1 & -1 & $\\dots$ \\\\\n",
       "\t8 & 20030100013280 & 8 & 10 & -1 & -1 & -1 & -1 & $\\dots$ \\\\\n",
       "\t9 & 20030100013280 & 9 & 140 & -1 & -1 & -1 & -1 & $\\dots$ \\\\\n",
       "\t10 & 20030100013344 & 1 & 180 & -1 & -1 & -1 & -1 & $\\dots$ \\\\\n",
       "\t11 & 20030100013344 & 2 & 60 & -1 & -1 & -1 & 60 & $\\dots$ \\\\\n",
       "\t12 & 20030100013344 & 3 & 60 & -1 & -1 & -1 & -1 & $\\dots$ \\\\\n",
       "\t13 & 20030100013344 & 4 & 60 & -1 & -1 & -1 & -1 & $\\dots$ \\\\\n",
       "\t14 & 20030100013344 & 5 & 10 & -1 & -1 & -1 & 10 & $\\dots$ \\\\\n",
       "\t15 & 20030100013344 & 6 & 530 & -1 & -1 & -1 & -1 & $\\dots$ \\\\\n",
       "\t16 & 20030100013344 & 7 & 10 & -1 & -1 & -1 & 10 & $\\dots$ \\\\\n",
       "\t17 & 20030100013344 & 8 & 30 & -1 & -1 & -1 & 30 & $\\dots$ \\\\\n",
       "\t18 & 20030100013344 & 9 & 60 & -1 & -1 & -1 & 60 & $\\dots$ \\\\\n",
       "\t19 & 20030100013344 & 10 & 440 & -1 & -1 & -1 & -1 & $\\dots$ \\\\\n",
       "\t20 & 20030100013352 & 1 & 300 & -1 & -1 & -1 & -1 & $\\dots$ \\\\\n",
       "\t21 & 20030100013352 & 2 & 60 & -1 & -1 & -1 & -1 & $\\dots$ \\\\\n",
       "\t22 & 20030100013352 & 3 & 30 & -1 & -1 & -1 & -1 & $\\dots$ \\\\\n",
       "\t23 & 20030100013352 & 4 & 5 & -1 & -1 & -1 & -1 & $\\dots$ \\\\\n",
       "\t24 & 20030100013352 & 5 & 60 & -1 & -1 & -1 & -1 & $\\dots$ \\\\\n",
       "\t25 & 20030100013352 & 6 & 5 & -1 & -1 & -1 & -1 & $\\dots$ \\\\\n",
       "\t26 & 20030100013352 & 7 & 15 & -1 & -1 & -1 & -1 & $\\dots$ \\\\\n",
       "\t27 & 20030100013352 & 8 & 120 & -1 & -1 & -1 & -1 & $\\dots$ \\\\\n",
       "\t28 & 20030100013352 & 9 & 60 & -1 & -1 & -1 & -1 & $\\dots$ \\\\\n",
       "\t29 & 20030100013352 & 10 & 180 & -1 & -1 & -1 & -1 & $\\dots$ \\\\\n",
       "\t30 & 20030100013352 & 11 & 40 & -1 & -1 & -1 & -1 & $\\dots$ \\\\\n",
       "\t$\\dots$ & $\\dots$ & $\\dots$ & $\\dots$ & $\\dots$ & $\\dots$ & $\\dots$ & $\\dots$ &  \\\\\n",
       "\\end{tabular}\n"
      ],
      "text/plain": [
       "4276392×29 DataFrame. Omitted printing of 24 columns\n",
       "│ Row     │ TUCASEID       │ TUACTIVITY_N │ TUACTDUR24 │ TUCC5    │ TUCC5B   │\n",
       "│         │ \u001b[90mSubString…\u001b[39m     │ \u001b[90mSubString…\u001b[39m   │ \u001b[90mSubString…\u001b[39m │ \u001b[90mSubStri…\u001b[39m │ \u001b[90mSubStri…\u001b[39m │\n",
       "├─────────┼────────────────┼──────────────┼────────────┼──────────┼──────────┤\n",
       "│ 1       │ 20030100013280 │ 1            │ 60         │ -1       │ -1       │\n",
       "│ 2       │ 20030100013280 │ 2            │ 30         │ -1       │ -1       │\n",
       "│ 3       │ 20030100013280 │ 3            │ 600        │ -1       │ -1       │\n",
       "│ 4       │ 20030100013280 │ 4            │ 150        │ -1       │ -1       │\n",
       "│ 5       │ 20030100013280 │ 5            │ 5          │ -1       │ -1       │\n",
       "│ 6       │ 20030100013280 │ 6            │ 175        │ -1       │ -1       │\n",
       "│ 7       │ 20030100013280 │ 7            │ 270        │ -1       │ -1       │\n",
       "│ 8       │ 20030100013280 │ 8            │ 10         │ -1       │ -1       │\n",
       "│ 9       │ 20030100013280 │ 9            │ 140        │ -1       │ -1       │\n",
       "│ 10      │ 20030100013344 │ 1            │ 180        │ -1       │ -1       │\n",
       "⋮\n",
       "│ 4276382 │ 20201212202329 │ 4            │ 60         │ 0        │ 0        │\n",
       "│ 4276383 │ 20201212202329 │ 5            │ 60         │ 0        │ 0        │\n",
       "│ 4276384 │ 20201212202329 │ 6            │ 60         │ 0        │ 0        │\n",
       "│ 4276385 │ 20201212202329 │ 7            │ 180        │ 0        │ 0        │\n",
       "│ 4276386 │ 20201212202329 │ 8            │ 60         │ 0        │ 0        │\n",
       "│ 4276387 │ 20201212202329 │ 9            │ 45         │ 0        │ 0        │\n",
       "│ 4276388 │ 20201212202329 │ 10           │ 120        │ 0        │ 0        │\n",
       "│ 4276389 │ 20201212202329 │ 11           │ 180        │ 0        │ 0        │\n",
       "│ 4276390 │ 20201212202329 │ 12           │ 180        │ 0        │ 0        │\n",
       "│ 4276391 │ 20201212202329 │ 13           │ 120        │ 0        │ 0        │\n",
       "│ 4276392 │ 20201212202329 │ 14           │ 45         │ 0        │ 0        │"
      ]
     },
     "execution_count": 190,
     "metadata": {},
     "output_type": "execute_result"
    }
   ],
   "source": [
    "link = \"https://www.bls.gov/tus/special.requests/atusact-0320.zip\"\n",
    "#download(link)\n",
    "df_full = open_file_to_dataframe(link, home_path)"
   ]
  },
  {
   "cell_type": "code",
   "execution_count": 7,
   "id": "fad823e4",
   "metadata": {},
   "outputs": [
    {
     "data": {
      "text/html": [
       "<table class=\"data-frame\"><thead><tr><th></th><th>TUCASEID</th><th>TUACTIVITY_N</th><th>TUACTDUR24</th><th>TUCC5</th><th>TUCC5B</th><th>TRTCCTOT_LN</th><th>TRTCC_LN</th></tr><tr><th></th><th>SubStri…</th><th>SubStri…</th><th>SubStri…</th><th>SubStri…</th><th>SubStri…</th><th>SubStri…</th><th>SubStri…</th></tr></thead><tbody><p>5 rows × 29 columns (omitted printing of 22 columns)</p><tr><th>1</th><td>20030100013280</td><td>1</td><td>60</td><td>-1</td><td>-1</td><td>-1</td><td>-1</td></tr><tr><th>2</th><td>20030100013280</td><td>2</td><td>30</td><td>-1</td><td>-1</td><td>-1</td><td>-1</td></tr><tr><th>3</th><td>20030100013280</td><td>3</td><td>600</td><td>-1</td><td>-1</td><td>-1</td><td>-1</td></tr><tr><th>4</th><td>20030100013280</td><td>4</td><td>150</td><td>-1</td><td>-1</td><td>-1</td><td>-1</td></tr><tr><th>5</th><td>20030100013280</td><td>5</td><td>5</td><td>-1</td><td>-1</td><td>-1</td><td>-1</td></tr></tbody></table>"
      ],
      "text/latex": [
       "\\begin{tabular}{r|cccccccc}\n",
       "\t& TUCASEID & TUACTIVITY\\_N & TUACTDUR24 & TUCC5 & TUCC5B & TRTCCTOT\\_LN & TRTCC\\_LN & \\\\\n",
       "\t\\hline\n",
       "\t& SubStri… & SubStri… & SubStri… & SubStri… & SubStri… & SubStri… & SubStri… & \\\\\n",
       "\t\\hline\n",
       "\t1 & 20030100013280 & 1 & 60 & -1 & -1 & -1 & -1 & $\\dots$ \\\\\n",
       "\t2 & 20030100013280 & 2 & 30 & -1 & -1 & -1 & -1 & $\\dots$ \\\\\n",
       "\t3 & 20030100013280 & 3 & 600 & -1 & -1 & -1 & -1 & $\\dots$ \\\\\n",
       "\t4 & 20030100013280 & 4 & 150 & -1 & -1 & -1 & -1 & $\\dots$ \\\\\n",
       "\t5 & 20030100013280 & 5 & 5 & -1 & -1 & -1 & -1 & $\\dots$ \\\\\n",
       "\\end{tabular}\n"
      ],
      "text/plain": [
       "5×29 DataFrame. Omitted printing of 24 columns\n",
       "│ Row │ TUCASEID       │ TUACTIVITY_N │ TUACTDUR24 │ TUCC5    │ TUCC5B   │\n",
       "│     │ \u001b[90mSubString…\u001b[39m     │ \u001b[90mSubString…\u001b[39m   │ \u001b[90mSubString…\u001b[39m │ \u001b[90mSubStri…\u001b[39m │ \u001b[90mSubStri…\u001b[39m │\n",
       "├─────┼────────────────┼──────────────┼────────────┼──────────┼──────────┤\n",
       "│ 1   │ 20030100013280 │ 1            │ 60         │ -1       │ -1       │\n",
       "│ 2   │ 20030100013280 │ 2            │ 30         │ -1       │ -1       │\n",
       "│ 3   │ 20030100013280 │ 3            │ 600        │ -1       │ -1       │\n",
       "│ 4   │ 20030100013280 │ 4            │ 150        │ -1       │ -1       │\n",
       "│ 5   │ 20030100013280 │ 5            │ 5          │ -1       │ -1       │"
      ]
     },
     "execution_count": 7,
     "metadata": {},
     "output_type": "execute_result"
    }
   ],
   "source": [
    "first(df_full, 5)"
   ]
  },
  {
   "cell_type": "code",
   "execution_count": 8,
   "id": "2528e4bd",
   "metadata": {},
   "outputs": [
    {
     "data": {
      "text/html": [
       "<table class=\"data-frame\"><thead><tr><th></th><th>TUCASEID</th><th>TEAGE_EC</th><th>TEELDUR</th><th>TEELWHO</th><th>TEELYRS</th><th>TRELHH</th><th>TUECLNO</th><th>TULINENO</th></tr><tr><th></th><th>SubStri…</th><th>SubStri…</th><th>SubStri…</th><th>SubStri…</th><th>SubStri…</th><th>SubStri…</th><th>SubStri…</th><th>SubStri…</th></tr></thead><tbody><p>5 rows × 8 columns</p><tr><th>1</th><td>20110101110074</td><td>70</td><td>4</td><td>44</td><td>2</td><td>0</td><td>5</td><td>-1</td></tr><tr><th>2</th><td>20110101110156</td><td>85</td><td>4</td><td>46</td><td>2</td><td>0</td><td>5</td><td>-1</td></tr><tr><th>3</th><td>20110101110507</td><td>80</td><td>1</td><td>55</td><td>-1</td><td>0</td><td>2</td><td>-1</td></tr><tr><th>4</th><td>20110101110521</td><td>85</td><td>3</td><td>43</td><td>-1</td><td>0</td><td>3</td><td>-1</td></tr><tr><th>5</th><td>20110101110522</td><td>80</td><td>4</td><td>44</td><td>6</td><td>0</td><td>2</td><td>-1</td></tr></tbody></table>"
      ],
      "text/latex": [
       "\\begin{tabular}{r|cccccccc}\n",
       "\t& TUCASEID & TEAGE\\_EC & TEELDUR & TEELWHO & TEELYRS & TRELHH & TUECLNO & TULINENO\\\\\n",
       "\t\\hline\n",
       "\t& SubStri… & SubStri… & SubStri… & SubStri… & SubStri… & SubStri… & SubStri… & SubStri…\\\\\n",
       "\t\\hline\n",
       "\t1 & 20110101110074 & 70 & 4 & 44 & 2 & 0 & 5 & -1 \\\\\n",
       "\t2 & 20110101110156 & 85 & 4 & 46 & 2 & 0 & 5 & -1 \\\\\n",
       "\t3 & 20110101110507 & 80 & 1 & 55 & -1 & 0 & 2 & -1 \\\\\n",
       "\t4 & 20110101110521 & 85 & 3 & 43 & -1 & 0 & 3 & -1 \\\\\n",
       "\t5 & 20110101110522 & 80 & 4 & 44 & 6 & 0 & 2 & -1 \\\\\n",
       "\\end{tabular}\n"
      ],
      "text/plain": [
       "5×8 DataFrame. Omitted printing of 2 columns\n",
       "│ Row │ TUCASEID       │ TEAGE_EC │ TEELDUR  │ TEELWHO  │ TEELYRS  │ TRELHH   │\n",
       "│     │ \u001b[90mSubString…\u001b[39m     │ \u001b[90mSubStri…\u001b[39m │ \u001b[90mSubStri…\u001b[39m │ \u001b[90mSubStri…\u001b[39m │ \u001b[90mSubStri…\u001b[39m │ \u001b[90mSubStri…\u001b[39m │\n",
       "├─────┼────────────────┼──────────┼──────────┼──────────┼──────────┼──────────┤\n",
       "│ 1   │ 20110101110074 │ 70       │ 4        │ 44       │ 2        │ 0        │\n",
       "│ 2   │ 20110101110156 │ 85       │ 4        │ 46       │ 2        │ 0        │\n",
       "│ 3   │ 20110101110507 │ 80       │ 1        │ 55       │ -1       │ 0        │\n",
       "│ 4   │ 20110101110521 │ 85       │ 3        │ 43       │ -1       │ 0        │\n",
       "│ 5   │ 20110101110522 │ 80       │ 4        │ 44       │ 6        │ 0        │"
      ]
     },
     "execution_count": 8,
     "metadata": {},
     "output_type": "execute_result"
    }
   ],
   "source": [
    "df_ec = open_file_to_dataframe(\"https://www.bls.gov/tus/special.requests/atusrostec-1120.zip\", home_path)\n",
    "first(df_ec, 5)"
   ]
  },
  {
   "cell_type": "code",
   "execution_count": 9,
   "id": "fed6f517",
   "metadata": {},
   "outputs": [
    {
     "data": {
      "text/html": [
       "<table class=\"data-frame\"><thead><tr><th></th><th>TUCASEID</th></tr><tr><th></th><th>SubStri…</th></tr></thead><tbody><p>5 rows × 1 columns</p><tr><th>1</th><td>20110101110074</td></tr><tr><th>2</th><td>20110101110156</td></tr><tr><th>3</th><td>20110101110507</td></tr><tr><th>4</th><td>20110101110521</td></tr><tr><th>5</th><td>20110101110522</td></tr></tbody></table>"
      ],
      "text/latex": [
       "\\begin{tabular}{r|c}\n",
       "\t& TUCASEID\\\\\n",
       "\t\\hline\n",
       "\t& SubStri…\\\\\n",
       "\t\\hline\n",
       "\t1 & 20110101110074 \\\\\n",
       "\t2 & 20110101110156 \\\\\n",
       "\t3 & 20110101110507 \\\\\n",
       "\t4 & 20110101110521 \\\\\n",
       "\t5 & 20110101110522 \\\\\n",
       "\\end{tabular}\n"
      ],
      "text/plain": [
       "5×1 DataFrame\n",
       "│ Row │ TUCASEID       │\n",
       "│     │ \u001b[90mSubString…\u001b[39m     │\n",
       "├─────┼────────────────┤\n",
       "│ 1   │ 20110101110074 │\n",
       "│ 2   │ 20110101110156 │\n",
       "│ 3   │ 20110101110507 │\n",
       "│ 4   │ 20110101110521 │\n",
       "│ 5   │ 20110101110522 │"
      ]
     },
     "execution_count": 9,
     "metadata": {},
     "output_type": "execute_result"
    }
   ],
   "source": [
    "#select only ids\n",
    "df_ec = select(df_ec, \"TUCASEID\")\n",
    "first(df_ec, 5)"
   ]
  },
  {
   "cell_type": "code",
   "execution_count": 10,
   "id": "b3fc64bf",
   "metadata": {},
   "outputs": [
    {
     "data": {
      "text/plain": [
       "395955"
      ]
     },
     "execution_count": 10,
     "metadata": {},
     "output_type": "execute_result"
    }
   ],
   "source": [
    "## filter caregivers\n",
    "\n",
    "df = innerjoin(df_full, df_ec, on=\"TUCASEID\")\n",
    "df = unique(df)\n",
    "nrow(df)"
   ]
  },
  {
   "cell_type": "code",
   "execution_count": 11,
   "id": "560dd669",
   "metadata": {},
   "outputs": [
    {
     "data": {
      "text/html": [
       "<table class=\"data-frame\"><thead><tr><th></th><th>TUCASEID</th><th>TUACTIVITY_N</th><th>TUACTDUR24</th><th>TUCC5</th><th>TUCC5B</th><th>TRTCCTOT_LN</th><th>TRTCC_LN</th></tr><tr><th></th><th>SubStri…</th><th>SubStri…</th><th>SubStri…</th><th>SubStri…</th><th>SubStri…</th><th>SubStri…</th><th>SubStri…</th></tr></thead><tbody><p>20 rows × 29 columns (omitted printing of 22 columns)</p><tr><th>1</th><td>20201212202312</td><td>1</td><td>300</td><td>1</td><td>0</td><td>0</td><td>0</td></tr><tr><th>2</th><td>20201212202312</td><td>2</td><td>30</td><td>1</td><td>0</td><td>30</td><td>30</td></tr><tr><th>3</th><td>20201212202312</td><td>3</td><td>30</td><td>1</td><td>0</td><td>30</td><td>30</td></tr><tr><th>4</th><td>20201212202312</td><td>4</td><td>5</td><td>1</td><td>0</td><td>5</td><td>5</td></tr><tr><th>5</th><td>20201212202312</td><td>5</td><td>5</td><td>1</td><td>0</td><td>5</td><td>5</td></tr><tr><th>6</th><td>20201212202312</td><td>6</td><td>60</td><td>1</td><td>0</td><td>60</td><td>60</td></tr><tr><th>7</th><td>20201212202312</td><td>7</td><td>5</td><td>1</td><td>0</td><td>5</td><td>5</td></tr><tr><th>8</th><td>20201212202312</td><td>8</td><td>60</td><td>1</td><td>0</td><td>60</td><td>60</td></tr><tr><th>9</th><td>20201212202312</td><td>9</td><td>20</td><td>1</td><td>0</td><td>20</td><td>20</td></tr><tr><th>10</th><td>20201212202312</td><td>10</td><td>10</td><td>1</td><td>0</td><td>10</td><td>10</td></tr><tr><th>11</th><td>20201212202312</td><td>11</td><td>20</td><td>1</td><td>0</td><td>20</td><td>20</td></tr><tr><th>12</th><td>20201212202312</td><td>12</td><td>60</td><td>1</td><td>0</td><td>60</td><td>60</td></tr><tr><th>13</th><td>20201212202312</td><td>13</td><td>120</td><td>1</td><td>0</td><td>120</td><td>120</td></tr><tr><th>14</th><td>20201212202312</td><td>14</td><td>15</td><td>1</td><td>0</td><td>15</td><td>15</td></tr><tr><th>15</th><td>20201212202312</td><td>15</td><td>20</td><td>1</td><td>0</td><td>20</td><td>20</td></tr><tr><th>16</th><td>20201212202312</td><td>16</td><td>20</td><td>1</td><td>0</td><td>20</td><td>20</td></tr><tr><th>17</th><td>20201212202312</td><td>17</td><td>30</td><td>1</td><td>0</td><td>30</td><td>30</td></tr><tr><th>18</th><td>20201212202312</td><td>18</td><td>90</td><td>1</td><td>0</td><td>90</td><td>90</td></tr><tr><th>19</th><td>20201212202312</td><td>19</td><td>120</td><td>1</td><td>0</td><td>120</td><td>120</td></tr><tr><th>20</th><td>20201212202312</td><td>20</td><td>420</td><td>1</td><td>0</td><td>0</td><td>0</td></tr></tbody></table>"
      ],
      "text/latex": [
       "\\begin{tabular}{r|cccccccc}\n",
       "\t& TUCASEID & TUACTIVITY\\_N & TUACTDUR24 & TUCC5 & TUCC5B & TRTCCTOT\\_LN & TRTCC\\_LN & \\\\\n",
       "\t\\hline\n",
       "\t& SubStri… & SubStri… & SubStri… & SubStri… & SubStri… & SubStri… & SubStri… & \\\\\n",
       "\t\\hline\n",
       "\t1 & 20201212202312 & 1 & 300 & 1 & 0 & 0 & 0 & $\\dots$ \\\\\n",
       "\t2 & 20201212202312 & 2 & 30 & 1 & 0 & 30 & 30 & $\\dots$ \\\\\n",
       "\t3 & 20201212202312 & 3 & 30 & 1 & 0 & 30 & 30 & $\\dots$ \\\\\n",
       "\t4 & 20201212202312 & 4 & 5 & 1 & 0 & 5 & 5 & $\\dots$ \\\\\n",
       "\t5 & 20201212202312 & 5 & 5 & 1 & 0 & 5 & 5 & $\\dots$ \\\\\n",
       "\t6 & 20201212202312 & 6 & 60 & 1 & 0 & 60 & 60 & $\\dots$ \\\\\n",
       "\t7 & 20201212202312 & 7 & 5 & 1 & 0 & 5 & 5 & $\\dots$ \\\\\n",
       "\t8 & 20201212202312 & 8 & 60 & 1 & 0 & 60 & 60 & $\\dots$ \\\\\n",
       "\t9 & 20201212202312 & 9 & 20 & 1 & 0 & 20 & 20 & $\\dots$ \\\\\n",
       "\t10 & 20201212202312 & 10 & 10 & 1 & 0 & 10 & 10 & $\\dots$ \\\\\n",
       "\t11 & 20201212202312 & 11 & 20 & 1 & 0 & 20 & 20 & $\\dots$ \\\\\n",
       "\t12 & 20201212202312 & 12 & 60 & 1 & 0 & 60 & 60 & $\\dots$ \\\\\n",
       "\t13 & 20201212202312 & 13 & 120 & 1 & 0 & 120 & 120 & $\\dots$ \\\\\n",
       "\t14 & 20201212202312 & 14 & 15 & 1 & 0 & 15 & 15 & $\\dots$ \\\\\n",
       "\t15 & 20201212202312 & 15 & 20 & 1 & 0 & 20 & 20 & $\\dots$ \\\\\n",
       "\t16 & 20201212202312 & 16 & 20 & 1 & 0 & 20 & 20 & $\\dots$ \\\\\n",
       "\t17 & 20201212202312 & 17 & 30 & 1 & 0 & 30 & 30 & $\\dots$ \\\\\n",
       "\t18 & 20201212202312 & 18 & 90 & 1 & 0 & 90 & 90 & $\\dots$ \\\\\n",
       "\t19 & 20201212202312 & 19 & 120 & 1 & 0 & 120 & 120 & $\\dots$ \\\\\n",
       "\t20 & 20201212202312 & 20 & 420 & 1 & 0 & 0 & 0 & $\\dots$ \\\\\n",
       "\\end{tabular}\n"
      ],
      "text/plain": [
       "20×29 DataFrame. Omitted printing of 24 columns\n",
       "│ Row │ TUCASEID       │ TUACTIVITY_N │ TUACTDUR24 │ TUCC5    │ TUCC5B   │\n",
       "│     │ \u001b[90mSubString…\u001b[39m     │ \u001b[90mSubString…\u001b[39m   │ \u001b[90mSubString…\u001b[39m │ \u001b[90mSubStri…\u001b[39m │ \u001b[90mSubStri…\u001b[39m │\n",
       "├─────┼────────────────┼──────────────┼────────────┼──────────┼──────────┤\n",
       "│ 1   │ 20201212202312 │ 1            │ 300        │ 1        │ 0        │\n",
       "│ 2   │ 20201212202312 │ 2            │ 30         │ 1        │ 0        │\n",
       "│ 3   │ 20201212202312 │ 3            │ 30         │ 1        │ 0        │\n",
       "│ 4   │ 20201212202312 │ 4            │ 5          │ 1        │ 0        │\n",
       "│ 5   │ 20201212202312 │ 5            │ 5          │ 1        │ 0        │\n",
       "│ 6   │ 20201212202312 │ 6            │ 60         │ 1        │ 0        │\n",
       "│ 7   │ 20201212202312 │ 7            │ 5          │ 1        │ 0        │\n",
       "│ 8   │ 20201212202312 │ 8            │ 60         │ 1        │ 0        │\n",
       "│ 9   │ 20201212202312 │ 9            │ 20         │ 1        │ 0        │\n",
       "│ 10  │ 20201212202312 │ 10           │ 10         │ 1        │ 0        │\n",
       "│ 11  │ 20201212202312 │ 11           │ 20         │ 1        │ 0        │\n",
       "│ 12  │ 20201212202312 │ 12           │ 60         │ 1        │ 0        │\n",
       "│ 13  │ 20201212202312 │ 13           │ 120        │ 1        │ 0        │\n",
       "│ 14  │ 20201212202312 │ 14           │ 15         │ 1        │ 0        │\n",
       "│ 15  │ 20201212202312 │ 15           │ 20         │ 1        │ 0        │\n",
       "│ 16  │ 20201212202312 │ 16           │ 20         │ 1        │ 0        │\n",
       "│ 17  │ 20201212202312 │ 17           │ 30         │ 1        │ 0        │\n",
       "│ 18  │ 20201212202312 │ 18           │ 90         │ 1        │ 0        │\n",
       "│ 19  │ 20201212202312 │ 19           │ 120        │ 1        │ 0        │\n",
       "│ 20  │ 20201212202312 │ 20           │ 420        │ 1        │ 0        │"
      ]
     },
     "execution_count": 11,
     "metadata": {},
     "output_type": "execute_result"
    }
   ],
   "source": [
    "last(df, 20)"
   ]
  },
  {
   "cell_type": "code",
   "execution_count": 12,
   "id": "b0db0494",
   "metadata": {},
   "outputs": [
    {
     "data": {
      "text/html": [
       "<table class=\"data-frame\"><thead><tr><th></th><th>TUCASEID</th><th>TUACTIVITY_N</th><th>TRCODEP</th><th>TUACTDUR24</th><th>TUSTARTTIM</th><th>TUSTOPTIME</th></tr><tr><th></th><th>SubStri…</th><th>SubStri…</th><th>SubStri…</th><th>SubStri…</th><th>SubStri…</th><th>SubStri…</th></tr></thead><tbody><p>5 rows × 6 columns</p><tr><th>1</th><td>20201212202312</td><td>16</td><td>020203</td><td>20</td><td>16:40:00</td><td>17:00:00</td></tr><tr><th>2</th><td>20201212202312</td><td>17</td><td>010201</td><td>30</td><td>17:00:00</td><td>17:30:00</td></tr><tr><th>3</th><td>20201212202312</td><td>18</td><td>120312</td><td>90</td><td>17:30:00</td><td>19:00:00</td></tr><tr><th>4</th><td>20201212202312</td><td>19</td><td>120303</td><td>120</td><td>19:00:00</td><td>21:00:00</td></tr><tr><th>5</th><td>20201212202312</td><td>20</td><td>010101</td><td>420</td><td>21:00:00</td><td>07:45:00</td></tr></tbody></table>"
      ],
      "text/latex": [
       "\\begin{tabular}{r|cccccc}\n",
       "\t& TUCASEID & TUACTIVITY\\_N & TRCODEP & TUACTDUR24 & TUSTARTTIM & TUSTOPTIME\\\\\n",
       "\t\\hline\n",
       "\t& SubStri… & SubStri… & SubStri… & SubStri… & SubStri… & SubStri…\\\\\n",
       "\t\\hline\n",
       "\t1 & 20201212202312 & 16 & 020203 & 20 & 16:40:00 & 17:00:00 \\\\\n",
       "\t2 & 20201212202312 & 17 & 010201 & 30 & 17:00:00 & 17:30:00 \\\\\n",
       "\t3 & 20201212202312 & 18 & 120312 & 90 & 17:30:00 & 19:00:00 \\\\\n",
       "\t4 & 20201212202312 & 19 & 120303 & 120 & 19:00:00 & 21:00:00 \\\\\n",
       "\t5 & 20201212202312 & 20 & 010101 & 420 & 21:00:00 & 07:45:00 \\\\\n",
       "\\end{tabular}\n"
      ],
      "text/plain": [
       "5×6 DataFrame. Omitted printing of 1 columns\n",
       "│ Row │ TUCASEID       │ TUACTIVITY_N │ TRCODEP  │ TUACTDUR24 │ TUSTARTTIM │\n",
       "│     │ \u001b[90mSubString…\u001b[39m     │ \u001b[90mSubString…\u001b[39m   │ \u001b[90mSubStri…\u001b[39m │ \u001b[90mSubString…\u001b[39m │ \u001b[90mSubString…\u001b[39m │\n",
       "├─────┼────────────────┼──────────────┼──────────┼────────────┼────────────┤\n",
       "│ 1   │ 20201212202312 │ 16           │ 020203   │ 20         │ 16:40:00   │\n",
       "│ 2   │ 20201212202312 │ 17           │ 010201   │ 30         │ 17:00:00   │\n",
       "│ 3   │ 20201212202312 │ 18           │ 120312   │ 90         │ 17:30:00   │\n",
       "│ 4   │ 20201212202312 │ 19           │ 120303   │ 120        │ 19:00:00   │\n",
       "│ 5   │ 20201212202312 │ 20           │ 010101   │ 420        │ 21:00:00   │"
      ]
     },
     "execution_count": 12,
     "metadata": {},
     "output_type": "execute_result"
    }
   ],
   "source": [
    "df = select(df, [\"TUCASEID\", \"TUACTIVITY_N\", \"TRCODEP\", \"TUACTDUR24\", \"TUSTARTTIM\", \"TUSTOPTIME\"])\n",
    "last(df, 5)"
   ]
  },
  {
   "cell_type": "code",
   "execution_count": 13,
   "id": "3ab4987a",
   "metadata": {},
   "outputs": [
    {
     "data": {
      "text/html": [
       "<table class=\"data-frame\"><thead><tr><th></th><th>caseid</th><th>actline</th><th>activity</th><th>duration</th><th>start</th><th>stop</th></tr><tr><th></th><th>SubStri…</th><th>SubStri…</th><th>SubStri…</th><th>SubStri…</th><th>SubStri…</th><th>SubStri…</th></tr></thead><tbody><p>5 rows × 6 columns</p><tr><th>1</th><td>20110101110074</td><td>1</td><td>110101</td><td>10</td><td>04:00:00</td><td>04:10:00</td></tr><tr><th>2</th><td>20110101110074</td><td>2</td><td>020402</td><td>300</td><td>04:10:00</td><td>09:10:00</td></tr><tr><th>3</th><td>20110101110074</td><td>3</td><td>180482</td><td>5</td><td>09:10:00</td><td>09:15:00</td></tr><tr><th>4</th><td>20110101110074</td><td>4</td><td>500101</td><td>525</td><td>09:15:00</td><td>18:00:00</td></tr><tr><th>5</th><td>20110101110074</td><td>5</td><td>180482</td><td>5</td><td>18:00:00</td><td>18:05:00</td></tr></tbody></table>"
      ],
      "text/latex": [
       "\\begin{tabular}{r|cccccc}\n",
       "\t& caseid & actline & activity & duration & start & stop\\\\\n",
       "\t\\hline\n",
       "\t& SubStri… & SubStri… & SubStri… & SubStri… & SubStri… & SubStri…\\\\\n",
       "\t\\hline\n",
       "\t1 & 20110101110074 & 1 & 110101 & 10 & 04:00:00 & 04:10:00 \\\\\n",
       "\t2 & 20110101110074 & 2 & 020402 & 300 & 04:10:00 & 09:10:00 \\\\\n",
       "\t3 & 20110101110074 & 3 & 180482 & 5 & 09:10:00 & 09:15:00 \\\\\n",
       "\t4 & 20110101110074 & 4 & 500101 & 525 & 09:15:00 & 18:00:00 \\\\\n",
       "\t5 & 20110101110074 & 5 & 180482 & 5 & 18:00:00 & 18:05:00 \\\\\n",
       "\\end{tabular}\n"
      ],
      "text/plain": [
       "5×6 DataFrame\n",
       "│ Row │ caseid         │ actline  │ activity │ duration │ start    │ stop     │\n",
       "│     │ \u001b[90mSubString…\u001b[39m     │ \u001b[90mSubStri…\u001b[39m │ \u001b[90mSubStri…\u001b[39m │ \u001b[90mSubStri…\u001b[39m │ \u001b[90mSubStri…\u001b[39m │ \u001b[90mSubStri…\u001b[39m │\n",
       "├─────┼────────────────┼──────────┼──────────┼──────────┼──────────┼──────────┤\n",
       "│ 1   │ 20110101110074 │ 1        │ 110101   │ 10       │ 04:00:00 │ 04:10:00 │\n",
       "│ 2   │ 20110101110074 │ 2        │ 020402   │ 300      │ 04:10:00 │ 09:10:00 │\n",
       "│ 3   │ 20110101110074 │ 3        │ 180482   │ 5        │ 09:10:00 │ 09:15:00 │\n",
       "│ 4   │ 20110101110074 │ 4        │ 500101   │ 525      │ 09:15:00 │ 18:00:00 │\n",
       "│ 5   │ 20110101110074 │ 5        │ 180482   │ 5        │ 18:00:00 │ 18:05:00 │"
      ]
     },
     "execution_count": 13,
     "metadata": {},
     "output_type": "execute_result"
    }
   ],
   "source": [
    "colnames = [\"caseid\", \"actline\", \"activity\", \"duration\", \"start\", \"stop\"]\n",
    "rename!(df, Symbol.(colnames))\n",
    "first(df, 5)"
   ]
  },
  {
   "cell_type": "code",
   "execution_count": 14,
   "id": "17a563fe",
   "metadata": {},
   "outputs": [
    {
     "data": {
      "text/plain": [
       "a_trans (generic function with 1 method)"
      ]
     },
     "execution_count": 14,
     "metadata": {},
     "output_type": "execute_result"
    }
   ],
   "source": [
    "function a_trans(val)\n",
    "    a_dct = Dict(1 => \"a\", 2 => \"b\", 3 => \"c\", 4 => \"d\", 5 => \"e\", 6 => \"f\", 7 => \"g\", 8 => \"h\", 9 => \"i\", 10 => \"j\", 11 => \"k\")\n",
    "    return a_dct[val]\n",
    "end"
   ]
  },
  {
   "cell_type": "code",
   "execution_count": 15,
   "id": "07baa6d1",
   "metadata": {},
   "outputs": [
    {
     "data": {
      "text/plain": [
       "activity_trans (generic function with 1 method)"
      ]
     },
     "execution_count": 15,
     "metadata": {},
     "output_type": "execute_result"
    }
   ],
   "source": [
    "function activity_trans(val)\n",
    "    act_dct = Dict(\"010101\" => 1, \"010102\" => 1, \"010199\" => 1, \"010201\" => 2, \"010299\" => 2, \"010301\" => 2, \"010399\" => 2, \"010401\" => 2, \"010499\" => 2, \"010501\" => 2, \"010599\" => 2, \"019999\" => 2, \"020101\" => 3, \"020102\" => 3, \"020103\" => 3, \"020104\" => 3, \"020199\" => 3, \"020201\" => 3, \"020202\" => 3, \"020203\" => 3, \"020299\" => 3, \"020301\" => 3, \"020302\" => 3, \"020303\" => 3, \"020399\" => 3, \"020400\" => 3, \"020401\" => 3, \"020402\" => 3, \"020499\" => 3, \"020500\" => 3, \"020501\" => 3, \"020502\" => 3, \"020599\" => 3, \"020600\" => 3, \"020601\" => 3, \"020602\" => 3, \"020603\" => 3, \"020681\" => 10, \"020699\" => 3, \"020700\" => 3, \"020701\" => 3, \"020799\" => 3, \"020800\" => 3, \"020801\" => 3, \"020899\" => 3, \"020900\" => 3, \"020901\" => 3, \"020902\" => 3, \"020903\" => 3, \"020904\" => 3, \"020905\" => 3, \"020999\" => 3, \"029900\" => 3, \"029999\" => 3, \"030100\" => 4, \"030101\" => 4, \"030102\" => 4, \"030103\" => 4, \"030104\" => 4, \"030105\" => 4, \"030106\" => 4, \"030107\" => 4, \"030108\" => 4, \"030109\" => 4, \"030110\" => 4, \"030111\" => 4, \"030112\" => 4, \"030199\" => 4, \"030200\" => 4, \"030201\" => 4, \"030202\" => 4, \"030203\" => 4, \"030204\" => 4, \"030299\" => 4, \"030300\" => 4, \"030301\" => 4, \"030302\" => 4, \"030303\" => 4, \"030399\" => 4, \"040100\" => 4, \"040101\" => 4, \"040102\" => 4, \"040103\" => 4, \"040104\" => 4, \"040105\" => 4, \"040106\" => 4, \"040107\" => 4, \"040108\" => 4, \"040109\" => 4, \"040110\" => 4, \"040111\" => 4, \"040112\" => 4, \"040199\" => 4, \"040200\" => 4, \"040201\" => 4, \"040202\" => 4, \"040203\" => 4, \"040204\" => 4, \"040299\" => 4, \"040300\" => 4, \"040301\" => 4, \"040302\" => 4, \"040303\" => 4, \"040399\" => 4, \"030186\" => 4, \"040186\" => 4, \"030000\" => 5, \"030400\" => 5, \"030401\" => 5, \"030402\" => 5, \"030403\" => 5, \"030404\" => 5, \"030405\" => 5, \"030499\" => 5, \"030500\" => 5, \"030501\" => 5, \"030502\" => 5, \"030503\" => 5, \"030504\" => 5, \"030599\" => 5, \"039900\" => 5, \"039999\" => 5, \"040000\" => 5, \"040400\" => 5, \"040401\" => 5, \"040402\" => 5, \"040403\" => 5, \"040404\" => 5, \"040405\" => 5, \"040499\" => 5, \"040500\" => 5, \"040501\" => 5, \"040502\" => 5, \"040503\" => 5, \"040504\" => 5, \"040505\" => 5, \"040506\" => 5, \"040507\" => 5, \"040508\" => 5, \"040599\" => 5, \"049900\" => 5, \"049999\" => 5, \"050000\" => 6, \"050100\" => 6, \"050101\" => 6, \"050102\" => 6, \"050103\" => 6, \"050104\" => 6, \"050199\" => 6, \"050200\" => 6, \"050201\" => 6, \"050202\" => 6, \"050203\" => 6, \"050204\" => 6, \"050205\" => 6, \"050299\" => 6, \"050300\" => 6, \"050301\" => 6, \"050302\" => 6, \"050303\" => 6, \"050304\" => 6, \"050305\" => 6, \"050399\" => 6, \"050400\" => 6, \"050401\" => 6, \"050403\" => 6, \"050404\" => 6, \"050405\" => 6, \"050499\" => 6, \"059900\" => 6, \"059999\" => 6, \"060000\" => 6, \"060100\" => 6, \"060101\" => 6, \"060102\" => 6, \"060103\" => 6, \"060104\" => 6, \"060199\" => 6, \"060200\" => 6, \"060201\" => 6, \"060202\" => 6, \"060203\" => 6, \"060204\" => 6, \"060299\" => 6, \"060300\" => 6, \"060301\" => 6, \"060302\" => 6, \"060303\" => 6, \"060399\" => 6, \"060400\" => 6, \"060401\" => 6, \"060402\" => 6, \"060403\" => 6, \"060499\" => 6, \"069900\" => 6, \"069999\" => 6, \"050481\" => 6, \"050389\" => 6, \"050189\" => 6, \"060289\" => 6, \"050289\" => 6, \"070000\" => 7, \"070100\" => 7, \"070101\" => 7, \"070102\" => 7, \"070103\" => 7, \"070104\" => 7, \"070105\" => 7, \"070199\" => 7, \"070200\" => 7, \"070201\" => 7, \"070299\" => 7, \"070300\" => 7, \"070301\" => 7, \"070399\" => 7, \"079900\" => 7, \"079999\" => 7, \"080000\" => 7, \"080100\" => 7, \"080101\" => 7, \"080102\" => 7, \"080199\" => 7, \"080200\" => 7, \"080201\" => 7, \"080202\" => 7, \"080203\" => 7, \"080299\" => 7, \"080300\" => 7, \"080301\" => 7, \"080302\" => 7, \"080399\" => 7, \"080400\" => 7, \"080401\" => 7, \"080402\" => 7, \"080403\" => 7, \"080499\" => 7, \"080500\" => 7, \"080501\" => 7, \"080502\" => 7, \"080599\" => 7, \"080600\" => 7, \"080601\" => 7, \"080602\" => 7, \"080699\" => 7, \"080700\" => 7, \"080701\" => 7, \"080702\" => 7, \"080799\" => 7, \"080800\" => 7, \"080801\" => 7, \"080899\" => 7, \"089900\" => 7, \"089999\" => 7, \"090000\" => 7, \"090100\" => 7, \"090101\" => 7, \"090102\" => 7, \"090103\" => 7, \"090104\" => 7, \"090199\" => 7, \"090200\" => 7, \"090201\" => 7, \"090202\" => 7, \"090299\" => 7, \"090300\" => 7, \"090301\" => 7, \"090302\" => 7, \"090399\" => 7, \"090400\" => 7, \"090401\" => 7, \"090402\" => 7, \"090499\" => 7, \"090500\" => 7, \"090501\" => 7, \"090502\" => 7, \"090599\" => 7, \"099900\" => 7, \"099999\" => 7, \"100000\" => 7, \"100100\" => 7, \"100101\" => 7, \"100102\" => 7, \"100103\" => 7, \"100199\" => 7, \"100200\" => 7, \"100201\" => 7, \"100299\" => 7, \"100300\" => 7, \"100303\" => 7, \"100304\" => 7, \"100399\" => 7, \"100400\" => 7, \"100401\" => 7, \"100499\" => 7, \"109900\" => 7, \"109999\" => 7, \"120303\" => 8, \"120304\" => 8, \"110000\" => 9, \"110100\" => 9, \"110101\" => 9, \"110199\" => 9, \"110200\" => 9, \"110201\" => 9, \"110299\" => 9, \"119900\" => 9, \"110289\" => 9, \"119999\" => 9, \"120000\" => 10, \"120100\" => 10, \"120101\" => 10, \"120199\" => 10, \"120200\" => 10, \"120201\" => 10, \"120202\" => 10, \"120299\" => 10, \"120300\" => 10, \"120301\" => 10, \"120302\" => 10, \"120305\" => 10, \"120306\" => 10, \"120307\" => 10, \"120308\" => 10, \"120309\" => 10, \"120310\" => 10, \"120311\" => 10, \"120312\" => 10, \"120313\" => 10, \"120399\" => 10, \"120400\" => 10, \"120401\" => 10, \"120402\" => 10, \"120403\" => 10, \"120404\" => 10, \"120405\" => 10, \"120499\" => 10, \"120500\" => 10, \"120501\" => 10, \"120502\" => 10, \"120503\" => 10, \"120504\" => 10, \"120599\" => 10, \"129900\" => 10, \"129999\" => 10, \"130000\" => 10, \"130100\" => 10, \"130101\" => 10, \"130102\" => 10, \"130103\" => 10, \"130104\" => 10, \"130105\" => 10, \"130106\" => 10, \"130107\" => 10, \"130108\" => 10, \"130109\" => 10, \"130110\" => 10, \"130111\" => 10, \"130112\" => 10, \"130113\" => 10, \"130114\" => 10, \"130115\" => 10, \"130116\" => 10, \"130117\" => 10, \"130118\" => 10, \"130119\" => 10, \"130120\" => 10, \"130121\" => 10, \"130122\" => 10, \"130123\" => 10, \"130124\" => 10, \"130125\" => 10, \"130126\" => 10, \"130127\" => 10, \"130128\" => 10, \"130129\" => 10, \"130130\" => 10, \"130131\" => 10, \"130132\" => 10, \"130133\" => 10, \"130134\" => 10, \"130135\" => 10, \"130136\" => 10, \"130199\" => 10, \"130200\" => 10, \"130201\" => 10, \"130202\" => 10, \"130203\" => 10, \"130204\" => 10, \"130205\" => 10, \"130206\" => 10, \"130207\" => 10, \"130208\" => 10, \"130209\" => 10, \"130210\" => 10, \"130211\" => 10, \"130212\" => 10, \"130213\" => 10, \"130214\" => 10, \"130215\" => 10, \"130216\" => 10, \"130217\" => 10, \"130218\" => 10, \"130219\" => 10, \"130220\" => 10, \"130221\" => 10, \"130222\" => 10, \"130223\" => 10, \"130224\" => 10, \"130225\" => 10, \"130226\" => 10, \"130227\" => 10, \"130228\" => 10, \"130229\" => 10, \"130230\" => 10, \"130231\" => 10, \"130232\" => 10, \"130299\" => 10, \"130300\" => 10, \"130301\" => 10, \"130302\" => 10, \"130399\" => 10, \"130400\" => 10, \"130401\" => 10, \"130402\" => 10, \"130499\" => 10, \"139900\" => 10, \"139999\" => 10, \"140000\" => 10, \"140100\" => 10, \"140101\" => 10, \"140102\" => 10, \"140103\" => 10, \"140104\" => 10, \"140105\" => 10, \"149900\" => 10, \"149999\" => 10, \"150000\" => 10, \"150100\" => 10, \"150101\" => 10, \"150102\" => 10, \"150103\" => 10, \"150104\" => 10, \"150105\" => 10, \"150106\" => 10, \"150199\" => 10, \"150200\" => 10, \"150201\" => 10, \"150202\" => 10, \"150203\" => 10, \"150204\" => 10, \"150299\" => 10, \"150300\" => 10, \"150301\" => 10, \"150302\" => 10, \"150399\" => 10, \"150400\" => 10, \"150401\" => 10, \"150402\" => 10, \"150499\" => 10, \"150500\" => 10, \"150501\" => 10, \"150599\" => 10, \"150600\" => 10, \"150601\" => 10, \"150602\" => 10, \"150699\" => 10, \"150700\" => 10, \"150701\" => 10, \"150799\" => 10, \"150800\" => 10, \"150801\" => 10, \"150899\" => 10, \"159900\" => 10, \"159999\" => 10, \"160000\" => 10, \"160100\" => 10, \"160101\" => 10, \"160102\" => 10, \"160103\" => 10, \"160104\" => 10, \"160105\" => 10, \"160106\" => 10, \"160107\" => 10, \"160108\" => 10, \"160199\" => 10, \"160200\" => 10, \"160201\" => 10, \"160299\" => 10, \"169900\" => 10, \"169999\" => 10, \"159989\" => 10, \"169989\" => 10, \"110281\" => 10, \"100381\" => 10, \"100383\" => 10, \"180000\" => 11, \"180100\" => 11, \"180101\" => 11, \"180199\" => 11, \"180200\" => 11, \"180201\" => 11, \"180202\" => 11, \"180203\" => 11, \"180204\" => 11, \"180205\" => 11, \"180206\" => 11, \"180207\" => 11, \"180208\" => 11, \"180209\" => 11, \"180280\" => 11, \"180299\" => 11, \"180300\" => 11, \"180301\" => 11, \"180302\" => 11, \"180303\" => 11, \"180304\" => 11, \"180305\" => 11, \"180306\" => 11, \"180307\" => 11, \"180399\" => 11, \"180400\" => 11, \"180401\" => 11, \"180402\" => 11, \"180403\" => 11, \"180404\" => 11, \"180405\" => 11, \"180406\" => 11, \"180407\" => 11, \"180482\" => 11, \"180499\" => 11, \"180500\" => 11, \"180501\" => 11, \"180502\" => 11, \"180503\" => 11, \"180504\" => 11, \"180599\" => 11, \"180600\" => 11, \"180601\" => 11, \"180602\" => 11, \"180603\" => 11, \"180604\" => 11, \"180605\" => 11, \"180699\" => 11, \"180700\" => 11, \"180701\" => 11, \"180702\" => 11, \"180703\" => 11, \"180704\" => 11, \"180705\" => 11, \"180782\" => 11, \"180799\" => 11, \"180800\" => 11, \"180801\" => 11, \"180802\" => 11, \"180803\" => 11, \"180804\" => 11, \"180805\" => 11, \"180806\" => 11, \"180807\" => 11, \"180899\" => 11, \"180900\" => 11, \"180901\" => 11, \"180902\" => 11, \"180903\" => 11, \"180904\" => 11, \"180905\" => 11, \"180999\" => 11, \"181000\" => 11, \"181001\" => 11, \"181002\" => 11, \"181099\" => 11, \"181100\" => 11, \"181101\" => 11, \"181199\" => 11, \"181200\" => 11, \"181201\" => 11, \"181202\" => 11, \"181203\" => 11, \"181204\" => 11, \"181205\" => 11, \"181206\" => 11, \"181283\" => 11, \"181299\" => 11, \"181300\" => 11, \"181301\" => 11, \"181302\" => 11, \"181399\" => 11, \"181400\" => 11, \"181401\" => 11, \"181499\" => 11, \"181500\" => 11, \"181501\" => 11, \"181599\" => 11, \"181600\" => 11, \"181601\" => 11, \"181699\" => 11, \"181800\" => 11, \"181801\" => 11, \"181899\" => 11, \"189900\" => 11, \"189999\" => 11, \"180481\" => 11, \"180381\" => 11, \"180382\" => 11, \"181081\" => 11, \"180589\" => 11, \"180682\" => 11, \"500000\" => 11, \"500100\" => 11, \"500101\" => 11, \"500102\" => 11, \"500103\" => 11, \"500104\" => 11, \"500105\" => 11, \"500106\" => 11, \"500107\" => 11, \"509900\" => 11, \"509989\" => 11, \"509999\" => 11)\n",
    "    \n",
    "    return a_trans(act_dct[val])\n",
    "end\n"
   ]
  },
  {
   "cell_type": "code",
   "execution_count": 16,
   "id": "a258b08e",
   "metadata": {},
   "outputs": [
    {
     "data": {
      "text/plain": [
       "\"i\""
      ]
     },
     "execution_count": 16,
     "metadata": {},
     "output_type": "execute_result"
    }
   ],
   "source": [
    "activity_trans(\"110101\")"
   ]
  },
  {
   "cell_type": "code",
   "execution_count": 17,
   "id": "86574cd2",
   "metadata": {},
   "outputs": [
    {
     "data": {
      "text/plain": [
       "395955-element Array{String,1}:\n",
       " \"i\"\n",
       " \"c\"\n",
       " \"k\"\n",
       " \"k\"\n",
       " \"k\"\n",
       " \"b\"\n",
       " \"i\"\n",
       " \"h\"\n",
       " \"a\"\n",
       " \"a\"\n",
       " \"c\"\n",
       " \"k\"\n",
       " \"j\"\n",
       " ⋮\n",
       " \"c\"\n",
       " \"i\"\n",
       " \"c\"\n",
       " \"c\"\n",
       " \"h\"\n",
       " \"c\"\n",
       " \"i\"\n",
       " \"c\"\n",
       " \"b\"\n",
       " \"j\"\n",
       " \"h\"\n",
       " \"a\""
      ]
     },
     "execution_count": 17,
     "metadata": {},
     "output_type": "execute_result"
    }
   ],
   "source": [
    "df[\"act\"] = activity_trans.(df[\"activity\"]) "
   ]
  },
  {
   "cell_type": "code",
   "execution_count": 18,
   "id": "686be989",
   "metadata": {},
   "outputs": [
    {
     "data": {
      "text/html": [
       "<table class=\"data-frame\"><thead><tr><th></th><th>caseid</th><th>actline</th><th>activity</th><th>duration</th><th>start</th><th>stop</th><th>act</th></tr><tr><th></th><th>SubStri…</th><th>SubStri…</th><th>SubStri…</th><th>SubStri…</th><th>SubStri…</th><th>SubStri…</th><th>String</th></tr></thead><tbody><p>5 rows × 7 columns</p><tr><th>1</th><td>20110101110074</td><td>1</td><td>110101</td><td>10</td><td>04:00:00</td><td>04:10:00</td><td>i</td></tr><tr><th>2</th><td>20110101110074</td><td>2</td><td>020402</td><td>300</td><td>04:10:00</td><td>09:10:00</td><td>c</td></tr><tr><th>3</th><td>20110101110074</td><td>3</td><td>180482</td><td>5</td><td>09:10:00</td><td>09:15:00</td><td>k</td></tr><tr><th>4</th><td>20110101110074</td><td>4</td><td>500101</td><td>525</td><td>09:15:00</td><td>18:00:00</td><td>k</td></tr><tr><th>5</th><td>20110101110074</td><td>5</td><td>180482</td><td>5</td><td>18:00:00</td><td>18:05:00</td><td>k</td></tr></tbody></table>"
      ],
      "text/latex": [
       "\\begin{tabular}{r|ccccccc}\n",
       "\t& caseid & actline & activity & duration & start & stop & act\\\\\n",
       "\t\\hline\n",
       "\t& SubStri… & SubStri… & SubStri… & SubStri… & SubStri… & SubStri… & String\\\\\n",
       "\t\\hline\n",
       "\t1 & 20110101110074 & 1 & 110101 & 10 & 04:00:00 & 04:10:00 & i \\\\\n",
       "\t2 & 20110101110074 & 2 & 020402 & 300 & 04:10:00 & 09:10:00 & c \\\\\n",
       "\t3 & 20110101110074 & 3 & 180482 & 5 & 09:10:00 & 09:15:00 & k \\\\\n",
       "\t4 & 20110101110074 & 4 & 500101 & 525 & 09:15:00 & 18:00:00 & k \\\\\n",
       "\t5 & 20110101110074 & 5 & 180482 & 5 & 18:00:00 & 18:05:00 & k \\\\\n",
       "\\end{tabular}\n"
      ],
      "text/plain": [
       "5×7 DataFrame. Omitted printing of 1 columns\n",
       "│ Row │ caseid         │ actline  │ activity │ duration │ start    │ stop     │\n",
       "│     │ \u001b[90mSubString…\u001b[39m     │ \u001b[90mSubStri…\u001b[39m │ \u001b[90mSubStri…\u001b[39m │ \u001b[90mSubStri…\u001b[39m │ \u001b[90mSubStri…\u001b[39m │ \u001b[90mSubStri…\u001b[39m │\n",
       "├─────┼────────────────┼──────────┼──────────┼──────────┼──────────┼──────────┤\n",
       "│ 1   │ 20110101110074 │ 1        │ 110101   │ 10       │ 04:00:00 │ 04:10:00 │\n",
       "│ 2   │ 20110101110074 │ 2        │ 020402   │ 300      │ 04:10:00 │ 09:10:00 │\n",
       "│ 3   │ 20110101110074 │ 3        │ 180482   │ 5        │ 09:10:00 │ 09:15:00 │\n",
       "│ 4   │ 20110101110074 │ 4        │ 500101   │ 525      │ 09:15:00 │ 18:00:00 │\n",
       "│ 5   │ 20110101110074 │ 5        │ 180482   │ 5        │ 18:00:00 │ 18:05:00 │"
      ]
     },
     "execution_count": 18,
     "metadata": {},
     "output_type": "execute_result"
    }
   ],
   "source": [
    "first(df,5)"
   ]
  },
  {
   "cell_type": "code",
   "execution_count": 19,
   "id": "162e1324",
   "metadata": {},
   "outputs": [
    {
     "data": {
      "text/plain": [
       "11-element Array{String,1}:\n",
       " \"i\"\n",
       " \"c\"\n",
       " \"k\"\n",
       " \"b\"\n",
       " \"h\"\n",
       " \"a\"\n",
       " \"j\"\n",
       " \"e\"\n",
       " \"g\"\n",
       " \"d\"\n",
       " \"f\""
      ]
     },
     "execution_count": 19,
     "metadata": {},
     "output_type": "execute_result"
    }
   ],
   "source": [
    "unique(df[\"act\"])"
   ]
  },
  {
   "cell_type": "code",
   "execution_count": null,
   "id": "e5f8ba8c",
   "metadata": {},
   "outputs": [],
   "source": []
  },
  {
   "cell_type": "code",
   "execution_count": null,
   "id": "9baf8056",
   "metadata": {},
   "outputs": [],
   "source": [
    "df[:dur] = parse.(Int64, df[\"duration\"])"
   ]
  },
  {
   "cell_type": "code",
   "execution_count": null,
   "id": "ecf47ee9",
   "metadata": {},
   "outputs": [],
   "source": [
    "first(df, 5)"
   ]
  },
  {
   "cell_type": "code",
   "execution_count": null,
   "id": "f97acafb",
   "metadata": {},
   "outputs": [],
   "source": [
    "lst = [[9], [10]]\n",
    "numbers = [2, 3]\n",
    "repeat.(lst, numbers)"
   ]
  },
  {
   "cell_type": "code",
   "execution_count": null,
   "id": "c5879201",
   "metadata": {},
   "outputs": [],
   "source": [
    "repeat(\"i\" , 3)"
   ]
  },
  {
   "cell_type": "code",
   "execution_count": null,
   "id": "25d5162b",
   "metadata": {},
   "outputs": [],
   "source": [
    "df[\"act_rep\"] = df[\"act\"]\n",
    "#repeat.(df[\"act\"], inner = df[\"dur\"])\n",
    "first(df, 3)"
   ]
  },
  {
   "cell_type": "code",
   "execution_count": null,
   "id": "ac148d43",
   "metadata": {},
   "outputs": [],
   "source": [
    "first(df[3:9], 20)"
   ]
  },
  {
   "cell_type": "code",
   "execution_count": null,
   "id": "cc0a5274",
   "metadata": {},
   "outputs": [],
   "source": [
    "for i in 1:nrow(df)\n",
    "    df[\"act_rep\"][i] = repeat(df[\"act\"][i], df[\"dur\"][i])\n",
    "end\n"
   ]
  },
  {
   "cell_type": "code",
   "execution_count": null,
   "id": "e17ef57f",
   "metadata": {},
   "outputs": [],
   "source": [
    "df[\"act_rep\"]"
   ]
  },
  {
   "cell_type": "code",
   "execution_count": null,
   "id": "deda4ebc",
   "metadata": {},
   "outputs": [],
   "source": [
    "tempoTable = Dict()\n",
    "for i in unique(df[\"caseid\"])\n",
    "    tempoTable[i] = []\n",
    "end"
   ]
  },
  {
   "cell_type": "code",
   "execution_count": null,
   "id": "b9a8b7e7",
   "metadata": {},
   "outputs": [],
   "source": [
    "chunk(arr, n) = [arr[i:min(i + n - 1, end)] for i in 1:n:length(arr)]"
   ]
  },
  {
   "cell_type": "code",
   "execution_count": null,
   "id": "64a94a47",
   "metadata": {},
   "outputs": [],
   "source": [
    "function most_common_letter(line)\n",
    "    for c in chunk(line, 15)\n",
    "        return first(countmap(c))[2]\n",
    "    end\n",
    "end"
   ]
  },
  {
   "cell_type": "code",
   "execution_count": null,
   "id": "9bd437ef",
   "metadata": {},
   "outputs": [],
   "source": [
    "for d in groupby(df, :caseid)\n",
    "    temp = join(push!(tempoTable[d[\"caseid\"][1]], d[\"act_rep\"])[1])\n",
    "    lst = \"\"\n",
    "    for c in chunk(temp, 15)\n",
    "        lst = lst * first(countmap(c))[1]\n",
    "    end\n",
    "    tempoTable[d[\"caseid\"][1]] = lst\n",
    "end"
   ]
  },
  {
   "cell_type": "code",
   "execution_count": null,
   "id": "b4b76401",
   "metadata": {},
   "outputs": [],
   "source": [
    "tempoTable"
   ]
  },
  {
   "cell_type": "code",
   "execution_count": null,
   "id": "ad1ed500",
   "metadata": {},
   "outputs": [],
   "source": [
    "length(tempoTable[\"20180806182262\"])"
   ]
  },
  {
   "cell_type": "code",
   "execution_count": null,
   "id": "2bab64c6",
   "metadata": {},
   "outputs": [],
   "source": [
    "df[df[:caseid].==\"20180806182262\", :]"
   ]
  },
  {
   "cell_type": "code",
   "execution_count": null,
   "id": "e91752b9",
   "metadata": {},
   "outputs": [],
   "source": []
  },
  {
   "cell_type": "code",
   "execution_count": null,
   "id": "53858f4e",
   "metadata": {},
   "outputs": [],
   "source": []
  },
  {
   "cell_type": "code",
   "execution_count": null,
   "id": "a0807e1b",
   "metadata": {},
   "outputs": [],
   "source": []
  },
  {
   "cell_type": "code",
   "execution_count": null,
   "id": "b5c04090",
   "metadata": {},
   "outputs": [],
   "source": [
    "length(tempoTable)"
   ]
  },
  {
   "cell_type": "code",
   "execution_count": null,
   "id": "ec47423b",
   "metadata": {},
   "outputs": [],
   "source": [
    "for i in keys(tempoTable)\n",
    "    if length(tempoTable[i]) != 96\n",
    "        print(tempoTable[i])\n",
    "        print(\" \")\n",
    "    end\n",
    "end"
   ]
  },
  {
   "cell_type": "code",
   "execution_count": null,
   "id": "ed1cf094",
   "metadata": {},
   "outputs": [],
   "source": [
    "lines = collect(values(tempoTable))"
   ]
  },
  {
   "cell_type": "code",
   "execution_count": null,
   "id": "f2d6ee74",
   "metadata": {},
   "outputs": [],
   "source": [
    "## you need to reduce the length to 96 each for computational gains"
   ]
  },
  {
   "cell_type": "code",
   "execution_count": null,
   "id": "98ef08d3",
   "metadata": {},
   "outputs": [],
   "source": []
  },
  {
   "cell_type": "code",
   "execution_count": null,
   "id": "e4e12067",
   "metadata": {},
   "outputs": [],
   "source": []
  },
  {
   "cell_type": "code",
   "execution_count": null,
   "id": "884e56e4",
   "metadata": {},
   "outputs": [],
   "source": []
  },
  {
   "cell_type": "code",
   "execution_count": null,
   "id": "188a0dc3",
   "metadata": {},
   "outputs": [],
   "source": []
  },
  {
   "cell_type": "code",
   "execution_count": null,
   "id": "dc6a4945",
   "metadata": {},
   "outputs": [],
   "source": []
  },
  {
   "cell_type": "code",
   "execution_count": null,
   "id": "582486c5",
   "metadata": {},
   "outputs": [],
   "source": []
  },
  {
   "cell_type": "code",
   "execution_count": null,
   "id": "41f0a3fb",
   "metadata": {},
   "outputs": [],
   "source": []
  },
  {
   "cell_type": "code",
   "execution_count": null,
   "id": "17fbf21a",
   "metadata": {},
   "outputs": [],
   "source": []
  },
  {
   "cell_type": "code",
   "execution_count": null,
   "id": "d4b7c15f",
   "metadata": {},
   "outputs": [],
   "source": [
    "lines[1]"
   ]
  },
  {
   "cell_type": "code",
   "execution_count": null,
   "id": "c1537241",
   "metadata": {},
   "outputs": [],
   "source": [
    "## let's calculate pairwise distances\n",
    "pairalign(LevenshteinDistance(), lines[2], lines[3])\n",
    "\n"
   ]
  },
  {
   "cell_type": "code",
   "execution_count": null,
   "id": "2af59590",
   "metadata": {},
   "outputs": [],
   "source": [
    "## define usual default OM \n",
    "costmodel = CostModel(match=0, mismatch=2, insertion=1, deletion=1);"
   ]
  },
  {
   "cell_type": "code",
   "execution_count": null,
   "id": "448eb1b2",
   "metadata": {},
   "outputs": [],
   "source": [
    "## initiate a matrix for dissimilarities\n",
    "d_matrix = zeros(Int64, length(lines), length(lines))"
   ]
  },
  {
   "cell_type": "code",
   "execution_count": null,
   "id": "6e0ad37f",
   "metadata": {},
   "outputs": [],
   "source": [
    "#function pairalignEdit(a::S1, b::S2, ::EditDistance, cost::CostModel; \n",
    "#        distance_only::Bool=false) where {S1,S2}\n",
    "#        Base.iteratorsize(::EditDistance) = Base.SizeUnknown()\n",
    "#    dist, trace, endpos = edit_distance(a, b, cost.submat, cost.insertion, cost.deletion)\n",
    "#    if distance_only\n",
    "#        return PairwiseAlignmentResult{S1,S2}(dist, false)\n",
    "#    else\n",
    "#        a′ = edit_traceback(a, b, trace, endpos)\n",
    "#        return PairwiseAlignmentResult(dist, false, a′, b)\n",
    "#    end\n",
    "#end\n",
    "#\n",
    "#pairalignEdit.(lines, lines[2], EditDistance(), costmodel)"
   ]
  },
  {
   "cell_type": "code",
   "execution_count": null,
   "id": "4ab6d218",
   "metadata": {},
   "outputs": [],
   "source": [
    "@which pairalign"
   ]
  },
  {
   "cell_type": "code",
   "execution_count": null,
   "id": "32aa78cc",
   "metadata": {},
   "outputs": [],
   "source": [
    "less(pairalign)"
   ]
  },
  {
   "cell_type": "code",
   "execution_count": null,
   "id": "791b6dfa",
   "metadata": {},
   "outputs": [],
   "source": [
    "## loop over all sequences to calculate \n",
    "#for i in 1:length(lines)\n",
    "#    for j in 1:length(lines)\n",
    "#        d_matrix[i,j] = distance(pairalign(EditDistance(), lines[i], lines[j], costmodel))\n",
    "#    end\n",
    "#end"
   ]
  },
  {
   "cell_type": "code",
   "execution_count": null,
   "id": "c3ee54a5",
   "metadata": {},
   "outputs": [],
   "source": [
    "#'21:44'"
   ]
  },
  {
   "cell_type": "code",
   "execution_count": null,
   "id": "578caa63",
   "metadata": {},
   "outputs": [],
   "source": [
    "## this code seems to be the fastest\n",
    "## but still seems slower than R's TraMineR\n",
    "for i in 1:length(lines)\n",
    "    for j in 1:length(lines)\n",
    "        if i!=j\n",
    "            if d_matrix[i,j] == 0\n",
    "                d_matrix[i,j] = distance(pairalign(EditDistance(), lines[i], lines[j], costmodel))\n",
    "                d_matrix[j,i] = d_matrix[i,j]\n",
    "            end\n",
    "        end\n",
    "    end\n",
    "end"
   ]
  },
  {
   "cell_type": "code",
   "execution_count": null,
   "id": "12b00ccb",
   "metadata": {},
   "outputs": [],
   "source": [
    "using Dates\n",
    "start = Dates.format(now(), \"HH:MM\")"
   ]
  },
  {
   "cell_type": "code",
   "execution_count": null,
   "id": "336e942d",
   "metadata": {},
   "outputs": [],
   "source": [
    "d_matrix"
   ]
  },
  {
   "cell_type": "code",
   "execution_count": null,
   "id": "37dc73ab",
   "metadata": {},
   "outputs": [],
   "source": [
    "using Dates\n",
    "start = Dates.format(now(), \"HH:MM\")\n",
    "## for bigger matrices\n",
    "d_matrix = zeros(Int64, length(lines), length(lines))\n",
    "@btime for i in 1:length(lines)\n",
    "    for j in 1:length(lines)\n",
    "        if i!=j\n",
    "            if d_matrix[i,j] == 0\n",
    "                d_matrix[i,j] = distance(pairalign(EditDistance(), lines[i], lines[j], costmodel))\n",
    "                d_matrix[j,i] = d_matrix[i,j]\n",
    "            end\n",
    "        end\n",
    "    end\n",
    "end\n",
    "finish = Dates.format(now(), \"HH:MM\")"
   ]
  },
  {
   "cell_type": "code",
   "execution_count": null,
   "id": "d73d43f4",
   "metadata": {},
   "outputs": [],
   "source": [
    "start"
   ]
  },
  {
   "cell_type": "code",
   "execution_count": null,
   "id": "f1a12825",
   "metadata": {},
   "outputs": [],
   "source": [
    "## the solution above take about 2 hours"
   ]
  },
  {
   "cell_type": "code",
   "execution_count": null,
   "id": "46a65741",
   "metadata": {},
   "outputs": [],
   "source": [
    "d_matrix"
   ]
  },
  {
   "cell_type": "code",
   "execution_count": null,
   "id": "84444ff8",
   "metadata": {},
   "outputs": [],
   "source": [
    "lines[1:2000]"
   ]
  },
  {
   "cell_type": "code",
   "execution_count": null,
   "id": "94c597a6",
   "metadata": {},
   "outputs": [],
   "source": [
    "d_m = zeros(Int64, length(lines[1:2000]), length(lines[1:2000]))"
   ]
  },
  {
   "cell_type": "code",
   "execution_count": null,
   "id": "71c27564",
   "metadata": {},
   "outputs": [],
   "source": [
    "start = Dates.format(now(), \"HH:MM\")\n",
    "## for bigger matrices\n",
    "\n",
    "@btime for i in 1:length(lines[1:2000])\n",
    "    for j in 1:length(lines[1:2000])\n",
    "        if i!=j\n",
    "            if d_m[i,j] == 0\n",
    "                d_m[i,j] = distance(pairalign(EditDistance(), lines[1:2000][i], lines[1:2000][j], costmodel))\n",
    "                d_m[j,i] = d_m[i,j]\n",
    "            end\n",
    "        end\n",
    "    end\n",
    "end\n",
    "finish = Dates.format(now(), \"HH:MM\")"
   ]
  },
  {
   "cell_type": "code",
   "execution_count": null,
   "id": "5788c356",
   "metadata": {},
   "outputs": [],
   "source": [
    "start"
   ]
  },
  {
   "cell_type": "code",
   "execution_count": null,
   "id": "888968fe",
   "metadata": {},
   "outputs": [],
   "source": [
    "outfile = \"lines.txt\"\n",
    "open(outfile, \"w\") do f\n",
    "  for i in lines\n",
    "    println(f, i)\n",
    "  end\n",
    "end"
   ]
  },
  {
   "cell_type": "markdown",
   "id": "4f547ece",
   "metadata": {},
   "source": [
    "## Distributed. now try to parallelize :)"
   ]
  },
  {
   "cell_type": "code",
   "execution_count": 7,
   "id": "fad7c145",
   "metadata": {},
   "outputs": [],
   "source": []
  },
  {
   "cell_type": "markdown",
   "id": "48e5a352",
   "metadata": {},
   "source": [
    "### before the function runs you need to apply @everywhere to all elements that go in"
   ]
  },
  {
   "cell_type": "code",
   "execution_count": 9,
   "id": "c41e6540",
   "metadata": {},
   "outputs": [],
   "source": [
    "@everywhere f = open(\"lines.txt\");\n",
    "@everywhere lines = readlines(f)\n",
    "#@everywhere lines = split.(lines, ',') "
   ]
  },
  {
   "cell_type": "code",
   "execution_count": 11,
   "id": "eae82d79",
   "metadata": {},
   "outputs": [
    {
     "data": {
      "text/plain": [
       "18776×18776 DArray{Int64,2,Array{Int64,2}}:\n",
       " 2  2  2  2  2  2  2  2  2  2  2  2  2  …  14  14  14  14  14  14  14  14  14\n",
       " 2  2  2  2  2  2  2  2  2  2  2  2  2     14  14  14  14  14  14  14  14  14\n",
       " 2  2  2  2  2  2  2  2  2  2  2  2  2     14  14  14  14  14  14  14  14  14\n",
       " 2  2  2  2  2  2  2  2  2  2  2  2  2     14  14  14  14  14  14  14  14  14\n",
       " 2  2  2  2  2  2  2  2  2  2  2  2  2     14  14  14  14  14  14  14  14  14\n",
       " 2  2  2  2  2  2  2  2  2  2  2  2  2  …  14  14  14  14  14  14  14  14  14\n",
       " 2  2  2  2  2  2  2  2  2  2  2  2  2     14  14  14  14  14  14  14  14  14\n",
       " 2  2  2  2  2  2  2  2  2  2  2  2  2     14  14  14  14  14  14  14  14  14\n",
       " 2  2  2  2  2  2  2  2  2  2  2  2  2     14  14  14  14  14  14  14  14  14\n",
       " 2  2  2  2  2  2  2  2  2  2  2  2  2     14  14  14  14  14  14  14  14  14\n",
       " 2  2  2  2  2  2  2  2  2  2  2  2  2  …  14  14  14  14  14  14  14  14  14\n",
       " 2  2  2  2  2  2  2  2  2  2  2  2  2     14  14  14  14  14  14  14  14  14\n",
       " 2  2  2  2  2  2  2  2  2  2  2  2  2     14  14  14  14  14  14  14  14  14\n",
       " ⋮              ⋮              ⋮        ⋱               ⋮                   ⋮\n",
       " 5  5  5  5  5  5  5  5  5  5  5  5  5     17  17  17  17  17  17  17  17  17\n",
       " 5  5  5  5  5  5  5  5  5  5  5  5  5  …  17  17  17  17  17  17  17  17  17\n",
       " 5  5  5  5  5  5  5  5  5  5  5  5  5     17  17  17  17  17  17  17  17  17\n",
       " 5  5  5  5  5  5  5  5  5  5  5  5  5     17  17  17  17  17  17  17  17  17\n",
       " 5  5  5  5  5  5  5  5  5  5  5  5  5     17  17  17  17  17  17  17  17  17\n",
       " 5  5  5  5  5  5  5  5  5  5  5  5  5     17  17  17  17  17  17  17  17  17\n",
       " 5  5  5  5  5  5  5  5  5  5  5  5  5  …  17  17  17  17  17  17  17  17  17\n",
       " 5  5  5  5  5  5  5  5  5  5  5  5  5     17  17  17  17  17  17  17  17  17\n",
       " 5  5  5  5  5  5  5  5  5  5  5  5  5     17  17  17  17  17  17  17  17  17\n",
       " 5  5  5  5  5  5  5  5  5  5  5  5  5     17  17  17  17  17  17  17  17  17\n",
       " 5  5  5  5  5  5  5  5  5  5  5  5  5     17  17  17  17  17  17  17  17  17\n",
       " 5  5  5  5  5  5  5  5  5  5  5  5  5  …  17  17  17  17  17  17  17  17  17"
      ]
     },
     "execution_count": 11,
     "metadata": {},
     "output_type": "execute_result"
    }
   ],
   "source": [
    "A = DArray(I->fill(myid(), length.(I)), (length(lines), length(lines)))"
   ]
  },
  {
   "cell_type": "code",
   "execution_count": 10,
   "id": "d6893981",
   "metadata": {},
   "outputs": [],
   "source": [
    "#d_m = DArray((2000,2000)) do I\n",
    "#    @show I\n",
    "#    fill(myid(), length.(I))\n",
    "#end"
   ]
  },
  {
   "cell_type": "code",
   "execution_count": 11,
   "id": "358ce298",
   "metadata": {},
   "outputs": [],
   "source": [
    "#using BenchmarkTools\n",
    "#@everywhere using BenchmarkTools\n",
    "#fetch(@spawnat 2 @benchmark $d_m[1,1])"
   ]
  },
  {
   "cell_type": "code",
   "execution_count": 12,
   "id": "9a60fada",
   "metadata": {},
   "outputs": [],
   "source": [
    "#@btime for i in 1:length(lines[1:2000])\n",
    "#    for j in 1:length(lines[1:2000])\n",
    "#        if i!=j\n",
    "#            if d_m[i,j] == 0\n",
    "#                d_m[i,j] = distance(pairalign(EditDistance(), lines[1:2000][i], lines[1:2000][j], costmodel))\n",
    "#                d_m[j,i] = d_m[i,j]\n",
    "#            end\n",
    "#        end\n",
    "#    end\n",
    "#end"
   ]
  },
  {
   "cell_type": "code",
   "execution_count": 13,
   "id": "35901a7a",
   "metadata": {},
   "outputs": [],
   "source": [
    "#A = DArray(I->fill(myid(), length.(I)), (2000, 2000))"
   ]
  },
  {
   "cell_type": "code",
   "execution_count": 14,
   "id": "beef5557",
   "metadata": {},
   "outputs": [],
   "source": [
    "#A = DArray(I->fill(myid(), length.(I)), (2000, 2000))"
   ]
  },
  {
   "cell_type": "code",
   "execution_count": 15,
   "id": "f20cddc9",
   "metadata": {},
   "outputs": [],
   "source": [
    "#A = DArray(I->d_m, (2000, 2000))"
   ]
  },
  {
   "cell_type": "code",
   "execution_count": 16,
   "id": "d71b8687",
   "metadata": {},
   "outputs": [],
   "source": [
    "#function pairalignEdit(seq::Array, editdist = EditDistance(), cost = costmodel)\n",
    "#    return distance(pairalign(editdist, seq[1], seq[2], cost))\n",
    "#end"
   ]
  },
  {
   "cell_type": "code",
   "execution_count": 17,
   "id": "d18b8cbf",
   "metadata": {},
   "outputs": [],
   "source": [
    "#pairalignEdit(lines[1:2])"
   ]
  },
  {
   "cell_type": "code",
   "execution_count": 18,
   "id": "c0bbd8c1",
   "metadata": {},
   "outputs": [],
   "source": [
    "## create matrix of pairs\n",
    "#@btime for i in 1:length(lines[1:2000])\n",
    "#    for j in 1:length(lines[1:2000])\n",
    "#        d_m[i,j] = i*100000 + j\n",
    "#    end\n",
    "#end"
   ]
  },
  {
   "cell_type": "code",
   "execution_count": 19,
   "id": "05f58f37",
   "metadata": {},
   "outputs": [],
   "source": [
    "#d_m"
   ]
  },
  {
   "cell_type": "code",
   "execution_count": 20,
   "id": "e999225a",
   "metadata": {},
   "outputs": [],
   "source": [
    "#A = DArray(I->d_m, (2000, 2000))"
   ]
  },
  {
   "cell_type": "code",
   "execution_count": 21,
   "id": "f86bd9cd",
   "metadata": {},
   "outputs": [],
   "source": [
    "#function pairalignEditNum(num::Int, lines = lines, editdist = EditDistance(), cost = costmodel)\n",
    "#    pos1 = convert(Int64, floor(num/100000))\n",
    "#    pos2 = num - pos1*100000\n",
    "#    return distance(pairalign(editdist, lines[pos1], lines[pos2], cost))\n",
    "#end"
   ]
  },
  {
   "cell_type": "code",
   "execution_count": 22,
   "id": "ed075c2a",
   "metadata": {},
   "outputs": [],
   "source": [
    "#pairalignEditNum(200001)"
   ]
  },
  {
   "cell_type": "code",
   "execution_count": 12,
   "id": "9d18cc64",
   "metadata": {},
   "outputs": [
    {
     "data": {
      "text/plain": [
       "18776-element Array{String,1}:\n",
       " \"aaaaaaaaaaciihhhhhhhhhkkgggggkkcciihhhhhkkkggggkkkcciiiihhhhjjjhhhbbbbeehhaaaaaaaaaaaaaaaaaaaaaa\"\n",
       " \"aaaaaaaaaaaaaaaaijjkkkkgggggggggggggkkkkkiihhhhhhhhhjjjjjjjjccijjjjjjjjjjjjihjaaaaaaaaaaaaaaaaaa\"\n",
       " \"aaaaaaaaaaaaaaaajdddddkkkeekkkkkkkkjjjjjjjjjjjjjjjiiikkkkkkkkkkkkddddhaaaaaaaaaaaaaaaaaaaaaaaaaa\"\n",
       " \"aaaaaaaaaaaaaaaabbbbbbkdddjjjjjjjiiiiigggdddddddddddkkdkiiiiiiijjjjjjjjjjjjjjjjjkaaaaaaaaaaaaaaa\"\n",
       " \"aaaaaaaaaacbbbkkffffffffffffffffffffffffffffffffffffffffffffkkccciiiiiiiibaaaaaaaaaaaaaaaaaaaaaa\"\n",
       " \"aaaaaaaaaaaaaaaaaaaaaaaaaaaajjcccccccccccccccccccccccccccciiiiccccccccccccccccccccccccccccccjjjj\"\n",
       " \"aaaaaaibbfffffjfffffffffjfffffffjjffffffffjffffffffffkhhhhhhhhhhhhhhhhhhhhhhaaaaaaaaaaaaaaaaaaaa\"\n",
       " \"aaaaaaaaaadddcccckgggggggggkggccccccccccbddddddddjjjkkdkkkdddkkkdddddkkkaaaaaaaaaaaaaaaaaaaaaaaa\"\n",
       " \"aaaaaaaabiifffffffffffffffffffffffffkkkkkkkkggggkkkcccccccciccfffffffffffffaaaaajaaaaaaaaaaajaaa\"\n",
       " \"hhcccciijjaaaaaaajjjhhhhhhhhhhhhchhccccijhhhhhhhhhhhhccjjaaaaaahhhhhajjjaaaaaaaaaaaaaaaaaaaaaaaa\"\n",
       " \"aaaaaaaaaaaaaaaaaaabjjjjjjjhhhhcihhhhhhhhhhhhhaaaaaaaajjjjhhhhhhhhhhjjjjjjaaaaaaaaaaaaaaaaaaaaaa\"\n",
       " \"aaaaaaaaaaaaaaaaddcdckkjjjjjjjjjjjjjjjjjjjjjjjjjjjjjkkcccciijjjjjddccbhhhhhhaaaaaaaaaaaaaaaaaaaa\"\n",
       " \"aaaaaaaaaaaaaaaaciiccccjjcccccccciicjjjjjjjjjbbbbbbjjjjjcchciiicjbjjjjjjhhhhaaaaaaaaaaaaaaaaaaaa\"\n",
       " ⋮\n",
       " \"aaaaaaaaccibhhhhhhffffffffffffffffffciiiffffffffffffffjjjjccciihhhhjjjjjaaaaaaaaaaaaaaaaaaaaaaaa\"\n",
       " \"ffffffffffffffffaaaaaaaaaaaaaaaaaaaaaaaaaaaaaaaacccccbjjjjjjjjjjkjjjjjjjjjjjjjjjjjjjjjjjjjjjjjjj\"\n",
       " \"aaaaaaaaaaaaaaaaaaaaaaaacicccbjcccjjjjjjjaaaaaajjjccccccchhhhhhhhhhhhhhhjjaaaaaaaaaaaaaaaaaaaaaa\"\n",
       " \"aaaaaaaaaaaaiiffffffffccccccccccccckkkhhhhhjjjjjjjhhhhhhjjccccccaaaaaaaaaaaaaaaaaaaaaaaaaaaaaaaa\"\n",
       " \"aaaaaaaaaaaaaaaajjccchhhhhjjcccccccccccchhhhhjjjjjjhhhhjjjjjjjjhhhhccihhjjaaaaaaaaaaaaaaaaaaaaaa\"\n",
       " \"aaaaaaaaaaaaaaaaaaaaiiiiccccccccccccccccccccccccggkeeeebbbcccihhhhhhhhhbaaaaaaaaaaaaaaaaaaaaaaaa\"\n",
       " \"aaaaaaaaaaaaaaaaaaaakkkkekkkkkiiiiiikkkekkkccccccccccccckkkjjjjkkkjjjjjjjjkkkkbaaaaaaaaaaaaaaaaa\"\n",
       " \"aaaaaaaaaaaaaakgggjjjjjcccccccccccccccjjkkjjjjjjjjjjjjjjkkiccccccccccjdddddjjaaaaaaaaaaaaaaaaaaa\"\n",
       " \"aaaaaaaaaaaaaaaaaaaaaaaaaaaaaaaabbbihhhhhhcckkkkkkjjjjjjjjjjjjjjjjjjjjjjjkkkkkaaaaaaaaaaaaaaaaaa\"\n",
       " \"aaaaaaaaaajiffffffffffffbbbbjjkkffffffkikkfffffffffffffffffijjjjjjjjjjaaaaaaaaaaaaaaaaaaaaaaaaaa\"\n",
       " \"aaaaffffaaaabbcciibbjjjjjjjjjjjjiiiiiikkkkkkkkkkjjjjkcccckjjjjjjkjjjjjjkbaaaaaaaaaaaaaaaaaaaaaaa\"\n",
       " \"aaaaaaaaaaaaaaiiiicccbcccccccccccccccccciiccccccccjjjjccciicchhhhbbhhhhhaaaaaaaaaaaaaaaaaaaaaaaa\""
      ]
     },
     "execution_count": 12,
     "metadata": {},
     "output_type": "execute_result"
    }
   ],
   "source": [
    "lines"
   ]
  },
  {
   "cell_type": "code",
   "execution_count": 13,
   "id": "91bd74c4",
   "metadata": {},
   "outputs": [],
   "source": [
    "@everywhere using Bio.Align\n",
    "@everywhere costmodel = CostModel(match=0, mismatch=2, insertion=1, deletion=1);"
   ]
  },
  {
   "cell_type": "code",
   "execution_count": 14,
   "id": "0a5948c8",
   "metadata": {},
   "outputs": [],
   "source": []
  },
  {
   "cell_type": "code",
   "execution_count": 24,
   "id": "3be459b0",
   "metadata": {},
   "outputs": [],
   "source": [
    "#@everywhere function pairalignEditNum(num::Int, lines = lines, editdist = EditDistance(), cost = costmodel)\n",
    "#    pos1 = convert(Int64, floor(num/100000))\n",
    "#    pos2 = num - pos1*100000\n",
    "#    return distance(pairalign(editdist, lines[pos1], lines[pos2], cost))\n",
    "#end"
   ]
  },
  {
   "cell_type": "code",
   "execution_count": 26,
   "id": "687a34ca",
   "metadata": {},
   "outputs": [
    {
     "data": {
      "text/plain": [
       "pairalignEditNum_Opt (generic function with 4 methods)"
      ]
     },
     "execution_count": 26,
     "metadata": {},
     "output_type": "execute_result"
    }
   ],
   "source": [
    "function pairalignEditNum_Opt(num::Int, lines = lines, editdist = EditDistance(), cost = costmodel)\n",
    "    pos1 = convert(Int64, floor(num/100000))\n",
    "    pos2 = num - pos1*100000\n",
    "    if pos1>pos2\n",
    "        return distance(pairalign(editdist, lines[pos1], lines[pos2], cost))\n",
    "    else\n",
    "        return 0\n",
    "    end\n",
    "end"
   ]
  },
  {
   "cell_type": "code",
   "execution_count": 85,
   "id": "3599348e",
   "metadata": {},
   "outputs": [
    {
     "name": "stdout",
     "output_type": "stream",
     "text": [
      "  36.419 μs (10 allocations: 11.95 KiB)\n"
     ]
    },
    {
     "data": {
      "text/plain": [
       "84"
      ]
     },
     "execution_count": 85,
     "metadata": {},
     "output_type": "execute_result"
    }
   ],
   "source": [
    "@btime distance(pairalign(EditDistance(), lines[1], lines[2], costmodel))"
   ]
  },
  {
   "cell_type": "code",
   "execution_count": 86,
   "id": "fa3bba6b",
   "metadata": {},
   "outputs": [
    {
     "data": {
      "text/plain": [
       "BenchmarkTools.Trial: 10000 samples with 1 evaluation.\n",
       " Range \u001b[90m(\u001b[39m\u001b[36m\u001b[1mmin\u001b[22m\u001b[39m … \u001b[35mmax\u001b[39m\u001b[90m):  \u001b[39m\u001b[36m\u001b[1m36.447 μs\u001b[22m\u001b[39m … \u001b[35m 5.292 ms\u001b[39m  \u001b[90m┊\u001b[39m GC \u001b[90m(\u001b[39mmin … max\u001b[90m): \u001b[39m0.00% … 99.12%\n",
       " Time  \u001b[90m(\u001b[39m\u001b[34m\u001b[1mmedian\u001b[22m\u001b[39m\u001b[90m):     \u001b[39m\u001b[34m\u001b[1m37.840 μs              \u001b[22m\u001b[39m\u001b[90m┊\u001b[39m GC \u001b[90m(\u001b[39mmedian\u001b[90m):    \u001b[39m0.00%\n",
       " Time  \u001b[90m(\u001b[39m\u001b[32m\u001b[1mmean\u001b[22m\u001b[39m ± \u001b[32mσ\u001b[39m\u001b[90m):   \u001b[39m\u001b[32m\u001b[1m40.964 μs\u001b[22m\u001b[39m ± \u001b[32m69.364 μs\u001b[39m  \u001b[90m┊\u001b[39m GC \u001b[90m(\u001b[39mmean ± σ\u001b[90m):  \u001b[39m2.37% ±  1.40%\n",
       "\n",
       "  \u001b[39m▄\u001b[39m█\u001b[34m▅\u001b[39m\u001b[39m▁\u001b[39m▂\u001b[39m▁\u001b[32m \u001b[39m\u001b[39m \u001b[39m \u001b[39m \u001b[39m▄\u001b[39m▂\u001b[39m \u001b[39m \u001b[39m \u001b[39m \u001b[39m \u001b[39m \u001b[39m \u001b[39m \u001b[39m \u001b[39m \u001b[39m \u001b[39m \u001b[39m \u001b[39m \u001b[39m \u001b[39m \u001b[39m \u001b[39m \u001b[39m \u001b[39m \u001b[39m \u001b[39m \u001b[39m \u001b[39m \u001b[39m \u001b[39m \u001b[39m \u001b[39m \u001b[39m \u001b[39m \u001b[39m \u001b[39m \u001b[39m \u001b[39m \u001b[39m \u001b[39m \u001b[39m \u001b[39m \u001b[39m \u001b[39m \u001b[39m \u001b[39m \u001b[39m \u001b[39m \u001b[39m \u001b[39m \u001b[39m \u001b[39m \u001b[39m▁\n",
       "  \u001b[39m█\u001b[39m█\u001b[34m█\u001b[39m\u001b[39m█\u001b[39m█\u001b[39m█\u001b[32m█\u001b[39m\u001b[39m▆\u001b[39m▆\u001b[39m▇\u001b[39m█\u001b[39m█\u001b[39m▆\u001b[39m▄\u001b[39m▄\u001b[39m▄\u001b[39m▃\u001b[39m▂\u001b[39m▆\u001b[39m▆\u001b[39m▆\u001b[39m▆\u001b[39m▆\u001b[39m▅\u001b[39m▄\u001b[39m▄\u001b[39m▄\u001b[39m▃\u001b[39m▄\u001b[39m▃\u001b[39m▂\u001b[39m▃\u001b[39m▃\u001b[39m▄\u001b[39m▄\u001b[39m▅\u001b[39m▄\u001b[39m▅\u001b[39m▄\u001b[39m▃\u001b[39m▅\u001b[39m▅\u001b[39m▅\u001b[39m▄\u001b[39m▄\u001b[39m▄\u001b[39m▄\u001b[39m▄\u001b[39m▅\u001b[39m▄\u001b[39m▃\u001b[39m▄\u001b[39m▄\u001b[39m▄\u001b[39m▅\u001b[39m▅\u001b[39m▆\u001b[39m▅\u001b[39m▆\u001b[39m \u001b[39m█\n",
       "  36.4 μs\u001b[90m      \u001b[39m\u001b[90mHistogram: \u001b[39m\u001b[90m\u001b[1mlog(\u001b[22m\u001b[39m\u001b[90mfrequency\u001b[39m\u001b[90m\u001b[1m)\u001b[22m\u001b[39m\u001b[90m by time\u001b[39m      83.4 μs \u001b[0m\u001b[1m<\u001b[22m\n",
       "\n",
       " Memory estimate\u001b[90m: \u001b[39m\u001b[33m11.95 KiB\u001b[39m, allocs estimate\u001b[90m: \u001b[39m\u001b[33m10\u001b[39m."
      ]
     },
     "execution_count": 86,
     "metadata": {},
     "output_type": "execute_result"
    }
   ],
   "source": [
    "@benchmark distance(pairalign(EditDistance(), lines[1], lines[2], costmodel))"
   ]
  },
  {
   "cell_type": "code",
   "execution_count": 72,
   "id": "25c0d971",
   "metadata": {},
   "outputs": [],
   "source": [
    "x = \"GATTACA\"\n",
    "y = \"GCATGCU\"\n",
    "# Temporary scores.\n",
    "for i in 1:length(x)\n",
    "    for j in 1:length(y)\n",
    "        if x[i] == y[j]\n",
    "            t[1] = F[i,j] - 0\n",
    "        else\n",
    "            t[1] = F[i,j] + 2\n",
    "        end\n",
    "        t[2] = F[i,j+1] + 1\n",
    "        t[3] = F[i+1,j] + 1\n",
    "        tmin = minimum(t)\n",
    "        F[i+1,j+1] = tmin\n",
    "    end\n",
    "end"
   ]
  },
  {
   "cell_type": "code",
   "execution_count": 73,
   "id": "6b6565c6",
   "metadata": {},
   "outputs": [
    {
     "data": {
      "text/plain": [
       "8×8 Array{Int64,2}:\n",
       " 0  1  2  3  4  5  6  7\n",
       " 1  0  1  2  3  4  5  6\n",
       " 2  1  2  1  2  3  4  5\n",
       " 3  2  3  2  1  2  3  4\n",
       " 4  3  4  3  2  3  4  5\n",
       " 5  4  5  4  3  4  5  6\n",
       " 6  5  4  5  4  5  4  5\n",
       " 7  6  5  4  5  6  5  6"
      ]
     },
     "execution_count": 73,
     "metadata": {},
     "output_type": "execute_result"
    }
   ],
   "source": [
    "F"
   ]
  },
  {
   "cell_type": "code",
   "execution_count": 74,
   "id": "03d9b1b0",
   "metadata": {},
   "outputs": [
    {
     "data": {
      "text/plain": [
       "7"
      ]
     },
     "execution_count": 74,
     "metadata": {},
     "output_type": "execute_result"
    }
   ],
   "source": [
    "length(x)"
   ]
  },
  {
   "cell_type": "code",
   "execution_count": 54,
   "id": "b56f9103",
   "metadata": {},
   "outputs": [
    {
     "data": {
      "text/plain": [
       "0"
      ]
     },
     "execution_count": 54,
     "metadata": {},
     "output_type": "execute_result"
    }
   ],
   "source": [
    "minimum([2 2 0])"
   ]
  },
  {
   "cell_type": "code",
   "execution_count": 81,
   "id": "a8dcc234",
   "metadata": {},
   "outputs": [
    {
     "data": {
      "text/plain": [
       "nw_social (generic function with 4 methods)"
      ]
     },
     "execution_count": 81,
     "metadata": {},
     "output_type": "execute_result"
    }
   ],
   "source": [
    "## original pre-optimized NW function\n",
    "function nw_social(x, y, match = 0, mismatch = 2, gap=1)\n",
    "    nx = length(x)\n",
    "    ny = length(y)\n",
    "    # Optimal score at each possible pair of characters.\n",
    "    F = zeros(Int64, nx + 1, ny + 1)\n",
    "    F[:,1] = 0:nx\n",
    "    F[1,:] = 0:ny\n",
    "\n",
    "    # Temporary scores.\n",
    "    t = zeros(Int64, 1, 3)\n",
    "    for i in 1:nx\n",
    "        for j in 1:ny\n",
    "            if x[i] == y[j]\n",
    "                t[1] = F[i,j] - match\n",
    "            else\n",
    "                t[1] = F[i,j] + mismatch\n",
    "            end\n",
    "            t[2] = F[i,j+1] + gap\n",
    "            t[3] = F[i+1,j] + gap\n",
    "            tmin = minimum(t)\n",
    "            F[i+1,j+1] = tmin\n",
    "        end\n",
    "    end\n",
    "    return F[nx+1, ny+1]\n",
    "end"
   ]
  },
  {
   "cell_type": "code",
   "execution_count": 100,
   "id": "28e4b3d1",
   "metadata": {},
   "outputs": [
    {
     "name": "stdout",
     "output_type": "stream",
     "text": [
      "  70.990 μs (3 allocations: 18.61 KiB)\n"
     ]
    },
    {
     "data": {
      "text/plain": [
       "84"
      ]
     },
     "execution_count": 100,
     "metadata": {},
     "output_type": "execute_result"
    }
   ],
   "source": [
    "@btime nw_social(lines[1], lines[2])"
   ]
  },
  {
   "cell_type": "code",
   "execution_count": 98,
   "id": "fb0874f6",
   "metadata": {},
   "outputs": [
    {
     "data": {
      "text/plain": [
       "BenchmarkTools.Trial: 10000 samples with 1 evaluation.\n",
       " Range \u001b[90m(\u001b[39m\u001b[36m\u001b[1mmin\u001b[22m\u001b[39m … \u001b[35mmax\u001b[39m\u001b[90m):  \u001b[39m\u001b[36m\u001b[1m70.929 μs\u001b[22m\u001b[39m … \u001b[35m 4.775 ms\u001b[39m  \u001b[90m┊\u001b[39m GC \u001b[90m(\u001b[39mmin … max\u001b[90m): \u001b[39m0.00% … 98.45%\n",
       " Time  \u001b[90m(\u001b[39m\u001b[34m\u001b[1mmedian\u001b[22m\u001b[39m\u001b[90m):     \u001b[39m\u001b[34m\u001b[1m72.043 μs              \u001b[22m\u001b[39m\u001b[90m┊\u001b[39m GC \u001b[90m(\u001b[39mmedian\u001b[90m):    \u001b[39m0.00%\n",
       " Time  \u001b[90m(\u001b[39m\u001b[32m\u001b[1mmean\u001b[22m\u001b[39m ± \u001b[32mσ\u001b[39m\u001b[90m):   \u001b[39m\u001b[32m\u001b[1m76.060 μs\u001b[22m\u001b[39m ± \u001b[32m90.126 μs\u001b[39m  \u001b[90m┊\u001b[39m GC \u001b[90m(\u001b[39mmean ± σ\u001b[90m):  \u001b[39m2.36% ±  1.97%\n",
       "\n",
       "  \u001b[39m▃\u001b[34m█\u001b[39m\u001b[39m▄\u001b[39m▃\u001b[39m \u001b[39m \u001b[39m \u001b[32m \u001b[39m\u001b[39m \u001b[39m \u001b[39m \u001b[39m \u001b[39m \u001b[39m \u001b[39m \u001b[39m \u001b[39m \u001b[39m \u001b[39m \u001b[39m▂\u001b[39m▁\u001b[39m▁\u001b[39m▂\u001b[39m \u001b[39m \u001b[39m \u001b[39m \u001b[39m \u001b[39m \u001b[39m \u001b[39m \u001b[39m \u001b[39m \u001b[39m \u001b[39m \u001b[39m \u001b[39m \u001b[39m \u001b[39m \u001b[39m \u001b[39m \u001b[39m \u001b[39m \u001b[39m \u001b[39m \u001b[39m \u001b[39m \u001b[39m \u001b[39m \u001b[39m \u001b[39m \u001b[39m \u001b[39m \u001b[39m \u001b[39m \u001b[39m \u001b[39m \u001b[39m \u001b[39m \u001b[39m \u001b[39m▁\n",
       "  \u001b[39m█\u001b[34m█\u001b[39m\u001b[39m█\u001b[39m█\u001b[39m▇\u001b[39m▅\u001b[39m▆\u001b[32m▅\u001b[39m\u001b[39m▅\u001b[39m▁\u001b[39m▆\u001b[39m▄\u001b[39m▁\u001b[39m▆\u001b[39m▁\u001b[39m▅\u001b[39m▅\u001b[39m▁\u001b[39m█\u001b[39m█\u001b[39m█\u001b[39m█\u001b[39m█\u001b[39m▆\u001b[39m▄\u001b[39m▆\u001b[39m▄\u001b[39m▄\u001b[39m▆\u001b[39m▃\u001b[39m▃\u001b[39m▅\u001b[39m▆\u001b[39m▃\u001b[39m▁\u001b[39m▄\u001b[39m▆\u001b[39m▅\u001b[39m▄\u001b[39m▃\u001b[39m▆\u001b[39m▄\u001b[39m▄\u001b[39m▄\u001b[39m█\u001b[39m▇\u001b[39m▄\u001b[39m▄\u001b[39m▅\u001b[39m▅\u001b[39m▅\u001b[39m▅\u001b[39m▃\u001b[39m▅\u001b[39m▅\u001b[39m▆\u001b[39m▆\u001b[39m▅\u001b[39m▆\u001b[39m \u001b[39m█\n",
       "  70.9 μs\u001b[90m      \u001b[39m\u001b[90mHistogram: \u001b[39m\u001b[90m\u001b[1mlog(\u001b[22m\u001b[39m\u001b[90mfrequency\u001b[39m\u001b[90m\u001b[1m)\u001b[22m\u001b[39m\u001b[90m by time\u001b[39m       116 μs \u001b[0m\u001b[1m<\u001b[22m\n",
       "\n",
       " Memory estimate\u001b[90m: \u001b[39m\u001b[33m18.61 KiB\u001b[39m, allocs estimate\u001b[90m: \u001b[39m\u001b[33m3\u001b[39m."
      ]
     },
     "execution_count": 98,
     "metadata": {},
     "output_type": "execute_result"
    }
   ],
   "source": [
    "@benchmark nw_social(lines[1], lines[2])"
   ]
  },
  {
   "cell_type": "code",
   "execution_count": 99,
   "id": "230ed1b5",
   "metadata": {},
   "outputs": [
    {
     "name": "stdout",
     "output_type": "stream",
     "text": [
      "  0.000084 seconds (3 allocations: 18.609 KiB)\n"
     ]
    },
    {
     "data": {
      "text/plain": [
       "84"
      ]
     },
     "execution_count": 99,
     "metadata": {},
     "output_type": "execute_result"
    }
   ],
   "source": [
    "@time nw_social(lines[1], lines[2])"
   ]
  },
  {
   "cell_type": "code",
   "execution_count": 102,
   "id": "0c3c8236",
   "metadata": {},
   "outputs": [
    {
     "data": {
      "text/plain": [
       "cust (generic function with 1 method)"
      ]
     },
     "execution_count": 102,
     "metadata": {},
     "output_type": "execute_result"
    }
   ],
   "source": [
    "## figuring out custom functions on matrices\n",
    "function cust(x, y)\n",
    "    return x*y + y\n",
    "end"
   ]
  },
  {
   "cell_type": "code",
   "execution_count": 104,
   "id": "d665e11e",
   "metadata": {},
   "outputs": [
    {
     "data": {
      "text/plain": [
       "8×8 Array{Int64,2}:\n",
       " 0  1  2  3  4  5  6  7\n",
       " 1  0  1  2  3  4  5  6\n",
       " 2  1  2  1  2  3  4  5\n",
       " 3  2  3  2  1  2  3  4\n",
       " 4  3  4  3  2  3  4  5\n",
       " 5  4  5  4  3  4  5  6\n",
       " 6  5  4  5  4  5  4  5\n",
       " 7  6  5  4  5  6  5  6"
      ]
     },
     "execution_count": 104,
     "metadata": {},
     "output_type": "execute_result"
    }
   ],
   "source": [
    "F"
   ]
  },
  {
   "cell_type": "code",
   "execution_count": 103,
   "id": "e45ed794",
   "metadata": {},
   "outputs": [
    {
     "data": {
      "text/plain": [
       "8×8 Array{Int64,2}:\n",
       "  0   2   6  12  20  30  42  56\n",
       "  2   0   2   6  12  20  30  42\n",
       "  6   2   6   2   6  12  20  30\n",
       " 12   6  12   6   2   6  12  20\n",
       " 20  12  20  12   6  12  20  30\n",
       " 30  20  30  20  12  20  30  42\n",
       " 42  30  20  30  20  30  20  30\n",
       " 56  42  30  20  30  42  30  42"
      ]
     },
     "execution_count": 103,
     "metadata": {},
     "output_type": "execute_result"
    }
   ],
   "source": [
    "map(cust, F, F)"
   ]
  },
  {
   "cell_type": "code",
   "execution_count": 97,
   "id": "fa63108c",
   "metadata": {},
   "outputs": [
    {
     "data": {
      "text/plain": [
       "nw_social (generic function with 8 methods)"
      ]
     },
     "execution_count": 97,
     "metadata": {},
     "output_type": "execute_result"
    }
   ],
   "source": [
    "## first optimization\n",
    "function nw_social(x::String, y::String, match = 0, mismatch = 2, gap=1)\n",
    "    nx = length(x)\n",
    "    ny = length(y)\n",
    "    # Optimal score at each possible pair of characters.\n",
    "    F = zeros(Int16, nx + 1, ny + 1)\n",
    "    F[:,1] = 0:nx\n",
    "    F[1,:] = 0:ny\n",
    "\n",
    "    # Temporary scores.\n",
    "    t = zeros(Int16, 1, 3)\n",
    "    for i in 1:nx\n",
    "        for j in 1:ny\n",
    "            if x[i] == y[j]\n",
    "                t[1] = F[i,j] - match\n",
    "            else\n",
    "                t[1] = F[i,j] + mismatch\n",
    "            end\n",
    "            t[2] = F[i,j+1] + gap\n",
    "            t[3] = F[i+1,j] + gap\n",
    "            tmin = minimum(t)\n",
    "            F[i+1,j+1] = tmin\n",
    "        end\n",
    "    end\n",
    "    return F[nx+1, ny+1]\n",
    "end"
   ]
  },
  {
   "cell_type": "code",
   "execution_count": 15,
   "id": "ebcd3a91",
   "metadata": {},
   "outputs": [],
   "source": [
    "@everywhere function pairalignEditNum_Opt(num::Int, lines = lines, editdist = EditDistance(), cost = costmodel)\n",
    "    pos1 = convert(Int64, floor(num/100000))\n",
    "    pos2 = num - pos1*100000\n",
    "    if pos1>pos2\n",
    "        return distance(pairalign(editdist, lines[pos1], lines[pos2], cost))\n",
    "    else\n",
    "        return 0\n",
    "    end\n",
    "end"
   ]
  },
  {
   "cell_type": "code",
   "execution_count": 16,
   "id": "c4a9ccaa",
   "metadata": {},
   "outputs": [],
   "source": [
    "#@btime pairalignEditNum.(A)"
   ]
  },
  {
   "cell_type": "code",
   "execution_count": 17,
   "id": "e72e345b",
   "metadata": {},
   "outputs": [],
   "source": [
    "## now let's do it for all sequences"
   ]
  },
  {
   "cell_type": "code",
   "execution_count": 18,
   "id": "71f9324f",
   "metadata": {},
   "outputs": [
    {
     "data": {
      "text/plain": [
       "16000×16000 Array{Int64,2}:\n",
       " 0  0  0  0  0  0  0  0  0  0  0  0  0  …  0  0  0  0  0  0  0  0  0  0  0  0\n",
       " 0  0  0  0  0  0  0  0  0  0  0  0  0     0  0  0  0  0  0  0  0  0  0  0  0\n",
       " 0  0  0  0  0  0  0  0  0  0  0  0  0     0  0  0  0  0  0  0  0  0  0  0  0\n",
       " 0  0  0  0  0  0  0  0  0  0  0  0  0     0  0  0  0  0  0  0  0  0  0  0  0\n",
       " 0  0  0  0  0  0  0  0  0  0  0  0  0     0  0  0  0  0  0  0  0  0  0  0  0\n",
       " 0  0  0  0  0  0  0  0  0  0  0  0  0  …  0  0  0  0  0  0  0  0  0  0  0  0\n",
       " 0  0  0  0  0  0  0  0  0  0  0  0  0     0  0  0  0  0  0  0  0  0  0  0  0\n",
       " 0  0  0  0  0  0  0  0  0  0  0  0  0     0  0  0  0  0  0  0  0  0  0  0  0\n",
       " 0  0  0  0  0  0  0  0  0  0  0  0  0     0  0  0  0  0  0  0  0  0  0  0  0\n",
       " 0  0  0  0  0  0  0  0  0  0  0  0  0     0  0  0  0  0  0  0  0  0  0  0  0\n",
       " 0  0  0  0  0  0  0  0  0  0  0  0  0  …  0  0  0  0  0  0  0  0  0  0  0  0\n",
       " 0  0  0  0  0  0  0  0  0  0  0  0  0     0  0  0  0  0  0  0  0  0  0  0  0\n",
       " 0  0  0  0  0  0  0  0  0  0  0  0  0     0  0  0  0  0  0  0  0  0  0  0  0\n",
       " ⋮              ⋮              ⋮        ⋱        ⋮              ⋮           \n",
       " 0  0  0  0  0  0  0  0  0  0  0  0  0     0  0  0  0  0  0  0  0  0  0  0  0\n",
       " 0  0  0  0  0  0  0  0  0  0  0  0  0     0  0  0  0  0  0  0  0  0  0  0  0\n",
       " 0  0  0  0  0  0  0  0  0  0  0  0  0  …  0  0  0  0  0  0  0  0  0  0  0  0\n",
       " 0  0  0  0  0  0  0  0  0  0  0  0  0     0  0  0  0  0  0  0  0  0  0  0  0\n",
       " 0  0  0  0  0  0  0  0  0  0  0  0  0     0  0  0  0  0  0  0  0  0  0  0  0\n",
       " 0  0  0  0  0  0  0  0  0  0  0  0  0     0  0  0  0  0  0  0  0  0  0  0  0\n",
       " 0  0  0  0  0  0  0  0  0  0  0  0  0     0  0  0  0  0  0  0  0  0  0  0  0\n",
       " 0  0  0  0  0  0  0  0  0  0  0  0  0  …  0  0  0  0  0  0  0  0  0  0  0  0\n",
       " 0  0  0  0  0  0  0  0  0  0  0  0  0     0  0  0  0  0  0  0  0  0  0  0  0\n",
       " 0  0  0  0  0  0  0  0  0  0  0  0  0     0  0  0  0  0  0  0  0  0  0  0  0\n",
       " 0  0  0  0  0  0  0  0  0  0  0  0  0     0  0  0  0  0  0  0  0  0  0  0  0\n",
       " 0  0  0  0  0  0  0  0  0  0  0  0  0     0  0  0  0  0  0  0  0  0  0  0  0"
      ]
     },
     "execution_count": 18,
     "metadata": {},
     "output_type": "execute_result"
    }
   ],
   "source": [
    "## 16000 seems to be the limit of my memory\n",
    "d_m = zeros(Int64, length(lines[1:16000]), length(lines[1:16000]))"
   ]
  },
  {
   "cell_type": "code",
   "execution_count": 14,
   "id": "855b1e87",
   "metadata": {},
   "outputs": [],
   "source": [
    "for i in 1:length(lines[1:16000])\n",
    "    for j in 1:length(lines[1:16000])\n",
    "        d_m[i,j] = i*100000 + j\n",
    "    end\n",
    "end"
   ]
  },
  {
   "cell_type": "code",
   "execution_count": 15,
   "id": "ca25dc78",
   "metadata": {},
   "outputs": [
    {
     "data": {
      "text/plain": [
       "16000×16000 Array{Int64,2}:\n",
       "     100001      100002      100003  …      115998      115999      116000\n",
       "     200001      200002      200003         215998      215999      216000\n",
       "     300001      300002      300003         315998      315999      316000\n",
       "     400001      400002      400003         415998      415999      416000\n",
       "     500001      500002      500003         515998      515999      516000\n",
       "     600001      600002      600003  …      615998      615999      616000\n",
       "     700001      700002      700003         715998      715999      716000\n",
       "     800001      800002      800003         815998      815999      816000\n",
       "     900001      900002      900003         915998      915999      916000\n",
       "    1000001     1000002     1000003        1015998     1015999     1016000\n",
       "    1100001     1100002     1100003  …     1115998     1115999     1116000\n",
       "    1200001     1200002     1200003        1215998     1215999     1216000\n",
       "    1300001     1300002     1300003        1315998     1315999     1316000\n",
       "          ⋮                          ⋱                          \n",
       " 1598900001  1598900002  1598900003     1598915998  1598915999  1598916000\n",
       " 1599000001  1599000002  1599000003     1599015998  1599015999  1599016000\n",
       " 1599100001  1599100002  1599100003  …  1599115998  1599115999  1599116000\n",
       " 1599200001  1599200002  1599200003     1599215998  1599215999  1599216000\n",
       " 1599300001  1599300002  1599300003     1599315998  1599315999  1599316000\n",
       " 1599400001  1599400002  1599400003     1599415998  1599415999  1599416000\n",
       " 1599500001  1599500002  1599500003     1599515998  1599515999  1599516000\n",
       " 1599600001  1599600002  1599600003  …  1599615998  1599615999  1599616000\n",
       " 1599700001  1599700002  1599700003     1599715998  1599715999  1599716000\n",
       " 1599800001  1599800002  1599800003     1599815998  1599815999  1599816000\n",
       " 1599900001  1599900002  1599900003     1599915998  1599915999  1599916000\n",
       " 1600000001  1600000002  1600000003     1600015998  1600015999  1600016000"
      ]
     },
     "execution_count": 15,
     "metadata": {},
     "output_type": "execute_result"
    }
   ],
   "source": [
    "d_m"
   ]
  },
  {
   "cell_type": "code",
   "execution_count": 16,
   "id": "a3ebe5ef",
   "metadata": {},
   "outputs": [
    {
     "data": {
      "text/plain": [
       "16000×16000 DArray{Int64,2,Array{Int64,2}}:\n",
       "    100001     100002     100003  …     103998     103999     104000\n",
       "    200001     200002     200003        203998     203999     204000\n",
       "    300001     300002     300003        303998     303999     304000\n",
       "    400001     400002     400003        403998     403999     404000\n",
       "    500001     500002     500003        503998     503999     504000\n",
       "    600001     600002     600003  …     603998     603999     604000\n",
       "    700001     700002     700003        703998     703999     704000\n",
       "    800001     800002     800003        803998     803999     804000\n",
       "    900001     900002     900003        903998     903999     904000\n",
       "   1000001    1000002    1000003       1003998    1003999    1004000\n",
       "   1100001    1100002    1100003  …    1103998    1103999    1104000\n",
       "   1200001    1200002    1200003       1203998    1203999    1204000\n",
       "   1300001    1300002    1300003       1303998    1303999    1304000\n",
       "         ⋮                        ⋱                        \n",
       " 398900001  398900002  398900003     398903998  398903999  398904000\n",
       " 399000001  399000002  399000003     399003998  399003999  399004000\n",
       " 399100001  399100002  399100003  …  399103998  399103999  399104000\n",
       " 399200001  399200002  399200003     399203998  399203999  399204000\n",
       " 399300001  399300002  399300003     399303998  399303999  399304000\n",
       " 399400001  399400002  399400003     399403998  399403999  399404000\n",
       " 399500001  399500002  399500003     399503998  399503999  399504000\n",
       " 399600001  399600002  399600003  …  399603998  399603999  399604000\n",
       " 399700001  399700002  399700003     399703998  399703999  399704000\n",
       " 399800001  399800002  399800003     399803998  399803999  399804000\n",
       " 399900001  399900002  399900003     399903998  399903999  399904000\n",
       " 400000001  400000002  400000003     400003998  400003999  400004000"
      ]
     },
     "execution_count": 16,
     "metadata": {},
     "output_type": "execute_result"
    }
   ],
   "source": [
    "#sometime this fails, repeat a few times if it does\n",
    "A = DArray(I->d_m, (length(lines[1:16000]), length(lines[1:16000])))"
   ]
  },
  {
   "cell_type": "code",
   "execution_count": null,
   "id": "8ff393e7",
   "metadata": {},
   "outputs": [],
   "source": [
    "## I stopped it at more than 3 hours... too long\n",
    "start = Dates.format(now(), \"HH:MM\")\n",
    "print(start)\n",
    "#pairalignEditNum.(A)\n",
    "print(Dates.format(now(), \"HH:MM\"))"
   ]
  },
  {
   "cell_type": "code",
   "execution_count": null,
   "id": "11c75929",
   "metadata": {},
   "outputs": [],
   "source": [
    "## need to do a few tweaks to pairalign to run faster"
   ]
  },
  {
   "cell_type": "code",
   "execution_count": null,
   "id": "b06c75d5",
   "metadata": {},
   "outputs": [],
   "source": [
    "arr = zeros(Int64, 0)\n",
    "for i in 1:length(lines)\n",
    "    for j in 1:length(lines)\n",
    "        if i>j\n",
    "            append!(arr, i*100000 + j)\n",
    "        end\n",
    "    end\n",
    "end"
   ]
  },
  {
   "cell_type": "code",
   "execution_count": null,
   "id": "6d486e72",
   "metadata": {},
   "outputs": [],
   "source": [
    "convert(Int64, (18776*18776/2)-18776)"
   ]
  },
  {
   "cell_type": "code",
   "execution_count": null,
   "id": "16ec80ff",
   "metadata": {},
   "outputs": [],
   "source": [
    "arr"
   ]
  },
  {
   "cell_type": "code",
   "execution_count": null,
   "id": "dfa56451",
   "metadata": {},
   "outputs": [],
   "source": [
    "arr = reshape(arr, (1762597, 100))"
   ]
  },
  {
   "cell_type": "code",
   "execution_count": null,
   "id": "a0f5ed3a",
   "metadata": {},
   "outputs": [],
   "source": [
    "A = DArray(I->arr, (1762597, 100))"
   ]
  },
  {
   "cell_type": "code",
   "execution_count": null,
   "id": "0d68241f",
   "metadata": {},
   "outputs": [],
   "source": [
    "output_mat = pairalignEditNum.(A)"
   ]
  },
  {
   "cell_type": "code",
   "execution_count": null,
   "id": "666b5c84",
   "metadata": {},
   "outputs": [],
   "source": [
    "print(Dates.format(now(), \"HH:MM\"))"
   ]
  },
  {
   "cell_type": "code",
   "execution_count": null,
   "id": "97639571",
   "metadata": {},
   "outputs": [],
   "source": [
    "## approximately 20-23 min to calculate the above!\n",
    "## now, I need to map it back to the dissimilarity matrix"
   ]
  },
  {
   "cell_type": "code",
   "execution_count": null,
   "id": "b08559d3",
   "metadata": {},
   "outputs": [],
   "source": [
    "arr = reshape(arr, (:, 1))\n",
    "vs = reshape(output_mat, (:, 1))"
   ]
  },
  {
   "cell_type": "code",
   "execution_count": null,
   "id": "69d93301",
   "metadata": {},
   "outputs": [],
   "source": [
    "x=[1,2,3]\n",
    "popfirst!(x)\n",
    "x"
   ]
  },
  {
   "cell_type": "code",
   "execution_count": null,
   "id": "b599e386",
   "metadata": {},
   "outputs": [],
   "source": [
    "x =1 \n",
    "x+=1"
   ]
  },
  {
   "cell_type": "code",
   "execution_count": null,
   "id": "466fb18b",
   "metadata": {},
   "outputs": [],
   "source": [
    "#d_m = zeros(Int64, length(lines), length(lines))\n",
    "#counter = 1\n",
    "#for i in 1:length(lines)\n",
    "#    for j in 1:length(lines)\n",
    "#        if i!=j\n",
    "#            if i > j                \n",
    "#                d_m[i,j] = vs[counter]\n",
    "#                counter +=1\n",
    "#            end\n",
    "#            d_m[j,i] = d_m[i,j]\n",
    "#        end\n",
    "#    end\n",
    "#end\n",
    "## takes too long"
   ]
  },
  {
   "cell_type": "code",
   "execution_count": null,
   "id": "81b6abcf",
   "metadata": {},
   "outputs": [],
   "source": [
    "A"
   ]
  },
  {
   "cell_type": "code",
   "execution_count": 17,
   "id": "a7b45209",
   "metadata": {},
   "outputs": [],
   "source": []
  },
  {
   "cell_type": "code",
   "execution_count": 18,
   "id": "893b94f1",
   "metadata": {},
   "outputs": [
    {
     "name": "stdout",
     "output_type": "stream",
     "text": [
      "11:30"
     ]
    }
   ],
   "source": [
    "using Dates\n",
    "print(Dates.format(now(), \"HH:MM\"))"
   ]
  },
  {
   "cell_type": "code",
   "execution_count": 19,
   "id": "a1fb7eb6",
   "metadata": {},
   "outputs": [
    {
     "data": {
      "text/plain": [
       "16000×16000 DArray{Int64,2,Array{Int64,2}}:\n",
       "   0    0    0    0    0    0    0    0  …    0   0    0   0   0   0   0  0\n",
       "  84    0    0    0    0    0    0    0       0   0    0   0   0   0   0  0\n",
       " 100   70    0    0    0    0    0    0       0   0    0   0   0   0   0  0\n",
       " 108   76   80    0    0    0    0    0       0   0    0   0   0   0   0  0\n",
       " 100  120  114  114    0    0    0    0       0   0    0   0   0   0   0  0\n",
       " 136  136  136  136  136    0    0    0  …    0   0    0   0   0   0   0  0\n",
       "  94  116  126  134   56  140    0    0       0   0    0   0   0   0   0  0\n",
       "  94  102   84   98  114  136  130    0       0   0    0   0   0   0   0  0\n",
       " 100  110  112  126   60  138   64  106       0   0    0   0   0   0   0  0\n",
       "  78  102  110  128  124  136   90  110       0   0    0   0   0   0   0  0\n",
       "  78   80   84   92  122  126   84  116  …    0   0    0   0   0   0   0  0\n",
       "  94   76   70   74  110  136  116  102       0   0    0   0   0   0   0  0\n",
       "  94   72   80   84  110  110  114   96       0   0    0   0   0   0   0  0\n",
       "   ⋮                        ⋮            ⋱                 ⋮              \n",
       "  88   74   82   80  102  130  110   74       0   0    0   0   0   0   0  0\n",
       "  96   72   68   82  116  126  106  116       0   0    0   0   0   0   0  0\n",
       " 112  120  130  134   76  138   72  114  …    0   0    0   0   0   0   0  0\n",
       " 116   74   84   70  120  130  124  118       0   0    0   0   0   0   0  0\n",
       "  96   82   86   86  106   90  112   98       0   0    0   0   0   0   0  0\n",
       " 104   78   86   68  102  122  124   90      58   0    0   0   0   0   0  0\n",
       " 112  102   86   98  116  136  126  116      94  88    0   0   0   0   0  0\n",
       "  86   78   76   76  116  122  104   94  …   70  80   96   0   0   0   0  0\n",
       "  92   80   70   76  102  136  108   92      86  72   88  74   0   0   0  0\n",
       "  80   80   84   98  120  136   92  110      84  78   88  74  80   0   0  0\n",
       " 102   84   82   84  126  144  134  106     100  76  104  96  86  98   0  0\n",
       "  74   90   92  100  102  130  112   78      86  90  116  82  90  90  98  0"
      ]
     },
     "execution_count": 19,
     "metadata": {},
     "output_type": "execute_result"
    }
   ],
   "source": [
    "output_mat_opt = pairalignEditNum_Opt.(A)"
   ]
  },
  {
   "cell_type": "code",
   "execution_count": 20,
   "id": "b20a45b4",
   "metadata": {},
   "outputs": [
    {
     "name": "stdout",
     "output_type": "stream",
     "text": [
      "11:46"
     ]
    }
   ],
   "source": [
    "print(Dates.format(now(), \"HH:MM\"))"
   ]
  },
  {
   "cell_type": "code",
   "execution_count": 21,
   "id": "46f21909",
   "metadata": {},
   "outputs": [
    {
     "data": {
      "text/plain": [
       "16000×16000 Array{Int64,2}:\n",
       "   0    0    0    0    0    0    0    0  …    0   0    0   0   0   0   0  0\n",
       "  84    0    0    0    0    0    0    0       0   0    0   0   0   0   0  0\n",
       " 100   70    0    0    0    0    0    0       0   0    0   0   0   0   0  0\n",
       " 108   76   80    0    0    0    0    0       0   0    0   0   0   0   0  0\n",
       " 100  120  114  114    0    0    0    0       0   0    0   0   0   0   0  0\n",
       " 136  136  136  136  136    0    0    0  …    0   0    0   0   0   0   0  0\n",
       "  94  116  126  134   56  140    0    0       0   0    0   0   0   0   0  0\n",
       "  94  102   84   98  114  136  130    0       0   0    0   0   0   0   0  0\n",
       " 100  110  112  126   60  138   64  106       0   0    0   0   0   0   0  0\n",
       "  78  102  110  128  124  136   90  110       0   0    0   0   0   0   0  0\n",
       "  78   80   84   92  122  126   84  116  …    0   0    0   0   0   0   0  0\n",
       "  94   76   70   74  110  136  116  102       0   0    0   0   0   0   0  0\n",
       "  94   72   80   84  110  110  114   96       0   0    0   0   0   0   0  0\n",
       "   ⋮                        ⋮            ⋱                 ⋮              \n",
       "  88   74   82   80  102  130  110   74       0   0    0   0   0   0   0  0\n",
       "  96   72   68   82  116  126  106  116       0   0    0   0   0   0   0  0\n",
       " 112  120  130  134   76  138   72  114  …    0   0    0   0   0   0   0  0\n",
       " 116   74   84   70  120  130  124  118       0   0    0   0   0   0   0  0\n",
       "  96   82   86   86  106   90  112   98       0   0    0   0   0   0   0  0\n",
       " 104   78   86   68  102  122  124   90      58   0    0   0   0   0   0  0\n",
       " 112  102   86   98  116  136  126  116      94  88    0   0   0   0   0  0\n",
       "  86   78   76   76  116  122  104   94  …   70  80   96   0   0   0   0  0\n",
       "  92   80   70   76  102  136  108   92      86  72   88  74   0   0   0  0\n",
       "  80   80   84   98  120  136   92  110      84  78   88  74  80   0   0  0\n",
       " 102   84   82   84  126  144  134  106     100  76  104  96  86  98   0  0\n",
       "  74   90   92  100  102  130  112   78      86  90  116  82  90  90  98  0"
      ]
     },
     "execution_count": 21,
     "metadata": {},
     "output_type": "execute_result"
    }
   ],
   "source": [
    "B = Array(output_mat_opt)"
   ]
  },
  {
   "cell_type": "code",
   "execution_count": 26,
   "id": "7a684d3d",
   "metadata": {},
   "outputs": [
    {
     "data": {
      "text/plain": [
       "16000"
      ]
     },
     "execution_count": 26,
     "metadata": {},
     "output_type": "execute_result"
    }
   ],
   "source": [
    "convert(Int64, length(B)^0.5)"
   ]
  },
  {
   "cell_type": "code",
   "execution_count": 27,
   "id": "07640e9f",
   "metadata": {},
   "outputs": [],
   "source": [
    "for i in 1:convert(Int64, length(B)^0.5)\n",
    "    for j in 1:convert(Int64, length(B)^0.5)\n",
    "        if i<j\n",
    "            if B[i,j] == 0\n",
    "                B[i,j] = B[j,i]\n",
    "            end\n",
    "        end\n",
    "    end\n",
    "end"
   ]
  },
  {
   "cell_type": "code",
   "execution_count": 28,
   "id": "5db1cbeb",
   "metadata": {},
   "outputs": [
    {
     "data": {
      "text/plain": [
       "16000×16000 Array{Int64,2}:\n",
       "   0   84  100  108  100  136   94   94  …  104  112   86   92   80  102   74\n",
       "  84    0   70   76  120  136  116  102      78  102   78   80   80   84   90\n",
       " 100   70    0   80  114  136  126   84      86   86   76   70   84   82   92\n",
       " 108   76   80    0  114  136  134   98      68   98   76   76   98   84  100\n",
       " 100  120  114  114    0  136   56  114     102  116  116  102  120  126  102\n",
       " 136  136  136  136  136    0  140  136  …  122  136  122  136  136  144  130\n",
       "  94  116  126  134   56  140    0  130     124  126  104  108   92  134  112\n",
       "  94  102   84   98  114  136  130    0      90  116   94   92  110  106   78\n",
       " 100  110  112  126   60  138   64  106     110  132  112   96  120  114  102\n",
       "  78  102  110  128  124  136   90  110     106  104   92  110   66  118   94\n",
       "  78   80   84   92  122  126   84  116  …   90   90   62   88   68  108   96\n",
       "  94   76   70   74  110  136  116  102      66   96   54   76   78   90   96\n",
       "  94   72   80   84  110  110  114   96      68   92   62   82   76   86   84\n",
       "   ⋮                        ⋮            ⋱              ⋮                 \n",
       "  88   74   82   80  102  130  110   74      70   92   74   88   88   96   94\n",
       "  96   72   68   82  116  126  106  116      80   78   46   74   64   96   90\n",
       " 112  120  130  134   76  138   72  114  …  116  150  108  130  116  130  106\n",
       " 116   74   84   70  120  130  124  118      74  112   78   70  104   80  118\n",
       "  96   82   86   86  106   90  112   98      58   94   70   86   84  100   86\n",
       " 104   78   86   68  102  122  124   90       0   88   80   72   78   76   90\n",
       " 112  102   86   98  116  136  126  116      88    0   96   88   88  104  116\n",
       "  86   78   76   76  116  122  104   94  …   80   96    0   74   74   96   82\n",
       "  92   80   70   76  102  136  108   92      72   88   74    0   80   86   90\n",
       "  80   80   84   98  120  136   92  110      78   88   74   80    0   98   90\n",
       " 102   84   82   84  126  144  134  106      76  104   96   86   98    0   98\n",
       "  74   90   92  100  102  130  112   78      90  116   82   90   90   98    0"
      ]
     },
     "execution_count": 28,
     "metadata": {},
     "output_type": "execute_result"
    }
   ],
   "source": [
    "B"
   ]
  },
  {
   "cell_type": "code",
   "execution_count": 105,
   "id": "a290e7d3",
   "metadata": {},
   "outputs": [
    {
     "data": {
      "text/plain": [
       "18776-element Array{String,1}:\n",
       " \"aaaaaaaaaaciihhhhhhhhhkkgggggkkcciihhhhhkkkggggkkkcciiiihhhhjjjhhhbbbbeehhaaaaaaaaaaaaaaaaaaaaaa\"\n",
       " \"aaaaaaaaaaaaaaaaijjkkkkgggggggggggggkkkkkiihhhhhhhhhjjjjjjjjccijjjjjjjjjjjjihjaaaaaaaaaaaaaaaaaa\"\n",
       " \"aaaaaaaaaaaaaaaajdddddkkkeekkkkkkkkjjjjjjjjjjjjjjjiiikkkkkkkkkkkkddddhaaaaaaaaaaaaaaaaaaaaaaaaaa\"\n",
       " \"aaaaaaaaaaaaaaaabbbbbbkdddjjjjjjjiiiiigggdddddddddddkkdkiiiiiiijjjjjjjjjjjjjjjjjkaaaaaaaaaaaaaaa\"\n",
       " \"aaaaaaaaaacbbbkkffffffffffffffffffffffffffffffffffffffffffffkkccciiiiiiiibaaaaaaaaaaaaaaaaaaaaaa\"\n",
       " \"aaaaaaaaaaaaaaaaaaaaaaaaaaaajjcccccccccccccccccccccccccccciiiiccccccccccccccccccccccccccccccjjjj\"\n",
       " \"aaaaaaibbfffffjfffffffffjfffffffjjffffffffjffffffffffkhhhhhhhhhhhhhhhhhhhhhhaaaaaaaaaaaaaaaaaaaa\"\n",
       " \"aaaaaaaaaadddcccckgggggggggkggccccccccccbddddddddjjjkkdkkkdddkkkdddddkkkaaaaaaaaaaaaaaaaaaaaaaaa\"\n",
       " \"aaaaaaaabiifffffffffffffffffffffffffkkkkkkkkggggkkkcccccccciccfffffffffffffaaaaajaaaaaaaaaaajaaa\"\n",
       " \"hhcccciijjaaaaaaajjjhhhhhhhhhhhhchhccccijhhhhhhhhhhhhccjjaaaaaahhhhhajjjaaaaaaaaaaaaaaaaaaaaaaaa\"\n",
       " \"aaaaaaaaaaaaaaaaaaabjjjjjjjhhhhcihhhhhhhhhhhhhaaaaaaaajjjjhhhhhhhhhhjjjjjjaaaaaaaaaaaaaaaaaaaaaa\"\n",
       " \"aaaaaaaaaaaaaaaaddcdckkjjjjjjjjjjjjjjjjjjjjjjjjjjjjjkkcccciijjjjjddccbhhhhhhaaaaaaaaaaaaaaaaaaaa\"\n",
       " \"aaaaaaaaaaaaaaaaciiccccjjcccccccciicjjjjjjjjjbbbbbbjjjjjcchciiicjbjjjjjjhhhhaaaaaaaaaaaaaaaaaaaa\"\n",
       " ⋮\n",
       " \"aaaaaaaaccibhhhhhhffffffffffffffffffciiiffffffffffffffjjjjccciihhhhjjjjjaaaaaaaaaaaaaaaaaaaaaaaa\"\n",
       " \"ffffffffffffffffaaaaaaaaaaaaaaaaaaaaaaaaaaaaaaaacccccbjjjjjjjjjjkjjjjjjjjjjjjjjjjjjjjjjjjjjjjjjj\"\n",
       " \"aaaaaaaaaaaaaaaaaaaaaaaacicccbjcccjjjjjjjaaaaaajjjccccccchhhhhhhhhhhhhhhjjaaaaaaaaaaaaaaaaaaaaaa\"\n",
       " \"aaaaaaaaaaaaiiffffffffccccccccccccckkkhhhhhjjjjjjjhhhhhhjjccccccaaaaaaaaaaaaaaaaaaaaaaaaaaaaaaaa\"\n",
       " \"aaaaaaaaaaaaaaaajjccchhhhhjjcccccccccccchhhhhjjjjjjhhhhjjjjjjjjhhhhccihhjjaaaaaaaaaaaaaaaaaaaaaa\"\n",
       " \"aaaaaaaaaaaaaaaaaaaaiiiiccccccccccccccccccccccccggkeeeebbbcccihhhhhhhhhbaaaaaaaaaaaaaaaaaaaaaaaa\"\n",
       " \"aaaaaaaaaaaaaaaaaaaakkkkekkkkkiiiiiikkkekkkccccccccccccckkkjjjjkkkjjjjjjjjkkkkbaaaaaaaaaaaaaaaaa\"\n",
       " \"aaaaaaaaaaaaaakgggjjjjjcccccccccccccccjjkkjjjjjjjjjjjjjjkkiccccccccccjdddddjjaaaaaaaaaaaaaaaaaaa\"\n",
       " \"aaaaaaaaaaaaaaaaaaaaaaaaaaaaaaaabbbihhhhhhcckkkkkkjjjjjjjjjjjjjjjjjjjjjjjkkkkkaaaaaaaaaaaaaaaaaa\"\n",
       " \"aaaaaaaaaajiffffffffffffbbbbjjkkffffffkikkfffffffffffffffffijjjjjjjjjjaaaaaaaaaaaaaaaaaaaaaaaaaa\"\n",
       " \"aaaaffffaaaabbcciibbjjjjjjjjjjjjiiiiiikkkkkkkkkkjjjjkcccckjjjjjjkjjjjjjkbaaaaaaaaaaaaaaaaaaaaaaa\"\n",
       " \"aaaaaaaaaaaaaaiiiicccbcccccccccccccccccciiccccccccjjjjccciicchhhhbbhhhhhaaaaaaaaaaaaaaaaaaaaaaaa\""
      ]
     },
     "execution_count": 105,
     "metadata": {},
     "output_type": "execute_result"
    }
   ],
   "source": [
    "lines"
   ]
  },
  {
   "cell_type": "code",
   "execution_count": 130,
   "id": "ed3b6940",
   "metadata": {},
   "outputs": [
    {
     "data": {
      "text/plain": [
       "2×3 LinearAlgebra.Transpose{Int64,Array{Int64,2}}:\n",
       " 1  2  3\n",
       " 1  2  3"
      ]
     },
     "execution_count": 130,
     "metadata": {},
     "output_type": "execute_result"
    }
   ],
   "source": [
    "transpose(repeat([1, 2, 3], 1, 2))"
   ]
  },
  {
   "cell_type": "code",
   "execution_count": 135,
   "id": "b5e373a0",
   "metadata": {},
   "outputs": [
    {
     "data": {
      "text/plain": [
       "6927473252106674691523627520335147776925085743162699592686413828811023122169835337024438701670262334687063144163775776335579494157456852549749834628993304761605994535633164"
      ]
     },
     "execution_count": 135,
     "metadata": {},
     "output_type": "execute_result"
    }
   ],
   "source": [
    "parse(BigInt, lines[1], base=62)"
   ]
  },
  {
   "cell_type": "code",
   "execution_count": 137,
   "id": "fe0a3eda",
   "metadata": {},
   "outputs": [
    {
     "data": {
      "text/plain": [
       "\"aaaaaaaaaaciihhhhhhhhhkkgggggkkcciihhhhhkkkggggkkkcciiiihhhhjjjhhhbbbbeehhaaaaaaaaaaaaaaaaaaaaaa\""
      ]
     },
     "execution_count": 137,
     "metadata": {},
     "output_type": "execute_result"
    }
   ],
   "source": [
    "string(6927473252106674691523627520335147776925085743162699592686413828811023122169835337024438701670262334687063144163775776335579494157456852549749834628993304761605994535633164, base=62)"
   ]
  },
  {
   "cell_type": "code",
   "execution_count": 138,
   "id": "c5e579e7",
   "metadata": {},
   "outputs": [
    {
     "data": {
      "text/plain": [
       "18776-element Array{BigInt,1}:\n",
       " 6927473252106674691523627520335147776925085743162699592686413828811023122169835337024438701670262334687063144163775776335579494157456852549749834628993304761605994535633164\n",
       " 6927473252106674691042891952065567254678666522809635594414755251908381043482034726493380715390661729391332510733760291956684889166145943211006288465220698172669657673548044\n",
       " 6927473252106674691042891952069148006905860230745848122608175389591161912020161461929510425452816063757548757393268843880428577693117808196061545167071360749864203312611596\n",
       " 6927473252106674691042891952037246608904360791426459962132313499991856268375976688973962075161193135640913582854793245082002540252618968135093886226145894515437204126875916\n",
       " 6927473252106674691497742808802885794648147288759125197955442533907207914170337453950471707761051922012313573799348565202848729959875344935357683764138928471928161030553868\n",
       " 6927473252106674691042891952033210105483114373668275711995415646742921798255992078745131183834559572590394556305958595366953745819548919339176235454022725582116600023839359\n",
       " 6927473252133394928519865049551746630372546419783817249061383781034572398640588373281757196146034635749133126608290252183064522361340225952381318913652684298123336600961292\n",
       " 6927473252106674691730714025701576680263313503360461497472363476654059979877399980030982450831482718432747374243081180318088786227114327202899540614337567725883108441637132\n",
       " 6927473252106675671867446911265489586878881403896981822222503629543603585806037415715961764930958082574074604267161588068234843563274247802336007120088917607717983626918852\n",
       " 8274231641112910409357364788744444316854681359214993676043972792308726133534675140292194237455502329131671753546858716035437961181961749843825499220806547464483600214966540\n",
       " 6927473252106674691042891952033210124605259365704023498650860652993571733941245659301626695823243366496896038206672498180597245797292427541580280649508234260354388245266700\n",
       " 6927473252106674691042891952045318582364855922484684490566608430653044058963712758347014936900141975390069643075836270457614720826027746304220988769345903374356612320510220\n",
       " 6927473252106674691042891952041673640067095460165678420260872912296119453533993092462054725573687374306713086603117762901669206126419011822058476217682206844252104629600524\n",
       "                                                                                                                                                                            ⋮\n",
       " 6927473252106676455054176180290098459668317231692681313800298664097277021841912537403996302065314291587845761414321072899703227556694643822089700695830155396291873610580236\n",
       " 7889622314899268398132182500906528991919361529307310464415701027338322436922756512010830291579803945065993204671349854324326293487069762245255042388620322760265277987451215\n",
       " 6927473252106674691042891952033210105483114412402951809858044911153958721000870355482260148234946440520901019202427593994154216049800850908273173055069182325843386416414988\n",
       " 6927473252106674691043369063330717894584865599869675131493560485340275483565438838794300502252430423264705094168325954557908067166663330150696527692008539337804948818280716\n",
       " 6927473252106674691042891952069531285738143269297811476843505477955801545956322117998668156456314338322653495683018746187455895494928806978214269103150423118936083130925324\n",
       " 6927473252106674691042891952033210107668502261834712274373655180099669719004205036451631258979849316946843991427451451386989123104112880386853596624048413558260552013889804\n",
       " 6927473252106674691042891952033210108214849263396253592867393885694969902466946170493696454843727665234438757792070041384157797968269456440640430935669545254249241288687884\n",
       " 6927473252106674691042892106195351895842526714294580830164236081013584112861428483883238104663064740347663687709422570103364579504096749009669695220829566724795149588807948\n",
       " 6927473252106674691042891952033210105483114373668264454036097731626946911496867711693629605597593764580529182112363132455303212437373599315523985608261772356352288111116556\n",
       " 6927473252106674693102484151569591558696684232772795553716007657492772454052661596891895102667939589584084668070637151438018938076166659270712641992229232516464905083863308\n",
       " 6927473317220854395565750492458358153154235315162938150158744494449813706249204282877480215186418820708702918313903219056834981342657997528096730220097730252447764308476172\n",
       " 6927473252106674691042892076163756995753261414004248056892271409056722699443144636970734813665052932619326793593298881783584547296748834609328797518238437893297825822458124"
      ]
     },
     "execution_count": 138,
     "metadata": {},
     "output_type": "execute_result"
    }
   ],
   "source": [
    "## to use matrix operations effectively, you need to hash strings into integers\n",
    "hashed_lines = parse.(BigInt, lines, base=62)"
   ]
  },
  {
   "cell_type": "code",
   "execution_count": 141,
   "id": "4f647f00",
   "metadata": {},
   "outputs": [
    {
     "data": {
      "text/plain": [
       "18776×18776 LinearAlgebra.Transpose{BigInt,Array{BigInt,2}}:\n",
       " 6927473252106674691523627520335147776925085743162699592686413828811023122169835337024438701670262334687063144163775776335579494157456852549749834628993304761605994535633164  …  6927473252106674691042892076163756995753261414004248056892271409056722699443144636970734813665052932619326793593298881783584547296748834609328797518238437893297825822458124\n",
       " 6927473252106674691523627520335147776925085743162699592686413828811023122169835337024438701670262334687063144163775776335579494157456852549749834628993304761605994535633164     6927473252106674691042892076163756995753261414004248056892271409056722699443144636970734813665052932619326793593298881783584547296748834609328797518238437893297825822458124\n",
       " 6927473252106674691523627520335147776925085743162699592686413828811023122169835337024438701670262334687063144163775776335579494157456852549749834628993304761605994535633164     6927473252106674691042892076163756995753261414004248056892271409056722699443144636970734813665052932619326793593298881783584547296748834609328797518238437893297825822458124\n",
       " 6927473252106674691523627520335147776925085743162699592686413828811023122169835337024438701670262334687063144163775776335579494157456852549749834628993304761605994535633164     6927473252106674691042892076163756995753261414004248056892271409056722699443144636970734813665052932619326793593298881783584547296748834609328797518238437893297825822458124\n",
       " 6927473252106674691523627520335147776925085743162699592686413828811023122169835337024438701670262334687063144163775776335579494157456852549749834628993304761605994535633164     6927473252106674691042892076163756995753261414004248056892271409056722699443144636970734813665052932619326793593298881783584547296748834609328797518238437893297825822458124\n",
       " 6927473252106674691523627520335147776925085743162699592686413828811023122169835337024438701670262334687063144163775776335579494157456852549749834628993304761605994535633164  …  6927473252106674691042892076163756995753261414004248056892271409056722699443144636970734813665052932619326793593298881783584547296748834609328797518238437893297825822458124\n",
       " 6927473252106674691523627520335147776925085743162699592686413828811023122169835337024438701670262334687063144163775776335579494157456852549749834628993304761605994535633164     6927473252106674691042892076163756995753261414004248056892271409056722699443144636970734813665052932619326793593298881783584547296748834609328797518238437893297825822458124\n",
       " 6927473252106674691523627520335147776925085743162699592686413828811023122169835337024438701670262334687063144163775776335579494157456852549749834628993304761605994535633164     6927473252106674691042892076163756995753261414004248056892271409056722699443144636970734813665052932619326793593298881783584547296748834609328797518238437893297825822458124\n",
       " 6927473252106674691523627520335147776925085743162699592686413828811023122169835337024438701670262334687063144163775776335579494157456852549749834628993304761605994535633164     6927473252106674691042892076163756995753261414004248056892271409056722699443144636970734813665052932619326793593298881783584547296748834609328797518238437893297825822458124\n",
       " 6927473252106674691523627520335147776925085743162699592686413828811023122169835337024438701670262334687063144163775776335579494157456852549749834628993304761605994535633164     6927473252106674691042892076163756995753261414004248056892271409056722699443144636970734813665052932619326793593298881783584547296748834609328797518238437893297825822458124\n",
       " 6927473252106674691523627520335147776925085743162699592686413828811023122169835337024438701670262334687063144163775776335579494157456852549749834628993304761605994535633164  …  6927473252106674691042892076163756995753261414004248056892271409056722699443144636970734813665052932619326793593298881783584547296748834609328797518238437893297825822458124\n",
       " 6927473252106674691523627520335147776925085743162699592686413828811023122169835337024438701670262334687063144163775776335579494157456852549749834628993304761605994535633164     6927473252106674691042892076163756995753261414004248056892271409056722699443144636970734813665052932619326793593298881783584547296748834609328797518238437893297825822458124\n",
       " 6927473252106674691523627520335147776925085743162699592686413828811023122169835337024438701670262334687063144163775776335579494157456852549749834628993304761605994535633164     6927473252106674691042892076163756995753261414004248056892271409056722699443144636970734813665052932619326793593298881783584547296748834609328797518238437893297825822458124\n",
       "                                                                                                                                                                            ⋮  ⋱                                                                                                                                                                             ⋮\n",
       " 6927473252106674691523627520335147776925085743162699592686413828811023122169835337024438701670262334687063144163775776335579494157456852549749834628993304761605994535633164     6927473252106674691042892076163756995753261414004248056892271409056722699443144636970734813665052932619326793593298881783584547296748834609328797518238437893297825822458124\n",
       " 6927473252106674691523627520335147776925085743162699592686413828811023122169835337024438701670262334687063144163775776335579494157456852549749834628993304761605994535633164  …  6927473252106674691042892076163756995753261414004248056892271409056722699443144636970734813665052932619326793593298881783584547296748834609328797518238437893297825822458124\n",
       " 6927473252106674691523627520335147776925085743162699592686413828811023122169835337024438701670262334687063144163775776335579494157456852549749834628993304761605994535633164     6927473252106674691042892076163756995753261414004248056892271409056722699443144636970734813665052932619326793593298881783584547296748834609328797518238437893297825822458124\n",
       " 6927473252106674691523627520335147776925085743162699592686413828811023122169835337024438701670262334687063144163775776335579494157456852549749834628993304761605994535633164     6927473252106674691042892076163756995753261414004248056892271409056722699443144636970734813665052932619326793593298881783584547296748834609328797518238437893297825822458124\n",
       " 6927473252106674691523627520335147776925085743162699592686413828811023122169835337024438701670262334687063144163775776335579494157456852549749834628993304761605994535633164     6927473252106674691042892076163756995753261414004248056892271409056722699443144636970734813665052932619326793593298881783584547296748834609328797518238437893297825822458124\n",
       " 6927473252106674691523627520335147776925085743162699592686413828811023122169835337024438701670262334687063144163775776335579494157456852549749834628993304761605994535633164     6927473252106674691042892076163756995753261414004248056892271409056722699443144636970734813665052932619326793593298881783584547296748834609328797518238437893297825822458124\n",
       " 6927473252106674691523627520335147776925085743162699592686413828811023122169835337024438701670262334687063144163775776335579494157456852549749834628993304761605994535633164  …  6927473252106674691042892076163756995753261414004248056892271409056722699443144636970734813665052932619326793593298881783584547296748834609328797518238437893297825822458124\n",
       " 6927473252106674691523627520335147776925085743162699592686413828811023122169835337024438701670262334687063144163775776335579494157456852549749834628993304761605994535633164     6927473252106674691042892076163756995753261414004248056892271409056722699443144636970734813665052932619326793593298881783584547296748834609328797518238437893297825822458124\n",
       " 6927473252106674691523627520335147776925085743162699592686413828811023122169835337024438701670262334687063144163775776335579494157456852549749834628993304761605994535633164     6927473252106674691042892076163756995753261414004248056892271409056722699443144636970734813665052932619326793593298881783584547296748834609328797518238437893297825822458124\n",
       " 6927473252106674691523627520335147776925085743162699592686413828811023122169835337024438701670262334687063144163775776335579494157456852549749834628993304761605994535633164     6927473252106674691042892076163756995753261414004248056892271409056722699443144636970734813665052932619326793593298881783584547296748834609328797518238437893297825822458124\n",
       " 6927473252106674691523627520335147776925085743162699592686413828811023122169835337024438701670262334687063144163775776335579494157456852549749834628993304761605994535633164     6927473252106674691042892076163756995753261414004248056892271409056722699443144636970734813665052932619326793593298881783584547296748834609328797518238437893297825822458124\n",
       " 6927473252106674691523627520335147776925085743162699592686413828811023122169835337024438701670262334687063144163775776335579494157456852549749834628993304761605994535633164  …  6927473252106674691042892076163756995753261414004248056892271409056722699443144636970734813665052932619326793593298881783584547296748834609328797518238437893297825822458124"
      ]
     },
     "execution_count": 141,
     "metadata": {},
     "output_type": "execute_result"
    }
   ],
   "source": [
    "mat_lines = repeat(hashed_lines, 1, length(hashed_lines))\n",
    "tr_mat_lines = transpose(repeat(hashed_lines, 1, length(hashed_lines)))"
   ]
  },
  {
   "cell_type": "code",
   "execution_count": 143,
   "id": "db6b74b8",
   "metadata": {},
   "outputs": [
    {
     "data": {
      "text/plain": [
       "pairalignEditNum_Opt_Mat (generic function with 3 methods)"
      ]
     },
     "execution_count": 143,
     "metadata": {},
     "output_type": "execute_result"
    }
   ],
   "source": [
    "function pairalignEditNum_Opt_Mat(x, y, editdist = EditDistance(), cost = costmodel)\n",
    "    a = string(x, base=62)\n",
    "    b = string(y, base=62)\n",
    "    return distance(pairalign(editdist, a, b, cost))\n",
    "end"
   ]
  },
  {
   "cell_type": "code",
   "execution_count": 147,
   "id": "a8e8b7fb",
   "metadata": {},
   "outputs": [
    {
     "data": {
      "text/plain": [
       "\"13:09\""
      ]
     },
     "execution_count": 147,
     "metadata": {},
     "output_type": "execute_result"
    }
   ],
   "source": [
    "using Dates\n",
    "Dates.format(now(), \"HH:MM\")"
   ]
  },
  {
   "cell_type": "code",
   "execution_count": 150,
   "id": "cb82fe3c",
   "metadata": {},
   "outputs": [],
   "source": [
    "#takes forever\n",
    "#map(pairalignEditNum_Opt_Mat, mat_lines, tr_mat_lines)"
   ]
  },
  {
   "cell_type": "code",
   "execution_count": 149,
   "id": "fb20fcac",
   "metadata": {},
   "outputs": [
    {
     "data": {
      "text/plain": [
       "\"14:52\""
      ]
     },
     "execution_count": 149,
     "metadata": {},
     "output_type": "execute_result"
    }
   ],
   "source": [
    "Dates.format(now(), \"HH:MM\")"
   ]
  },
  {
   "cell_type": "code",
   "execution_count": 154,
   "id": "d7befda1",
   "metadata": {},
   "outputs": [
    {
     "data": {
      "text/plain": [
       "108"
      ]
     },
     "execution_count": 154,
     "metadata": {},
     "output_type": "execute_result"
    }
   ],
   "source": [
    "pairalignEditNum_Opt_Mat(mat_lines[1, 23], tr_mat_lines[34, 52])"
   ]
  },
  {
   "cell_type": "code",
   "execution_count": 153,
   "id": "8aff0541",
   "metadata": {},
   "outputs": [
    {
     "data": {
      "text/plain": [
       "6927473252106674691523627520335147776925085743162699592686413828811023122169835337024438701670262334687063144163775776335579494157456852549749834628993304761605994535633164"
      ]
     },
     "execution_count": 153,
     "metadata": {},
     "output_type": "execute_result"
    }
   ],
   "source": [
    "mat_lines[1, 23]"
   ]
  },
  {
   "cell_type": "code",
   "execution_count": 173,
   "id": "de05c6d4",
   "metadata": {},
   "outputs": [],
   "source": [
    "#res = zeros(Int16, length(lines))\n",
    "#for i in 2:length(lines)\n",
    "#    new = vcat(zeros(Int16, i-1), map(pairalignEditNum_Opt_Mat, hashed_lines, hashed_lines[i:length(lines)]))\n",
    "#    res = hcat(res, new)\n",
    "#end\n",
    "## this way it did 674/18776 in 20 min ---> very slow"
   ]
  },
  {
   "cell_type": "code",
   "execution_count": 170,
   "id": "ab6d2a8d",
   "metadata": {},
   "outputs": [
    {
     "data": {
      "text/plain": [
       "\"15:24\""
      ]
     },
     "execution_count": 170,
     "metadata": {},
     "output_type": "execute_result"
    }
   ],
   "source": [
    "Dates.format(now(), \"HH:MM\")"
   ]
  },
  {
   "cell_type": "code",
   "execution_count": 171,
   "id": "03f30dc3",
   "metadata": {},
   "outputs": [],
   "source": [
    "#15:04-ish"
   ]
  },
  {
   "cell_type": "code",
   "execution_count": 172,
   "id": "23415434",
   "metadata": {},
   "outputs": [
    {
     "data": {
      "text/plain": [
       "18776×674 Array{Int64,2}:\n",
       " 0    0    0    0    0    0    0    0  …    0    0    0    0    0    0    0\n",
       " 0   84    0    0    0    0    0    0       0    0    0    0    0    0    0\n",
       " 0   70  100    0    0    0    0    0       0    0    0    0    0    0    0\n",
       " 0   80   76  108    0    0    0    0       0    0    0    0    0    0    0\n",
       " 0  114  114  120  100    0    0    0       0    0    0    0    0    0    0\n",
       " 0  136  136  136  136  136    0    0  …    0    0    0    0    0    0    0\n",
       " 0  140   56  134  126  116   94    0       0    0    0    0    0    0    0\n",
       " 0  130  136  114   98   84  102   94       0    0    0    0    0    0    0\n",
       " 0  106   64  138   60  126  112  110       0    0    0    0    0    0    0\n",
       " 0  122  110   90  136  124  128  110       0    0    0    0    0    0    0\n",
       " 0   64  130  116   84  126  122   92  …    0    0    0    0    0    0    0\n",
       " 0   82  106  116  102  116  136  110       0    0    0    0    0    0    0\n",
       " 0   56   84  102  112   96  114  110       0    0    0    0    0    0    0\n",
       " ⋮                        ⋮            ⋱                   ⋮            \n",
       " 0   50  122  108  108   56  112   94     112  114   88   94  106   94   56\n",
       " 0  112  104  128  128  128  104  138  …  116  128  114  128  102  128  136\n",
       " 0  108   98  108   78   90   50  108      60  114   82   90   92   66  100\n",
       " 0   70  112   84   84  108   96   78      90   74  100   92  100   86   76\n",
       " 0   58   54  118   90  106   90   72      82  116   70  116   78   78   86\n",
       " 0   68   70   62  128  104  108  100     100   96  110   82  124   52  114\n",
       " 0   80   76   80   80  116  116  124  …  134   90  102  118  110  108   82\n",
       " 0   70   76   56   70   74  114  112     120  136   74  100  120  116  100\n",
       " 0   80   72   96   78  102   76   76      82   84  130   60   98  110   86\n",
       " 0  100  104  106  114  102   78  100      46   94  100   64   96   52   50\n",
       " 0   88   84   86   80  110   88   98     114  102  116  128  120   72   94\n",
       " 0  100  108  112   70   86   34   64  …  102   70   98  100  112  122   94"
      ]
     },
     "execution_count": 172,
     "metadata": {},
     "output_type": "execute_result"
    }
   ],
   "source": [
    "res"
   ]
  },
  {
   "cell_type": "markdown",
   "id": "39eefa7a",
   "metadata": {},
   "source": [
    "# Final Cut Stuff"
   ]
  },
  {
   "cell_type": "code",
   "execution_count": 10,
   "id": "aa16a289",
   "metadata": {},
   "outputs": [],
   "source": [
    "@everywhere f = open(\"lines.txt\");\n",
    "@everywhere lines = readlines(f)\n",
    "#@everywhere lines = split.(lines, ',') "
   ]
  },
  {
   "cell_type": "code",
   "execution_count": 11,
   "id": "6466d963",
   "metadata": {},
   "outputs": [],
   "source": [
    "@everywhere using Bio.Align\n",
    "@everywhere costmodel = CostModel(match=0, mismatch=2, insertion=1, deletion=1);"
   ]
  },
  {
   "cell_type": "code",
   "execution_count": 19,
   "id": "f4d42301",
   "metadata": {},
   "outputs": [
    {
     "data": {
      "text/plain": [
       "18776×18776 Array{UInt32,2}:\n",
       " 0x00000000  0x00000000  0x00000000  …  0x00000000  0x00000000  0x00000000\n",
       " 0x00000000  0x00000000  0x00000000     0x00000000  0x00000000  0x00000000\n",
       " 0x00000000  0x00000000  0x00000000     0x00000000  0x00000000  0x00000000\n",
       " 0x00000000  0x00000000  0x00000000     0x00000000  0x00000000  0x00000000\n",
       " 0x00000000  0x00000000  0x00000000     0x00000000  0x00000000  0x00000000\n",
       " 0x00000000  0x00000000  0x00000000  …  0x00000000  0x00000000  0x00000000\n",
       " 0x00000000  0x00000000  0x00000000     0x00000000  0x00000000  0x00000000\n",
       " 0x00000000  0x00000000  0x00000000     0x00000000  0x00000000  0x00000000\n",
       " 0x00000000  0x00000000  0x00000000     0x00000000  0x00000000  0x00000000\n",
       " 0x00000000  0x00000000  0x00000000     0x00000000  0x00000000  0x00000000\n",
       " 0x00000000  0x00000000  0x00000000  …  0x00000000  0x00000000  0x00000000\n",
       " 0x00000000  0x00000000  0x00000000     0x00000000  0x00000000  0x00000000\n",
       " 0x00000000  0x00000000  0x00000000     0x00000000  0x00000000  0x00000000\n",
       "          ⋮                          ⋱                                   ⋮\n",
       " 0x00000000  0x00000000  0x00000000     0x00000000  0x00000000  0x00000000\n",
       " 0x00000000  0x00000000  0x00000000  …  0x00000000  0x00000000  0x00000000\n",
       " 0x00000000  0x00000000  0x00000000     0x00000000  0x00000000  0x00000000\n",
       " 0x00000000  0x00000000  0x00000000     0x00000000  0x00000000  0x00000000\n",
       " 0x00000000  0x00000000  0x00000000     0x00000000  0x00000000  0x00000000\n",
       " 0x00000000  0x00000000  0x00000000     0x00000000  0x00000000  0x00000000\n",
       " 0x00000000  0x00000000  0x00000000  …  0x00000000  0x00000000  0x00000000\n",
       " 0x00000000  0x00000000  0x00000000     0x00000000  0x00000000  0x00000000\n",
       " 0x00000000  0x00000000  0x00000000     0x00000000  0x00000000  0x00000000\n",
       " 0x00000000  0x00000000  0x00000000     0x00000000  0x00000000  0x00000000\n",
       " 0x00000000  0x00000000  0x00000000     0x00000000  0x00000000  0x00000000\n",
       " 0x00000000  0x00000000  0x00000000  …  0x00000000  0x00000000  0x00000000"
      ]
     },
     "execution_count": 19,
     "metadata": {},
     "output_type": "execute_result"
    }
   ],
   "source": [
    "d_m = zeros(UInt32, length(lines), length(lines))"
   ]
  },
  {
   "cell_type": "code",
   "execution_count": 20,
   "id": "ab416a0b",
   "metadata": {},
   "outputs": [],
   "source": [
    "for i in 1:length(lines)\n",
    "    for j in 1:length(lines)\n",
    "        d_m[i,j] = i*100000 + j\n",
    "    end\n",
    "end"
   ]
  },
  {
   "cell_type": "code",
   "execution_count": 28,
   "id": "a1d11700",
   "metadata": {},
   "outputs": [
    {
     "data": {
      "text/plain": [
       "9388.0"
      ]
     },
     "execution_count": 28,
     "metadata": {},
     "output_type": "execute_result"
    }
   ],
   "source": [
    "18776/2"
   ]
  },
  {
   "cell_type": "code",
   "execution_count": 21,
   "id": "7d81e8ea",
   "metadata": {},
   "outputs": [
    {
     "data": {
      "text/plain": [
       "18776×18776 DArray{UInt32,2,Array{UInt32,2}}:\n",
       " 0x000186a1  0x000186a2  0x000186a3  …  0x000198f4  0x000198f5  0x000198f6\n",
       " 0x00030d41  0x00030d42  0x00030d43     0x00031f94  0x00031f95  0x00031f96\n",
       " 0x000493e1  0x000493e2  0x000493e3     0x0004a634  0x0004a635  0x0004a636\n",
       " 0x00061a81  0x00061a82  0x00061a83     0x00062cd4  0x00062cd5  0x00062cd6\n",
       " 0x0007a121  0x0007a122  0x0007a123     0x0007b374  0x0007b375  0x0007b376\n",
       " 0x000927c1  0x000927c2  0x000927c3  …  0x00093a14  0x00093a15  0x00093a16\n",
       " 0x000aae61  0x000aae62  0x000aae63     0x000ac0b4  0x000ac0b5  0x000ac0b6\n",
       " 0x000c3501  0x000c3502  0x000c3503     0x000c4754  0x000c4755  0x000c4756\n",
       " 0x000dbba1  0x000dbba2  0x000dbba3     0x000dcdf4  0x000dcdf5  0x000dcdf6\n",
       " 0x000f4241  0x000f4242  0x000f4243     0x000f5494  0x000f5495  0x000f5496\n",
       " 0x0010c8e1  0x0010c8e2  0x0010c8e3  …  0x0010db34  0x0010db35  0x0010db36\n",
       " 0x00124f81  0x00124f82  0x00124f83     0x001261d4  0x001261d5  0x001261d6\n",
       " 0x0013d621  0x0013d622  0x0013d623     0x0013e874  0x0013e875  0x0013e876\n",
       "          ⋮                          ⋱                                   ⋮\n",
       " 0x1be9b0e1  0x1be9b0e2  0x1be9b0e3     0x1be9c334  0x1be9c335  0x1be9c336\n",
       " 0x1beb3781  0x1beb3782  0x1beb3783  …  0x1beb49d4  0x1beb49d5  0x1beb49d6\n",
       " 0x1becbe21  0x1becbe22  0x1becbe23     0x1becd074  0x1becd075  0x1becd076\n",
       " 0x1bee44c1  0x1bee44c2  0x1bee44c3     0x1bee5714  0x1bee5715  0x1bee5716\n",
       " 0x1befcb61  0x1befcb62  0x1befcb63     0x1befddb4  0x1befddb5  0x1befddb6\n",
       " 0x1bf15201  0x1bf15202  0x1bf15203     0x1bf16454  0x1bf16455  0x1bf16456\n",
       " 0x1bf2d8a1  0x1bf2d8a2  0x1bf2d8a3  …  0x1bf2eaf4  0x1bf2eaf5  0x1bf2eaf6\n",
       " 0x1bf45f41  0x1bf45f42  0x1bf45f43     0x1bf47194  0x1bf47195  0x1bf47196\n",
       " 0x1bf5e5e1  0x1bf5e5e2  0x1bf5e5e3     0x1bf5f834  0x1bf5f835  0x1bf5f836\n",
       " 0x1bf76c81  0x1bf76c82  0x1bf76c83     0x1bf77ed4  0x1bf77ed5  0x1bf77ed6\n",
       " 0x1bf8f321  0x1bf8f322  0x1bf8f323     0x1bf90574  0x1bf90575  0x1bf90576\n",
       " 0x1bfa79c1  0x1bfa79c2  0x1bfa79c3  …  0x1bfa8c14  0x1bfa8c15  0x1bfa8c16"
      ]
     },
     "execution_count": 21,
     "metadata": {},
     "output_type": "execute_result"
    }
   ],
   "source": [
    "A = DArray(I->d_m, (length(lines), length(lines)))"
   ]
  },
  {
   "cell_type": "code",
   "execution_count": 22,
   "id": "9e105974",
   "metadata": {},
   "outputs": [],
   "source": [
    "@everywhere function pairalignEditNum_Opt(num::UInt32, lines = lines, editdist = EditDistance(), cost = costmodel)\n",
    "    pos1 = convert(UInt32, floor(num/100000))\n",
    "    pos2 = num - pos1*100000\n",
    "    if pos1>pos2\n",
    "        return distance(pairalign(editdist, lines[pos1], lines[pos2], cost))\n",
    "    else\n",
    "        return 0\n",
    "    end\n",
    "end"
   ]
  },
  {
   "cell_type": "code",
   "execution_count": 26,
   "id": "36b9bd8c",
   "metadata": {},
   "outputs": [
    {
     "data": {
      "text/plain": [
       "\"17:51\""
      ]
     },
     "execution_count": 26,
     "metadata": {},
     "output_type": "execute_result"
    }
   ],
   "source": [
    "using Dates\n",
    "Dates.format(now(), \"HH:MM\")"
   ]
  },
  {
   "cell_type": "code",
   "execution_count": 24,
   "id": "c0fd88f3",
   "metadata": {},
   "outputs": [
    {
     "data": {
      "text/plain": [
       "18776×18776 DArray{Int64,2,Array{Int64,2}}:\n",
       "   0    0    0    0    0    0    0    0  …    0    0    0    0    0    0  0\n",
       "  84    0    0    0    0    0    0    0       0    0    0    0    0    0  0\n",
       " 100   70    0    0    0    0    0    0       0    0    0    0    0    0  0\n",
       " 108   76   80    0    0    0    0    0       0    0    0    0    0    0  0\n",
       " 100  120  114  114    0    0    0    0       0    0    0    0    0    0  0\n",
       " 136  136  136  136  136    0    0    0  …    0    0    0    0    0    0  0\n",
       "  94  116  126  134   56  140    0    0       0    0    0    0    0    0  0\n",
       "  94  102   84   98  114  136  130    0       0    0    0    0    0    0  0\n",
       " 100  110  112  126   60  138   64  106       0    0    0    0    0    0  0\n",
       "  78  102  110  128  124  136   90  110       0    0    0    0    0    0  0\n",
       "  78   80   84   92  122  126   84  116  …    0    0    0    0    0    0  0\n",
       "  94   76   70   74  110  136  116  102       0    0    0    0    0    0  0\n",
       "  94   72   80   84  110  110  114   96       0    0    0    0    0    0  0\n",
       "   ⋮                        ⋮            ⋱         ⋮                      ⋮\n",
       "  80  102  106  130  110  136   82  122       0    0    0    0    0    0  0\n",
       "  82   82   80   94  114  136  120   92  …    0    0    0    0    0    0  0\n",
       " 106  124  108  130   40  136   50  112       0    0    0    0    0    0  0\n",
       "  92   94  106  114  132  136  104  114       0    0    0    0    0    0  0\n",
       "  80   84   80   92  118  134   82  116       0    0    0    0    0    0  0\n",
       " 100   78   78   82  112  112  130   86       0    0    0    0    0    0  0\n",
       " 104   90   88   88  116  146  120  124  …   90    0    0    0    0    0  0\n",
       "  72   74   78   88  122  136  118   84      76  100    0    0    0    0  0\n",
       "  88   66   60   68  112  136  124   96      86   80   72    0    0    0  0\n",
       "  98  108  130  124   56  140   28  132     124  118  114  122    0    0  0\n",
       " 114  128  108  110  120  124  132   66     104  138  104  104  134    0  0\n",
       "  74   94  106  114  110  124   98  106  …   94  118   80   86  102  112  0"
      ]
     },
     "execution_count": 24,
     "metadata": {},
     "output_type": "execute_result"
    }
   ],
   "source": [
    "output_mat_opt = pairalignEditNum_Opt.(A)"
   ]
  },
  {
   "cell_type": "code",
   "execution_count": 27,
   "id": "581f0d66",
   "metadata": {},
   "outputs": [
    {
     "data": {
      "text/plain": [
       "\"17:51\""
      ]
     },
     "execution_count": 27,
     "metadata": {},
     "output_type": "execute_result"
    }
   ],
   "source": [
    "Dates.format(now(), \"HH:MM\")"
   ]
  },
  {
   "cell_type": "code",
   "execution_count": 186,
   "id": "bdec8f92",
   "metadata": {},
   "outputs": [],
   "source": [
    "#59-35 = 24 min, almost twice faster than TraMineR"
   ]
  },
  {
   "cell_type": "markdown",
   "id": "f75f0177",
   "metadata": {},
   "source": [
    "## Let's try a triangle"
   ]
  },
  {
   "cell_type": "code",
   "execution_count": 12,
   "id": "6c85a9fb",
   "metadata": {},
   "outputs": [],
   "source": [
    "@everywhere function pairalignEditNum_Opt(num::UInt32, lines = lines, editdist = EditDistance(), cost = costmodel)\n",
    "    pos1 = convert(UInt32, floor(num/100000))\n",
    "    pos2 = num - pos1*100000\n",
    "    return distance(pairalign(editdist, lines[pos1], lines[pos2], cost))\n",
    "end"
   ]
  },
  {
   "cell_type": "code",
   "execution_count": 13,
   "id": "00b836c2",
   "metadata": {},
   "outputs": [
    {
     "data": {
      "text/plain": [
       "18776×9388 Array{UInt32,2}:\n",
       " 0x00000000  0x00000000  0x00000000  …  0x00000000  0x00000000  0x00000000\n",
       " 0x00000000  0x00000000  0x00000000     0x00000000  0x00000000  0x00000000\n",
       " 0x00000000  0x00000000  0x00000000     0x00000000  0x00000000  0x00000000\n",
       " 0x00000000  0x00000000  0x00000000     0x00000000  0x00000000  0x00000000\n",
       " 0x00000000  0x00000000  0x00000000     0x00000000  0x00000000  0x00000000\n",
       " 0x00000000  0x00000000  0x00000000  …  0x00000000  0x00000000  0x00000000\n",
       " 0x00000000  0x00000000  0x00000000     0x00000000  0x00000000  0x00000000\n",
       " 0x00000000  0x00000000  0x00000000     0x00000000  0x00000000  0x00000000\n",
       " 0x00000000  0x00000000  0x00000000     0x00000000  0x00000000  0x00000000\n",
       " 0x00000000  0x00000000  0x00000000     0x00000000  0x00000000  0x00000000\n",
       " 0x00000000  0x00000000  0x00000000  …  0x00000000  0x00000000  0x00000000\n",
       " 0x00000000  0x00000000  0x00000000     0x00000000  0x00000000  0x00000000\n",
       " 0x00000000  0x00000000  0x00000000     0x00000000  0x00000000  0x00000000\n",
       "          ⋮                          ⋱           ⋮              \n",
       " 0x00000000  0x00000000  0x00000000     0x00000000  0x00000000  0x00000000\n",
       " 0x00000000  0x00000000  0x00000000  …  0x00000000  0x00000000  0x00000000\n",
       " 0x00000000  0x00000000  0x00000000     0x00000000  0x00000000  0x00000000\n",
       " 0x00000000  0x00000000  0x00000000     0x00000000  0x00000000  0x00000000\n",
       " 0x00000000  0x00000000  0x00000000     0x00000000  0x00000000  0x00000000\n",
       " 0x00000000  0x00000000  0x00000000     0x00000000  0x00000000  0x00000000\n",
       " 0x00000000  0x00000000  0x00000000  …  0x00000000  0x00000000  0x00000000\n",
       " 0x00000000  0x00000000  0x00000000     0x00000000  0x00000000  0x00000000\n",
       " 0x00000000  0x00000000  0x00000000     0x00000000  0x00000000  0x00000000\n",
       " 0x00000000  0x00000000  0x00000000     0x00000000  0x00000000  0x00000000\n",
       " 0x00000000  0x00000000  0x00000000     0x00000000  0x00000000  0x00000000\n",
       " 0x00000000  0x00000000  0x00000000  …  0x00000000  0x00000000  0x00000000"
      ]
     },
     "execution_count": 13,
     "metadata": {},
     "output_type": "execute_result"
    }
   ],
   "source": [
    "d_m = zeros(UInt32, length(lines), convert(UInt32, length(lines)/2))"
   ]
  },
  {
   "cell_type": "code",
   "execution_count": 14,
   "id": "5c8c0355",
   "metadata": {},
   "outputs": [],
   "source": [
    "for i in 1:length(lines)\n",
    "    for j in 1:length(lines)\n",
    "        if i >= j && j <= convert(UInt32, length(lines)/2)\n",
    "            d_m[i,j] = i*100000 + j\n",
    "        elseif i < j && i <= convert(UInt32, length(lines)/2) && j > convert(UInt32, length(lines)/2)\n",
    "            d_m[i,j-convert(UInt32, length(lines)/2)] = i*100000 + j\n",
    "        end\n",
    "    end\n",
    "end"
   ]
  },
  {
   "cell_type": "code",
   "execution_count": 15,
   "id": "ab666b48",
   "metadata": {},
   "outputs": [
    {
     "data": {
      "text/plain": [
       "18776×9388 Array{UInt32,2}:\n",
       " 0x0001ab4d  0x0001ab4e  0x0001ab4f  …  0x0001cff6  0x0001cff7  0x0001cff8\n",
       " 0x000331ed  0x000331ee  0x000331ef     0x00035696  0x00035697  0x00035698\n",
       " 0x0004b88d  0x0004b88e  0x0004b88f     0x0004dd36  0x0004dd37  0x0004dd38\n",
       " 0x00063f2d  0x00063f2e  0x00063f2f     0x000663d6  0x000663d7  0x000663d8\n",
       " 0x0007c5cd  0x0007c5ce  0x0007c5cf     0x0007ea76  0x0007ea77  0x0007ea78\n",
       " 0x00094c6d  0x00094c6e  0x00094c6f  …  0x00097116  0x00097117  0x00097118\n",
       " 0x000ad30d  0x000ad30e  0x000ad30f     0x000af7b6  0x000af7b7  0x000af7b8\n",
       " 0x000c59ad  0x000c59ae  0x000c59af     0x000c7e56  0x000c7e57  0x000c7e58\n",
       " 0x000de04d  0x000de04e  0x000de04f     0x000e04f6  0x000e04f7  0x000e04f8\n",
       " 0x000f66ed  0x000f66ee  0x000f66ef     0x000f8b96  0x000f8b97  0x000f8b98\n",
       " 0x0010ed8d  0x0010ed8e  0x0010ed8f  …  0x00111236  0x00111237  0x00111238\n",
       " 0x0012742d  0x0012742e  0x0012742f     0x001298d6  0x001298d7  0x001298d8\n",
       " 0x0013facd  0x0013face  0x0013facf     0x00141f76  0x00141f77  0x00141f78\n",
       "          ⋮                          ⋱           ⋮              \n",
       " 0x6fd91e21  0x6fd91e22  0x6fd91e23     0x6fd942ca  0x6fd942cb  0x6fd942cc\n",
       " 0x6fdaa4c1  0x6fdaa4c2  0x6fdaa4c3  …  0x6fdac96a  0x6fdac96b  0x6fdac96c\n",
       " 0x6fdc2b61  0x6fdc2b62  0x6fdc2b63     0x6fdc500a  0x6fdc500b  0x6fdc500c\n",
       " 0x6fddb201  0x6fddb202  0x6fddb203     0x6fddd6aa  0x6fddd6ab  0x6fddd6ac\n",
       " 0x6fdf38a1  0x6fdf38a2  0x6fdf38a3     0x6fdf5d4a  0x6fdf5d4b  0x6fdf5d4c\n",
       " 0x6fe0bf41  0x6fe0bf42  0x6fe0bf43     0x6fe0e3ea  0x6fe0e3eb  0x6fe0e3ec\n",
       " 0x6fe245e1  0x6fe245e2  0x6fe245e3  …  0x6fe26a8a  0x6fe26a8b  0x6fe26a8c\n",
       " 0x6fe3cc81  0x6fe3cc82  0x6fe3cc83     0x6fe3f12a  0x6fe3f12b  0x6fe3f12c\n",
       " 0x6fe55321  0x6fe55322  0x6fe55323     0x6fe577ca  0x6fe577cb  0x6fe577cc\n",
       " 0x6fe6d9c1  0x6fe6d9c2  0x6fe6d9c3     0x6fe6fe6a  0x6fe6fe6b  0x6fe6fe6c\n",
       " 0x6fe86061  0x6fe86062  0x6fe86063     0x6fe8850a  0x6fe8850b  0x6fe8850c\n",
       " 0x6fe9e701  0x6fe9e702  0x6fe9e703  …  0x6fea0baa  0x6fea0bab  0x6fea0bac"
      ]
     },
     "execution_count": 15,
     "metadata": {},
     "output_type": "execute_result"
    }
   ],
   "source": [
    "d_m"
   ]
  },
  {
   "cell_type": "code",
   "execution_count": 16,
   "id": "abcaec63",
   "metadata": {},
   "outputs": [
    {
     "data": {
      "text/plain": [
       "18776×9388 DArray{UInt32,2,Array{UInt32,2}}:\n",
       " 0x0001ab4d  0x0001ab4e  0x0001ab4f  …  0x0001b475  0x0001b476  0x0001b477\n",
       " 0x000331ed  0x000331ee  0x000331ef     0x00033b15  0x00033b16  0x00033b17\n",
       " 0x0004b88d  0x0004b88e  0x0004b88f     0x0004c1b5  0x0004c1b6  0x0004c1b7\n",
       " 0x00063f2d  0x00063f2e  0x00063f2f     0x00064855  0x00064856  0x00064857\n",
       " 0x0007c5cd  0x0007c5ce  0x0007c5cf     0x0007cef5  0x0007cef6  0x0007cef7\n",
       " 0x00094c6d  0x00094c6e  0x00094c6f  …  0x00095595  0x00095596  0x00095597\n",
       " 0x000ad30d  0x000ad30e  0x000ad30f     0x000adc35  0x000adc36  0x000adc37\n",
       " 0x000c59ad  0x000c59ae  0x000c59af     0x000c62d5  0x000c62d6  0x000c62d7\n",
       " 0x000de04d  0x000de04e  0x000de04f     0x000de975  0x000de976  0x000de977\n",
       " 0x000f66ed  0x000f66ee  0x000f66ef     0x000f7015  0x000f7016  0x000f7017\n",
       " 0x0010ed8d  0x0010ed8e  0x0010ed8f  …  0x0010f6b5  0x0010f6b6  0x0010f6b7\n",
       " 0x0012742d  0x0012742e  0x0012742f     0x00127d55  0x00127d56  0x00127d57\n",
       " 0x0013facd  0x0013face  0x0013facf     0x001403f5  0x001403f6  0x001403f7\n",
       "          ⋮                          ⋱           ⋮              \n",
       " 0x1be9d58d  0x1be9d58e  0x1be9d58f     0x1be9deb5  0x1be9deb6  0x1be9deb7\n",
       " 0x1beb5c2d  0x1beb5c2e  0x1beb5c2f  …  0x1beb6555  0x1beb6556  0x1beb6557\n",
       " 0x1bece2cd  0x1bece2ce  0x1bece2cf     0x1becebf5  0x1becebf6  0x1becebf7\n",
       " 0x1bee696d  0x1bee696e  0x1bee696f     0x1bee7295  0x1bee7296  0x1bee7297\n",
       " 0x1beff00d  0x1beff00e  0x1beff00f     0x1beff935  0x1beff936  0x1beff937\n",
       " 0x1bf176ad  0x1bf176ae  0x1bf176af     0x1bf17fd5  0x1bf17fd6  0x1bf17fd7\n",
       " 0x1bf2fd4d  0x1bf2fd4e  0x1bf2fd4f  …  0x1bf30675  0x1bf30676  0x1bf30677\n",
       " 0x1bf483ed  0x1bf483ee  0x1bf483ef     0x1bf48d15  0x1bf48d16  0x1bf48d17\n",
       " 0x1bf60a8d  0x1bf60a8e  0x1bf60a8f     0x1bf613b5  0x1bf613b6  0x1bf613b7\n",
       " 0x1bf7912d  0x1bf7912e  0x1bf7912f     0x1bf79a55  0x1bf79a56  0x1bf79a57\n",
       " 0x1bf917cd  0x1bf917ce  0x1bf917cf     0x1bf920f5  0x1bf920f6  0x1bf920f7\n",
       " 0x1bfa9e6d  0x1bfa9e6e  0x1bfa9e6f  …  0x1bfaa795  0x1bfaa796  0x1bfaa797"
      ]
     },
     "execution_count": 16,
     "metadata": {},
     "output_type": "execute_result"
    }
   ],
   "source": [
    "A = DArray(I->d_m, (length(lines), convert(UInt32, length(lines)/2)))"
   ]
  },
  {
   "cell_type": "code",
   "execution_count": 17,
   "id": "11f70380",
   "metadata": {},
   "outputs": [
    {
     "data": {
      "text/plain": [
       "\"18:16\""
      ]
     },
     "execution_count": 17,
     "metadata": {},
     "output_type": "execute_result"
    }
   ],
   "source": [
    "using Dates\n",
    "Dates.format(now(), \"HH:MM\")"
   ]
  },
  {
   "cell_type": "code",
   "execution_count": 18,
   "id": "a7fa10e1",
   "metadata": {},
   "outputs": [
    {
     "data": {
      "text/plain": [
       "18776×9388 DArray{Int64,2,Array{Int64,2}}:\n",
       " 102   76   92  106   94  128  142   76  …   88   84   78   96   98  106  104\n",
       "  88   96   76   88   92  126   98   80     114  104   84  104   88  118   78\n",
       "  88   82  120   80  112  126  110   88      90   94   96   90   84  130   76\n",
       " 110  110  108   86  110  124   94  102     106  110   92  104  102  128   82\n",
       " 128  114  118  116  118   72   66  126     118   68  124   64   78   36  112\n",
       " 132  136  128  136   86  134  146  136  …  136  136  132  136  136  136  136\n",
       "  98   86   86  124  118   90   84   92     110   72   88   66   84   46  124\n",
       " 118  106   96  108  100  126  140  108      74   98  124  114  102  126  108\n",
       " 136  124  104  120  114   88   82  128     118   80  130   76   86   68  124\n",
       "  80   66   94   98  100  126  144   70      76  108   78   94  118  110  114\n",
       "  66   46   72   82   98  124  110   66  …   86   98   54   86   90  116   88\n",
       "  76   80  100   64   88  126   90   86     104   88   84   98   78  130   48\n",
       "  90   74   96   80   62  126   98   86     102   90   80   94   74  128   70\n",
       "   ⋮                        ⋮            ⋱                        ⋮       \n",
       "  96   56   64  108  106  118  128   82      92  100   62   92   96  102  120\n",
       "  84   86   98   78   96  126  114   72  …  112   90   94   90   88  118   82\n",
       " 110  106  110  108  112   78   74   96      96   64  118   52   78   46  118\n",
       "  66   80  100   88   86  132  130   60      82  110   86   92  114  118   98\n",
       "  68   52   82   82   96  124  108   66      92   92   60   74   96  114   74\n",
       " 106   90   84   90   78  120  106   96     112  102   92  104   68  128   86\n",
       "  84  106  118   66  110  140  108   94  …  124  106  100  104  104  136   50\n",
       " 106   96   94   94   86  126  116   90      96   98   78  104   76  124   96\n",
       "  82   80  108   68   90  126   92   72      84  102   90   88   92  114   64\n",
       " 112   96   86  124  116   88   78  104     110   72   84   60   84   50  126\n",
       " 126  114  122  120   88  130  146  118      70  108  130  122  122  128  118\n",
       " 106   64   68  102   80  118  134   90  …   98  104   66  112   90  120  112"
      ]
     },
     "execution_count": 18,
     "metadata": {},
     "output_type": "execute_result"
    }
   ],
   "source": [
    "output_mat_opt = pairalignEditNum_Opt.(A)"
   ]
  },
  {
   "cell_type": "code",
   "execution_count": 19,
   "id": "ea86b4c0",
   "metadata": {},
   "outputs": [
    {
     "data": {
      "text/plain": [
       "\"18:39\""
      ]
     },
     "execution_count": 19,
     "metadata": {},
     "output_type": "execute_result"
    }
   ],
   "source": [
    "Dates.format(now(), \"HH:MM\")"
   ]
  },
  {
   "cell_type": "code",
   "execution_count": 20,
   "id": "f2a7bddc",
   "metadata": {},
   "outputs": [
    {
     "data": {
      "text/plain": [
       "23"
      ]
     },
     "execution_count": 20,
     "metadata": {},
     "output_type": "execute_result"
    }
   ],
   "source": [
    "## this approach does not seem to provide computational speed increases\n",
    "39-16"
   ]
  },
  {
   "cell_type": "markdown",
   "id": "c6ddf7a6",
   "metadata": {},
   "source": [
    "## Full Data"
   ]
  },
  {
   "cell_type": "code",
   "execution_count": 188,
   "id": "6e0313a4",
   "metadata": {},
   "outputs": [],
   "source": [
    "## let's try full one (probably memory won't allow)"
   ]
  },
  {
   "cell_type": "code",
   "execution_count": 191,
   "id": "eead2ba1",
   "metadata": {},
   "outputs": [
    {
     "data": {
      "text/html": [
       "<table class=\"data-frame\"><thead><tr><th></th><th>TUCASEID</th><th>TUACTIVITY_N</th><th>TRCODEP</th><th>TUACTDUR24</th><th>TUSTARTTIM</th><th>TUSTOPTIME</th></tr><tr><th></th><th>SubStri…</th><th>SubStri…</th><th>SubStri…</th><th>SubStri…</th><th>SubStri…</th><th>SubStri…</th></tr></thead><tbody><p>5 rows × 6 columns</p><tr><th>1</th><td>20201212202329</td><td>10</td><td>160101</td><td>120</td><td>17:15:00</td><td>19:15:00</td></tr><tr><th>2</th><td>20201212202329</td><td>11</td><td>010101</td><td>180</td><td>19:15:00</td><td>22:15:00</td></tr><tr><th>3</th><td>20201212202329</td><td>12</td><td>010301</td><td>180</td><td>22:15:00</td><td>01:15:00</td></tr><tr><th>4</th><td>20201212202329</td><td>13</td><td>120303</td><td>120</td><td>01:15:00</td><td>03:15:00</td></tr><tr><th>5</th><td>20201212202329</td><td>14</td><td>169989</td><td>45</td><td>03:15:00</td><td>04:15:00</td></tr></tbody></table>"
      ],
      "text/latex": [
       "\\begin{tabular}{r|cccccc}\n",
       "\t& TUCASEID & TUACTIVITY\\_N & TRCODEP & TUACTDUR24 & TUSTARTTIM & TUSTOPTIME\\\\\n",
       "\t\\hline\n",
       "\t& SubStri… & SubStri… & SubStri… & SubStri… & SubStri… & SubStri…\\\\\n",
       "\t\\hline\n",
       "\t1 & 20201212202329 & 10 & 160101 & 120 & 17:15:00 & 19:15:00 \\\\\n",
       "\t2 & 20201212202329 & 11 & 010101 & 180 & 19:15:00 & 22:15:00 \\\\\n",
       "\t3 & 20201212202329 & 12 & 010301 & 180 & 22:15:00 & 01:15:00 \\\\\n",
       "\t4 & 20201212202329 & 13 & 120303 & 120 & 01:15:00 & 03:15:00 \\\\\n",
       "\t5 & 20201212202329 & 14 & 169989 & 45 & 03:15:00 & 04:15:00 \\\\\n",
       "\\end{tabular}\n"
      ],
      "text/plain": [
       "5×6 DataFrame. Omitted printing of 1 columns\n",
       "│ Row │ TUCASEID       │ TUACTIVITY_N │ TRCODEP  │ TUACTDUR24 │ TUSTARTTIM │\n",
       "│     │ \u001b[90mSubString…\u001b[39m     │ \u001b[90mSubString…\u001b[39m   │ \u001b[90mSubStri…\u001b[39m │ \u001b[90mSubString…\u001b[39m │ \u001b[90mSubString…\u001b[39m │\n",
       "├─────┼────────────────┼──────────────┼──────────┼────────────┼────────────┤\n",
       "│ 1   │ 20201212202329 │ 10           │ 160101   │ 120        │ 17:15:00   │\n",
       "│ 2   │ 20201212202329 │ 11           │ 010101   │ 180        │ 19:15:00   │\n",
       "│ 3   │ 20201212202329 │ 12           │ 010301   │ 180        │ 22:15:00   │\n",
       "│ 4   │ 20201212202329 │ 13           │ 120303   │ 120        │ 01:15:00   │\n",
       "│ 5   │ 20201212202329 │ 14           │ 169989   │ 45         │ 03:15:00   │"
      ]
     },
     "execution_count": 191,
     "metadata": {},
     "output_type": "execute_result"
    }
   ],
   "source": [
    "df = select(df_full, [\"TUCASEID\", \"TUACTIVITY_N\", \"TRCODEP\", \"TUACTDUR24\", \"TUSTARTTIM\", \"TUSTOPTIME\"])\n",
    "last(df, 5)"
   ]
  },
  {
   "cell_type": "code",
   "execution_count": 192,
   "id": "7ea80f56",
   "metadata": {},
   "outputs": [
    {
     "data": {
      "text/html": [
       "<table class=\"data-frame\"><thead><tr><th></th><th>caseid</th><th>actline</th><th>activity</th><th>duration</th><th>start</th><th>stop</th></tr><tr><th></th><th>SubStri…</th><th>SubStri…</th><th>SubStri…</th><th>SubStri…</th><th>SubStri…</th><th>SubStri…</th></tr></thead><tbody><p>5 rows × 6 columns</p><tr><th>1</th><td>20030100013280</td><td>1</td><td>130124</td><td>60</td><td>04:00:00</td><td>05:00:00</td></tr><tr><th>2</th><td>20030100013280</td><td>2</td><td>010201</td><td>30</td><td>05:00:00</td><td>05:30:00</td></tr><tr><th>3</th><td>20030100013280</td><td>3</td><td>010101</td><td>600</td><td>05:30:00</td><td>15:30:00</td></tr><tr><th>4</th><td>20030100013280</td><td>4</td><td>120303</td><td>150</td><td>15:30:00</td><td>18:00:00</td></tr><tr><th>5</th><td>20030100013280</td><td>5</td><td>110101</td><td>5</td><td>18:00:00</td><td>18:05:00</td></tr></tbody></table>"
      ],
      "text/latex": [
       "\\begin{tabular}{r|cccccc}\n",
       "\t& caseid & actline & activity & duration & start & stop\\\\\n",
       "\t\\hline\n",
       "\t& SubStri… & SubStri… & SubStri… & SubStri… & SubStri… & SubStri…\\\\\n",
       "\t\\hline\n",
       "\t1 & 20030100013280 & 1 & 130124 & 60 & 04:00:00 & 05:00:00 \\\\\n",
       "\t2 & 20030100013280 & 2 & 010201 & 30 & 05:00:00 & 05:30:00 \\\\\n",
       "\t3 & 20030100013280 & 3 & 010101 & 600 & 05:30:00 & 15:30:00 \\\\\n",
       "\t4 & 20030100013280 & 4 & 120303 & 150 & 15:30:00 & 18:00:00 \\\\\n",
       "\t5 & 20030100013280 & 5 & 110101 & 5 & 18:00:00 & 18:05:00 \\\\\n",
       "\\end{tabular}\n"
      ],
      "text/plain": [
       "5×6 DataFrame\n",
       "│ Row │ caseid         │ actline  │ activity │ duration │ start    │ stop     │\n",
       "│     │ \u001b[90mSubString…\u001b[39m     │ \u001b[90mSubStri…\u001b[39m │ \u001b[90mSubStri…\u001b[39m │ \u001b[90mSubStri…\u001b[39m │ \u001b[90mSubStri…\u001b[39m │ \u001b[90mSubStri…\u001b[39m │\n",
       "├─────┼────────────────┼──────────┼──────────┼──────────┼──────────┼──────────┤\n",
       "│ 1   │ 20030100013280 │ 1        │ 130124   │ 60       │ 04:00:00 │ 05:00:00 │\n",
       "│ 2   │ 20030100013280 │ 2        │ 010201   │ 30       │ 05:00:00 │ 05:30:00 │\n",
       "│ 3   │ 20030100013280 │ 3        │ 010101   │ 600      │ 05:30:00 │ 15:30:00 │\n",
       "│ 4   │ 20030100013280 │ 4        │ 120303   │ 150      │ 15:30:00 │ 18:00:00 │\n",
       "│ 5   │ 20030100013280 │ 5        │ 110101   │ 5        │ 18:00:00 │ 18:05:00 │"
      ]
     },
     "execution_count": 192,
     "metadata": {},
     "output_type": "execute_result"
    }
   ],
   "source": [
    "colnames = [\"caseid\", \"actline\", \"activity\", \"duration\", \"start\", \"stop\"]\n",
    "rename!(df, Symbol.(colnames))\n",
    "first(df, 5)"
   ]
  },
  {
   "cell_type": "code",
   "execution_count": 193,
   "id": "545cdf06",
   "metadata": {},
   "outputs": [
    {
     "data": {
      "text/plain": [
       "a_trans (generic function with 1 method)"
      ]
     },
     "execution_count": 193,
     "metadata": {},
     "output_type": "execute_result"
    }
   ],
   "source": [
    "function a_trans(val)\n",
    "    a_dct = Dict(1 => \"a\", 2 => \"b\", 3 => \"c\", 4 => \"d\", 5 => \"e\", 6 => \"f\", 7 => \"g\", 8 => \"h\", 9 => \"i\", 10 => \"j\", 11 => \"k\")\n",
    "    return a_dct[val]\n",
    "end"
   ]
  },
  {
   "cell_type": "code",
   "execution_count": 194,
   "id": "c18ba584",
   "metadata": {},
   "outputs": [
    {
     "data": {
      "text/plain": [
       "activity_trans (generic function with 1 method)"
      ]
     },
     "execution_count": 194,
     "metadata": {},
     "output_type": "execute_result"
    }
   ],
   "source": [
    "function activity_trans(val)\n",
    "    act_dct = Dict(\"010101\" => 1, \"010102\" => 1, \"010199\" => 1, \"010201\" => 2, \"010299\" => 2, \"010301\" => 2, \"010399\" => 2, \"010401\" => 2, \"010499\" => 2, \"010501\" => 2, \"010599\" => 2, \"019999\" => 2, \"020101\" => 3, \"020102\" => 3, \"020103\" => 3, \"020104\" => 3, \"020199\" => 3, \"020201\" => 3, \"020202\" => 3, \"020203\" => 3, \"020299\" => 3, \"020301\" => 3, \"020302\" => 3, \"020303\" => 3, \"020399\" => 3, \"020400\" => 3, \"020401\" => 3, \"020402\" => 3, \"020499\" => 3, \"020500\" => 3, \"020501\" => 3, \"020502\" => 3, \"020599\" => 3, \"020600\" => 3, \"020601\" => 3, \"020602\" => 3, \"020603\" => 3, \"020681\" => 10, \"020699\" => 3, \"020700\" => 3, \"020701\" => 3, \"020799\" => 3, \"020800\" => 3, \"020801\" => 3, \"020899\" => 3, \"020900\" => 3, \"020901\" => 3, \"020902\" => 3, \"020903\" => 3, \"020904\" => 3, \"020905\" => 3, \"020999\" => 3, \"029900\" => 3, \"029999\" => 3, \"030100\" => 4, \"030101\" => 4, \"030102\" => 4, \"030103\" => 4, \"030104\" => 4, \"030105\" => 4, \"030106\" => 4, \"030107\" => 4, \"030108\" => 4, \"030109\" => 4, \"030110\" => 4, \"030111\" => 4, \"030112\" => 4, \"030199\" => 4, \"030200\" => 4, \"030201\" => 4, \"030202\" => 4, \"030203\" => 4, \"030204\" => 4, \"030299\" => 4, \"030300\" => 4, \"030301\" => 4, \"030302\" => 4, \"030303\" => 4, \"030399\" => 4, \"040100\" => 4, \"040101\" => 4, \"040102\" => 4, \"040103\" => 4, \"040104\" => 4, \"040105\" => 4, \"040106\" => 4, \"040107\" => 4, \"040108\" => 4, \"040109\" => 4, \"040110\" => 4, \"040111\" => 4, \"040112\" => 4, \"040199\" => 4, \"040200\" => 4, \"040201\" => 4, \"040202\" => 4, \"040203\" => 4, \"040204\" => 4, \"040299\" => 4, \"040300\" => 4, \"040301\" => 4, \"040302\" => 4, \"040303\" => 4, \"040399\" => 4, \"030186\" => 4, \"040186\" => 4, \"030000\" => 5, \"030400\" => 5, \"030401\" => 5, \"030402\" => 5, \"030403\" => 5, \"030404\" => 5, \"030405\" => 5, \"030499\" => 5, \"030500\" => 5, \"030501\" => 5, \"030502\" => 5, \"030503\" => 5, \"030504\" => 5, \"030599\" => 5, \"039900\" => 5, \"039999\" => 5, \"040000\" => 5, \"040400\" => 5, \"040401\" => 5, \"040402\" => 5, \"040403\" => 5, \"040404\" => 5, \"040405\" => 5, \"040499\" => 5, \"040500\" => 5, \"040501\" => 5, \"040502\" => 5, \"040503\" => 5, \"040504\" => 5, \"040505\" => 5, \"040506\" => 5, \"040507\" => 5, \"040508\" => 5, \"040599\" => 5, \"049900\" => 5, \"049999\" => 5, \"050000\" => 6, \"050100\" => 6, \"050101\" => 6, \"050102\" => 6, \"050103\" => 6, \"050104\" => 6, \"050199\" => 6, \"050200\" => 6, \"050201\" => 6, \"050202\" => 6, \"050203\" => 6, \"050204\" => 6, \"050205\" => 6, \"050299\" => 6, \"050300\" => 6, \"050301\" => 6, \"050302\" => 6, \"050303\" => 6, \"050304\" => 6, \"050305\" => 6, \"050399\" => 6, \"050400\" => 6, \"050401\" => 6, \"050403\" => 6, \"050404\" => 6, \"050405\" => 6, \"050499\" => 6, \"059900\" => 6, \"059999\" => 6, \"060000\" => 6, \"060100\" => 6, \"060101\" => 6, \"060102\" => 6, \"060103\" => 6, \"060104\" => 6, \"060199\" => 6, \"060200\" => 6, \"060201\" => 6, \"060202\" => 6, \"060203\" => 6, \"060204\" => 6, \"060299\" => 6, \"060300\" => 6, \"060301\" => 6, \"060302\" => 6, \"060303\" => 6, \"060399\" => 6, \"060400\" => 6, \"060401\" => 6, \"060402\" => 6, \"060403\" => 6, \"060499\" => 6, \"069900\" => 6, \"069999\" => 6, \"050481\" => 6, \"050389\" => 6, \"050189\" => 6, \"060289\" => 6, \"050289\" => 6, \"070000\" => 7, \"070100\" => 7, \"070101\" => 7, \"070102\" => 7, \"070103\" => 7, \"070104\" => 7, \"070105\" => 7, \"070199\" => 7, \"070200\" => 7, \"070201\" => 7, \"070299\" => 7, \"070300\" => 7, \"070301\" => 7, \"070399\" => 7, \"079900\" => 7, \"079999\" => 7, \"080000\" => 7, \"080100\" => 7, \"080101\" => 7, \"080102\" => 7, \"080199\" => 7, \"080200\" => 7, \"080201\" => 7, \"080202\" => 7, \"080203\" => 7, \"080299\" => 7, \"080300\" => 7, \"080301\" => 7, \"080302\" => 7, \"080399\" => 7, \"080400\" => 7, \"080401\" => 7, \"080402\" => 7, \"080403\" => 7, \"080499\" => 7, \"080500\" => 7, \"080501\" => 7, \"080502\" => 7, \"080599\" => 7, \"080600\" => 7, \"080601\" => 7, \"080602\" => 7, \"080699\" => 7, \"080700\" => 7, \"080701\" => 7, \"080702\" => 7, \"080799\" => 7, \"080800\" => 7, \"080801\" => 7, \"080899\" => 7, \"089900\" => 7, \"089999\" => 7, \"090000\" => 7, \"090100\" => 7, \"090101\" => 7, \"090102\" => 7, \"090103\" => 7, \"090104\" => 7, \"090199\" => 7, \"090200\" => 7, \"090201\" => 7, \"090202\" => 7, \"090299\" => 7, \"090300\" => 7, \"090301\" => 7, \"090302\" => 7, \"090399\" => 7, \"090400\" => 7, \"090401\" => 7, \"090402\" => 7, \"090499\" => 7, \"090500\" => 7, \"090501\" => 7, \"090502\" => 7, \"090599\" => 7, \"099900\" => 7, \"099999\" => 7, \"100000\" => 7, \"100100\" => 7, \"100101\" => 7, \"100102\" => 7, \"100103\" => 7, \"100199\" => 7, \"100200\" => 7, \"100201\" => 7, \"100299\" => 7, \"100300\" => 7, \"100303\" => 7, \"100304\" => 7, \"100399\" => 7, \"100400\" => 7, \"100401\" => 7, \"100499\" => 7, \"109900\" => 7, \"109999\" => 7, \"120303\" => 8, \"120304\" => 8, \"110000\" => 9, \"110100\" => 9, \"110101\" => 9, \"110199\" => 9, \"110200\" => 9, \"110201\" => 9, \"110299\" => 9, \"119900\" => 9, \"110289\" => 9, \"119999\" => 9, \"120000\" => 10, \"120100\" => 10, \"120101\" => 10, \"120199\" => 10, \"120200\" => 10, \"120201\" => 10, \"120202\" => 10, \"120299\" => 10, \"120300\" => 10, \"120301\" => 10, \"120302\" => 10, \"120305\" => 10, \"120306\" => 10, \"120307\" => 10, \"120308\" => 10, \"120309\" => 10, \"120310\" => 10, \"120311\" => 10, \"120312\" => 10, \"120313\" => 10, \"120399\" => 10, \"120400\" => 10, \"120401\" => 10, \"120402\" => 10, \"120403\" => 10, \"120404\" => 10, \"120405\" => 10, \"120499\" => 10, \"120500\" => 10, \"120501\" => 10, \"120502\" => 10, \"120503\" => 10, \"120504\" => 10, \"120599\" => 10, \"129900\" => 10, \"129999\" => 10, \"130000\" => 10, \"130100\" => 10, \"130101\" => 10, \"130102\" => 10, \"130103\" => 10, \"130104\" => 10, \"130105\" => 10, \"130106\" => 10, \"130107\" => 10, \"130108\" => 10, \"130109\" => 10, \"130110\" => 10, \"130111\" => 10, \"130112\" => 10, \"130113\" => 10, \"130114\" => 10, \"130115\" => 10, \"130116\" => 10, \"130117\" => 10, \"130118\" => 10, \"130119\" => 10, \"130120\" => 10, \"130121\" => 10, \"130122\" => 10, \"130123\" => 10, \"130124\" => 10, \"130125\" => 10, \"130126\" => 10, \"130127\" => 10, \"130128\" => 10, \"130129\" => 10, \"130130\" => 10, \"130131\" => 10, \"130132\" => 10, \"130133\" => 10, \"130134\" => 10, \"130135\" => 10, \"130136\" => 10, \"130199\" => 10, \"130200\" => 10, \"130201\" => 10, \"130202\" => 10, \"130203\" => 10, \"130204\" => 10, \"130205\" => 10, \"130206\" => 10, \"130207\" => 10, \"130208\" => 10, \"130209\" => 10, \"130210\" => 10, \"130211\" => 10, \"130212\" => 10, \"130213\" => 10, \"130214\" => 10, \"130215\" => 10, \"130216\" => 10, \"130217\" => 10, \"130218\" => 10, \"130219\" => 10, \"130220\" => 10, \"130221\" => 10, \"130222\" => 10, \"130223\" => 10, \"130224\" => 10, \"130225\" => 10, \"130226\" => 10, \"130227\" => 10, \"130228\" => 10, \"130229\" => 10, \"130230\" => 10, \"130231\" => 10, \"130232\" => 10, \"130299\" => 10, \"130300\" => 10, \"130301\" => 10, \"130302\" => 10, \"130399\" => 10, \"130400\" => 10, \"130401\" => 10, \"130402\" => 10, \"130499\" => 10, \"139900\" => 10, \"139999\" => 10, \"140000\" => 10, \"140100\" => 10, \"140101\" => 10, \"140102\" => 10, \"140103\" => 10, \"140104\" => 10, \"140105\" => 10, \"149900\" => 10, \"149999\" => 10, \"150000\" => 10, \"150100\" => 10, \"150101\" => 10, \"150102\" => 10, \"150103\" => 10, \"150104\" => 10, \"150105\" => 10, \"150106\" => 10, \"150199\" => 10, \"150200\" => 10, \"150201\" => 10, \"150202\" => 10, \"150203\" => 10, \"150204\" => 10, \"150299\" => 10, \"150300\" => 10, \"150301\" => 10, \"150302\" => 10, \"150399\" => 10, \"150400\" => 10, \"150401\" => 10, \"150402\" => 10, \"150499\" => 10, \"150500\" => 10, \"150501\" => 10, \"150599\" => 10, \"150600\" => 10, \"150601\" => 10, \"150602\" => 10, \"150699\" => 10, \"150700\" => 10, \"150701\" => 10, \"150799\" => 10, \"150800\" => 10, \"150801\" => 10, \"150899\" => 10, \"159900\" => 10, \"159999\" => 10, \"160000\" => 10, \"160100\" => 10, \"160101\" => 10, \"160102\" => 10, \"160103\" => 10, \"160104\" => 10, \"160105\" => 10, \"160106\" => 10, \"160107\" => 10, \"160108\" => 10, \"160199\" => 10, \"160200\" => 10, \"160201\" => 10, \"160299\" => 10, \"169900\" => 10, \"169999\" => 10, \"159989\" => 10, \"169989\" => 10, \"110281\" => 10, \"100381\" => 10, \"100383\" => 10, \"180000\" => 11, \"180100\" => 11, \"180101\" => 11, \"180199\" => 11, \"180200\" => 11, \"180201\" => 11, \"180202\" => 11, \"180203\" => 11, \"180204\" => 11, \"180205\" => 11, \"180206\" => 11, \"180207\" => 11, \"180208\" => 11, \"180209\" => 11, \"180280\" => 11, \"180299\" => 11, \"180300\" => 11, \"180301\" => 11, \"180302\" => 11, \"180303\" => 11, \"180304\" => 11, \"180305\" => 11, \"180306\" => 11, \"180307\" => 11, \"180399\" => 11, \"180400\" => 11, \"180401\" => 11, \"180402\" => 11, \"180403\" => 11, \"180404\" => 11, \"180405\" => 11, \"180406\" => 11, \"180407\" => 11, \"180482\" => 11, \"180499\" => 11, \"180500\" => 11, \"180501\" => 11, \"180502\" => 11, \"180503\" => 11, \"180504\" => 11, \"180599\" => 11, \"180600\" => 11, \"180601\" => 11, \"180602\" => 11, \"180603\" => 11, \"180604\" => 11, \"180605\" => 11, \"180699\" => 11, \"180700\" => 11, \"180701\" => 11, \"180702\" => 11, \"180703\" => 11, \"180704\" => 11, \"180705\" => 11, \"180782\" => 11, \"180799\" => 11, \"180800\" => 11, \"180801\" => 11, \"180802\" => 11, \"180803\" => 11, \"180804\" => 11, \"180805\" => 11, \"180806\" => 11, \"180807\" => 11, \"180899\" => 11, \"180900\" => 11, \"180901\" => 11, \"180902\" => 11, \"180903\" => 11, \"180904\" => 11, \"180905\" => 11, \"180999\" => 11, \"181000\" => 11, \"181001\" => 11, \"181002\" => 11, \"181099\" => 11, \"181100\" => 11, \"181101\" => 11, \"181199\" => 11, \"181200\" => 11, \"181201\" => 11, \"181202\" => 11, \"181203\" => 11, \"181204\" => 11, \"181205\" => 11, \"181206\" => 11, \"181283\" => 11, \"181299\" => 11, \"181300\" => 11, \"181301\" => 11, \"181302\" => 11, \"181399\" => 11, \"181400\" => 11, \"181401\" => 11, \"181499\" => 11, \"181500\" => 11, \"181501\" => 11, \"181599\" => 11, \"181600\" => 11, \"181601\" => 11, \"181699\" => 11, \"181800\" => 11, \"181801\" => 11, \"181899\" => 11, \"189900\" => 11, \"189999\" => 11, \"180481\" => 11, \"180381\" => 11, \"180382\" => 11, \"181081\" => 11, \"180589\" => 11, \"180682\" => 11, \"500000\" => 11, \"500100\" => 11, \"500101\" => 11, \"500102\" => 11, \"500103\" => 11, \"500104\" => 11, \"500105\" => 11, \"500106\" => 11, \"500107\" => 11, \"509900\" => 11, \"509989\" => 11, \"509999\" => 11)\n",
    "    \n",
    "    return a_trans(act_dct[val])\n",
    "end"
   ]
  },
  {
   "cell_type": "code",
   "execution_count": 195,
   "id": "38350f32",
   "metadata": {},
   "outputs": [
    {
     "data": {
      "text/html": [
       "<table class=\"data-frame\"><thead><tr><th></th><th>caseid</th><th>actline</th><th>activity</th><th>duration</th><th>start</th><th>stop</th><th>act</th></tr><tr><th></th><th>SubStri…</th><th>SubStri…</th><th>SubStri…</th><th>SubStri…</th><th>SubStri…</th><th>SubStri…</th><th>String</th></tr></thead><tbody><p>5 rows × 7 columns</p><tr><th>1</th><td>20030100013280</td><td>1</td><td>130124</td><td>60</td><td>04:00:00</td><td>05:00:00</td><td>j</td></tr><tr><th>2</th><td>20030100013280</td><td>2</td><td>010201</td><td>30</td><td>05:00:00</td><td>05:30:00</td><td>b</td></tr><tr><th>3</th><td>20030100013280</td><td>3</td><td>010101</td><td>600</td><td>05:30:00</td><td>15:30:00</td><td>a</td></tr><tr><th>4</th><td>20030100013280</td><td>4</td><td>120303</td><td>150</td><td>15:30:00</td><td>18:00:00</td><td>h</td></tr><tr><th>5</th><td>20030100013280</td><td>5</td><td>110101</td><td>5</td><td>18:00:00</td><td>18:05:00</td><td>i</td></tr></tbody></table>"
      ],
      "text/latex": [
       "\\begin{tabular}{r|ccccccc}\n",
       "\t& caseid & actline & activity & duration & start & stop & act\\\\\n",
       "\t\\hline\n",
       "\t& SubStri… & SubStri… & SubStri… & SubStri… & SubStri… & SubStri… & String\\\\\n",
       "\t\\hline\n",
       "\t1 & 20030100013280 & 1 & 130124 & 60 & 04:00:00 & 05:00:00 & j \\\\\n",
       "\t2 & 20030100013280 & 2 & 010201 & 30 & 05:00:00 & 05:30:00 & b \\\\\n",
       "\t3 & 20030100013280 & 3 & 010101 & 600 & 05:30:00 & 15:30:00 & a \\\\\n",
       "\t4 & 20030100013280 & 4 & 120303 & 150 & 15:30:00 & 18:00:00 & h \\\\\n",
       "\t5 & 20030100013280 & 5 & 110101 & 5 & 18:00:00 & 18:05:00 & i \\\\\n",
       "\\end{tabular}\n"
      ],
      "text/plain": [
       "5×7 DataFrame. Omitted printing of 1 columns\n",
       "│ Row │ caseid         │ actline  │ activity │ duration │ start    │ stop     │\n",
       "│     │ \u001b[90mSubString…\u001b[39m     │ \u001b[90mSubStri…\u001b[39m │ \u001b[90mSubStri…\u001b[39m │ \u001b[90mSubStri…\u001b[39m │ \u001b[90mSubStri…\u001b[39m │ \u001b[90mSubStri…\u001b[39m │\n",
       "├─────┼────────────────┼──────────┼──────────┼──────────┼──────────┼──────────┤\n",
       "│ 1   │ 20030100013280 │ 1        │ 130124   │ 60       │ 04:00:00 │ 05:00:00 │\n",
       "│ 2   │ 20030100013280 │ 2        │ 010201   │ 30       │ 05:00:00 │ 05:30:00 │\n",
       "│ 3   │ 20030100013280 │ 3        │ 010101   │ 600      │ 05:30:00 │ 15:30:00 │\n",
       "│ 4   │ 20030100013280 │ 4        │ 120303   │ 150      │ 15:30:00 │ 18:00:00 │\n",
       "│ 5   │ 20030100013280 │ 5        │ 110101   │ 5        │ 18:00:00 │ 18:05:00 │"
      ]
     },
     "execution_count": 195,
     "metadata": {},
     "output_type": "execute_result"
    }
   ],
   "source": [
    "df[\"act\"] = activity_trans.(df[\"activity\"]) \n",
    "first(df, 5)"
   ]
  },
  {
   "cell_type": "code",
   "execution_count": 196,
   "id": "4dc608a3",
   "metadata": {},
   "outputs": [
    {
     "data": {
      "text/plain": [
       "11-element Array{String,1}:\n",
       " \"j\"\n",
       " \"b\"\n",
       " \"a\"\n",
       " \"h\"\n",
       " \"i\"\n",
       " \"d\"\n",
       " \"k\"\n",
       " \"g\"\n",
       " \"c\"\n",
       " \"f\"\n",
       " \"e\""
      ]
     },
     "execution_count": 196,
     "metadata": {},
     "output_type": "execute_result"
    }
   ],
   "source": [
    "unique(df[\"act\"])"
   ]
  },
  {
   "cell_type": "code",
   "execution_count": 197,
   "id": "6ae9d261",
   "metadata": {},
   "outputs": [
    {
     "data": {
      "text/html": [
       "<table class=\"data-frame\"><thead><tr><th></th><th>caseid</th><th>actline</th><th>activity</th><th>duration</th><th>start</th><th>stop</th><th>act</th><th>dur</th></tr><tr><th></th><th>SubStri…</th><th>SubStri…</th><th>SubStri…</th><th>SubStri…</th><th>SubStri…</th><th>SubStri…</th><th>String</th><th>Int64</th></tr></thead><tbody><p>5 rows × 8 columns</p><tr><th>1</th><td>20030100013280</td><td>1</td><td>130124</td><td>60</td><td>04:00:00</td><td>05:00:00</td><td>j</td><td>60</td></tr><tr><th>2</th><td>20030100013280</td><td>2</td><td>010201</td><td>30</td><td>05:00:00</td><td>05:30:00</td><td>b</td><td>30</td></tr><tr><th>3</th><td>20030100013280</td><td>3</td><td>010101</td><td>600</td><td>05:30:00</td><td>15:30:00</td><td>a</td><td>600</td></tr><tr><th>4</th><td>20030100013280</td><td>4</td><td>120303</td><td>150</td><td>15:30:00</td><td>18:00:00</td><td>h</td><td>150</td></tr><tr><th>5</th><td>20030100013280</td><td>5</td><td>110101</td><td>5</td><td>18:00:00</td><td>18:05:00</td><td>i</td><td>5</td></tr></tbody></table>"
      ],
      "text/latex": [
       "\\begin{tabular}{r|cccccccc}\n",
       "\t& caseid & actline & activity & duration & start & stop & act & dur\\\\\n",
       "\t\\hline\n",
       "\t& SubStri… & SubStri… & SubStri… & SubStri… & SubStri… & SubStri… & String & Int64\\\\\n",
       "\t\\hline\n",
       "\t1 & 20030100013280 & 1 & 130124 & 60 & 04:00:00 & 05:00:00 & j & 60 \\\\\n",
       "\t2 & 20030100013280 & 2 & 010201 & 30 & 05:00:00 & 05:30:00 & b & 30 \\\\\n",
       "\t3 & 20030100013280 & 3 & 010101 & 600 & 05:30:00 & 15:30:00 & a & 600 \\\\\n",
       "\t4 & 20030100013280 & 4 & 120303 & 150 & 15:30:00 & 18:00:00 & h & 150 \\\\\n",
       "\t5 & 20030100013280 & 5 & 110101 & 5 & 18:00:00 & 18:05:00 & i & 5 \\\\\n",
       "\\end{tabular}\n"
      ],
      "text/plain": [
       "5×8 DataFrame. Omitted printing of 2 columns\n",
       "│ Row │ caseid         │ actline  │ activity │ duration │ start    │ stop     │\n",
       "│     │ \u001b[90mSubString…\u001b[39m     │ \u001b[90mSubStri…\u001b[39m │ \u001b[90mSubStri…\u001b[39m │ \u001b[90mSubStri…\u001b[39m │ \u001b[90mSubStri…\u001b[39m │ \u001b[90mSubStri…\u001b[39m │\n",
       "├─────┼────────────────┼──────────┼──────────┼──────────┼──────────┼──────────┤\n",
       "│ 1   │ 20030100013280 │ 1        │ 130124   │ 60       │ 04:00:00 │ 05:00:00 │\n",
       "│ 2   │ 20030100013280 │ 2        │ 010201   │ 30       │ 05:00:00 │ 05:30:00 │\n",
       "│ 3   │ 20030100013280 │ 3        │ 010101   │ 600      │ 05:30:00 │ 15:30:00 │\n",
       "│ 4   │ 20030100013280 │ 4        │ 120303   │ 150      │ 15:30:00 │ 18:00:00 │\n",
       "│ 5   │ 20030100013280 │ 5        │ 110101   │ 5        │ 18:00:00 │ 18:05:00 │"
      ]
     },
     "execution_count": 197,
     "metadata": {},
     "output_type": "execute_result"
    }
   ],
   "source": [
    "df[:dur] = parse.(Int64, df[\"duration\"])\n",
    "first(df, 5)"
   ]
  },
  {
   "cell_type": "code",
   "execution_count": 198,
   "id": "43308252",
   "metadata": {},
   "outputs": [
    {
     "data": {
      "text/html": [
       "<table class=\"data-frame\"><thead><tr><th></th><th>caseid</th><th>actline</th><th>activity</th><th>duration</th><th>start</th><th>stop</th><th>act</th><th>dur</th></tr><tr><th></th><th>SubStri…</th><th>SubStri…</th><th>SubStri…</th><th>SubStri…</th><th>SubStri…</th><th>SubStri…</th><th>String</th><th>Int64</th></tr></thead><tbody><p>3 rows × 9 columns (omitted printing of 1 columns)</p><tr><th>1</th><td>20030100013280</td><td>1</td><td>130124</td><td>60</td><td>04:00:00</td><td>05:00:00</td><td>j</td><td>60</td></tr><tr><th>2</th><td>20030100013280</td><td>2</td><td>010201</td><td>30</td><td>05:00:00</td><td>05:30:00</td><td>b</td><td>30</td></tr><tr><th>3</th><td>20030100013280</td><td>3</td><td>010101</td><td>600</td><td>05:30:00</td><td>15:30:00</td><td>a</td><td>600</td></tr></tbody></table>"
      ],
      "text/latex": [
       "\\begin{tabular}{r|ccccccccc}\n",
       "\t& caseid & actline & activity & duration & start & stop & act & dur & \\\\\n",
       "\t\\hline\n",
       "\t& SubStri… & SubStri… & SubStri… & SubStri… & SubStri… & SubStri… & String & Int64 & \\\\\n",
       "\t\\hline\n",
       "\t1 & 20030100013280 & 1 & 130124 & 60 & 04:00:00 & 05:00:00 & j & 60 & $\\dots$ \\\\\n",
       "\t2 & 20030100013280 & 2 & 010201 & 30 & 05:00:00 & 05:30:00 & b & 30 & $\\dots$ \\\\\n",
       "\t3 & 20030100013280 & 3 & 010101 & 600 & 05:30:00 & 15:30:00 & a & 600 & $\\dots$ \\\\\n",
       "\\end{tabular}\n"
      ],
      "text/plain": [
       "3×9 DataFrame. Omitted printing of 3 columns\n",
       "│ Row │ caseid         │ actline  │ activity │ duration │ start    │ stop     │\n",
       "│     │ \u001b[90mSubString…\u001b[39m     │ \u001b[90mSubStri…\u001b[39m │ \u001b[90mSubStri…\u001b[39m │ \u001b[90mSubStri…\u001b[39m │ \u001b[90mSubStri…\u001b[39m │ \u001b[90mSubStri…\u001b[39m │\n",
       "├─────┼────────────────┼──────────┼──────────┼──────────┼──────────┼──────────┤\n",
       "│ 1   │ 20030100013280 │ 1        │ 130124   │ 60       │ 04:00:00 │ 05:00:00 │\n",
       "│ 2   │ 20030100013280 │ 2        │ 010201   │ 30       │ 05:00:00 │ 05:30:00 │\n",
       "│ 3   │ 20030100013280 │ 3        │ 010101   │ 600      │ 05:30:00 │ 15:30:00 │"
      ]
     },
     "execution_count": 198,
     "metadata": {},
     "output_type": "execute_result"
    }
   ],
   "source": [
    "df[\"act_rep\"] = df[\"act\"]\n",
    "#repeat.(df[\"act\"], inner = df[\"dur\"])\n",
    "first(df, 3)"
   ]
  },
  {
   "cell_type": "code",
   "execution_count": 199,
   "id": "a5d170ae",
   "metadata": {},
   "outputs": [],
   "source": [
    "for i in 1:nrow(df)\n",
    "    df[\"act_rep\"][i] = repeat(df[\"act\"][i], df[\"dur\"][i])\n",
    "end\n"
   ]
  },
  {
   "cell_type": "code",
   "execution_count": 200,
   "id": "e7687bf9",
   "metadata": {},
   "outputs": [],
   "source": [
    "tempoTable = Dict()\n",
    "for i in unique(df[\"caseid\"])\n",
    "    tempoTable[i] = []\n",
    "end"
   ]
  },
  {
   "cell_type": "code",
   "execution_count": 201,
   "id": "ffe6ec7f",
   "metadata": {},
   "outputs": [
    {
     "data": {
      "text/plain": [
       "chunk (generic function with 1 method)"
      ]
     },
     "execution_count": 201,
     "metadata": {},
     "output_type": "execute_result"
    }
   ],
   "source": [
    "chunk(arr, n) = [arr[i:min(i + n - 1, end)] for i in 1:n:length(arr)]"
   ]
  },
  {
   "cell_type": "code",
   "execution_count": 202,
   "id": "1a2827a9",
   "metadata": {},
   "outputs": [
    {
     "data": {
      "text/plain": [
       "most_common_letter (generic function with 1 method)"
      ]
     },
     "execution_count": 202,
     "metadata": {},
     "output_type": "execute_result"
    }
   ],
   "source": [
    "function most_common_letter(line)\n",
    "    for c in chunk(line, 15)\n",
    "        return first(countmap(c))[2]\n",
    "    end\n",
    "end"
   ]
  },
  {
   "cell_type": "code",
   "execution_count": 203,
   "id": "9392c8ce",
   "metadata": {},
   "outputs": [],
   "source": [
    "for d in groupby(df, :caseid)\n",
    "    temp = join(push!(tempoTable[d[\"caseid\"][1]], d[\"act_rep\"])[1])\n",
    "    lst = \"\"\n",
    "    for c in chunk(temp, 15)\n",
    "        lst = lst * first(countmap(c))[1]\n",
    "    end\n",
    "    tempoTable[d[\"caseid\"][1]] = lst\n",
    "end"
   ]
  },
  {
   "cell_type": "code",
   "execution_count": 204,
   "id": "b918e4b4",
   "metadata": {},
   "outputs": [],
   "source": [
    "for i in keys(tempoTable)\n",
    "    if length(tempoTable[i]) != 96\n",
    "        print(tempoTable[i])\n",
    "        print(\" \")\n",
    "    end\n",
    "end"
   ]
  },
  {
   "cell_type": "code",
   "execution_count": 205,
   "id": "d8fac01a",
   "metadata": {},
   "outputs": [
    {
     "data": {
      "text/plain": [
       "219368-element Array{Any,1}:\n",
       " \"aaaaaaaaaaaaaaaaaaaaaaaaaaaaiiiiaaaaaaiijjjjiihhhhhhjjjjhhhhhhhhhhhhhhhhaaaaaaaaaaaaaaaaaaaaaaaa\"\n",
       " \"aaaaaaaaaaaaaadddddkdcffffffffffffffffiiffffffffdffffdddddbfiihfffdfffffffcaaaaaaaaaaaaaaaaaaaaa\"\n",
       " \"aaaaaaaaaaaaaaaaiikfffffffffffffiiffffffffffffffffffkkhhhhcciiiihhhhhhhhaaaaaaaaaaaaaaaaaaaaaaaa\"\n",
       " \"aaaaaaaaaaaaaaaaaaaaffffffcckkkkkkkkhhkjjjjjjjjjkkbbiikkhhhhhhhhiihhffffbaaaaaaaaaaaaaaaaaaaaaaa\"\n",
       " \"aaaaaaaajjaaaaaabbbkiiigggggggkcccccccccccccijjjkkkkkkkkkkkkkkkkkkkjkkkhhhhhaaaaaaaaaaaaaaaaaaaa\"\n",
       " \"aaaaaaaaaaaaaaaaaaaaiijjjjkkkkkkddddddddddddddddddddiiiijjjjjjbbbhhhhhhhhhhhhhhcccaaaaaaaaaaaaaa\"\n",
       " \"aaaaaaaaaaaaaaaaaabbcfffffccccccccccccccccccccccffjjffffffffffffffffkbccccccccbbbbjjjjaaaaaaaaaa\"\n",
       " \"aaabbiickfffffffffffffffffffffffffiiffffffffffffjcccicccccjjjjjkgggjjjhhaaaaaaaaaaaaaaaaaaaaaaaa\"\n",
       " \"aaaaaaaaaaaaaaaaaaiiiiiiiicbbhhhhhhhhhhhkkiiiiiikkhhhhhhhhjjjjjjjjjjjjbjjjjjjjjaaaaaaaaaaaaabbbb\"\n",
       " \"aaaaaaaaaaaabbbbkgggggggggkcckiiiiggggggggggggggggkccjjjjjichhhhhhhhhhhhhhaaaaaaaaaaaaaaaaaaaaaa\"\n",
       " \"aaaaaaaaaaaaaaaabbkkiifffjjjjjjjiiiiiiccccccccchhhiiigghhhhhhhhhhhhhjjkbhhhaaaaaaaaaaaaaaaaaaaaa\"\n",
       " \"aaaaaaaaaaaaaaaabbifffffffffffffiiiiffffffffffffffffffffiihhhhhhbbbfffhhaaaaaaaaaaaaaaaaaaaaaaaa\"\n",
       " \"aaaaaaaaaaaabbbbjjjjjjjjjjjjjjjjjjjjjjjjjjjjjjjjjjjjjjjjjjjjkkkkiiiiiiiikkkkhhhhaaaaaaaaaaaaaaaa\"\n",
       " ⋮\n",
       " \"aaaaaaaaaaaacciccccccccccccccccccccccccccccccchhhhhkkgggggggggggkkhhhhhhaaaaaaaaaaaaaaaaaaaaaaaa\"\n",
       " \"aajaaaaaaaaaaabbiiddddkjjjjjjgggiiigggggkkcccccccccccccciiiiccccccdcccccbhhaaaaaaaaaaaaajjaaaaaa\"\n",
       " \"aaaaaaaaaaaaaijbbbjjjjjjjjjjjjjjjjiiijjjjjjjbbbbhhhhhhhhhhiibbbbbbbbbbbbbbbbaaaaaaaaaaaaaaaaaaaa\"\n",
       " \"aaaaaaaaaaaabbgggggiffffffffffffffjjddddddaaaaaaaaidkjjjjjjjjjjjjjjjjjjjjjjjjjkkaaaaaaaaaaaaaaaa\"\n",
       " \"aaaaaaaabbbbiiiikjjjjjjjkcccchhhhhhhhhhhhhhhhhhhhhhhhhhhhhhhhhhhhhhhhhhhhhhhaaaaaaaaaaaaaaaaaaaa\"\n",
       " \"aaaaaaaaaaaajjjjjjjjiiddddddddbbkkkkkkjjjjjjjjjjjjjjjjiiikkkkkkhhhhhhhhhaaaaaaaaaaaaaaaaaaaaaaaa\"\n",
       " \"aaaaaaaabbbbbbdfffffffffffffffffiiifffffffffffffffffkccijjjjhhhhhhhhhhhhaaaaaaaaaaaaaaaaaaaaaaaa\"\n",
       " \"aaaaaaaaaajiffffffffffffbbbbjjkkffffffkikkfffffffffffffffffijjjjjjjjjjaaaaaaaaaaaaaaaaaaaaaaaaaa\"\n",
       " \"aaaaaaaaahhhiiiiijjjjjjjjjcccccciicccjjjjjjjjccjjjjjjjiiijjjjjjjjjbbhhhhhhaaaaaaaaaaaaaaaaaaaaaa\"\n",
       " \"aaaaiiiikkffffffffffffffffffffffffffffkgkaaaccjjjcccccjjjjjjjjjjjjjjjjjjaaaaaaaaaaaaaaaaaaaaaaaa\"\n",
       " \"aaaaaaaaaabidkffffffffffffffkfffffffffffffffffffffffkccciiddddddhhhhhhaaaaaaaaaaaaaaaaaaaaaaaaaa\"\n",
       " \"aaaaaaaaaaaaaaaaaaaacciihhhhhhhhcccccccciiiffffffffffffccccccccccciihhhhhhaaaaaaaaaaaaaaaaaaaaaa\""
      ]
     },
     "execution_count": 205,
     "metadata": {},
     "output_type": "execute_result"
    }
   ],
   "source": [
    "lines_full = collect(values(tempoTable))"
   ]
  },
  {
   "cell_type": "code",
   "execution_count": 206,
   "id": "ab21fb66",
   "metadata": {},
   "outputs": [],
   "source": [
    "outfile = \"lines_full.txt\"\n",
    "open(outfile, \"w\") do f\n",
    "  for i in lines_full\n",
    "    println(f, i)\n",
    "  end\n",
    "end"
   ]
  },
  {
   "cell_type": "markdown",
   "id": "ca62c02e",
   "metadata": {},
   "source": [
    "### read from file"
   ]
  },
  {
   "cell_type": "code",
   "execution_count": 21,
   "id": "16bc3fa0",
   "metadata": {},
   "outputs": [],
   "source": [
    "@everywhere f = open(\"lines_full.txt\");\n",
    "@everywhere lines = readlines(f)\n",
    "#@everywhere lines = split.(lines, ',') "
   ]
  },
  {
   "cell_type": "code",
   "execution_count": 1,
   "id": "a8ab40ee",
   "metadata": {},
   "outputs": [],
   "source": [
    "## this full file won't run in full -- too much memory is taken up"
   ]
  },
  {
   "cell_type": "code",
   "execution_count": 22,
   "id": "2acd155c",
   "metadata": {},
   "outputs": [],
   "source": [
    "@everywhere function pairalignEditNum_Opt(num::UInt32, lines = lines, editdist = EditDistance(), cost = costmodel)\n",
    "    pos1 = convert(UInt32, floor(num/100000))\n",
    "    pos2 = num - pos1*100000\n",
    "    if pos1>pos2\n",
    "        return distance(pairalign(editdist, lines[pos1], lines[pos2], cost))\n",
    "    else\n",
    "        return 0\n",
    "    end\n",
    "end"
   ]
  },
  {
   "cell_type": "code",
   "execution_count": 23,
   "id": "7487efe5",
   "metadata": {},
   "outputs": [
    {
     "data": {
      "text/plain": [
       "42000×42000 Array{UInt32,2}:\n",
       " 0x00000000  0x00000000  0x00000000  …  0x00000000  0x00000000  0x00000000\n",
       " 0x00000000  0x00000000  0x00000000     0x00000000  0x00000000  0x00000000\n",
       " 0x00000000  0x00000000  0x00000000     0x00000000  0x00000000  0x00000000\n",
       " 0x00000000  0x00000000  0x00000000     0x00000000  0x00000000  0x00000000\n",
       " 0x00000000  0x00000000  0x00000000     0x00000000  0x00000000  0x00000000\n",
       " 0x00000000  0x00000000  0x00000000  …  0x00000000  0x00000000  0x00000000\n",
       " 0x00000000  0x00000000  0x00000000     0x00000000  0x00000000  0x00000000\n",
       " 0x00000000  0x00000000  0x00000000     0x00000000  0x00000000  0x00000000\n",
       " 0x00000000  0x00000000  0x00000000     0x00000000  0x00000000  0x00000000\n",
       " 0x00000000  0x00000000  0x00000000     0x00000000  0x00000000  0x00000000\n",
       " 0x00000000  0x00000000  0x00000000  …  0x00000000  0x00000000  0x00000000\n",
       " 0x00000000  0x00000000  0x00000000     0x00000000  0x00000000  0x00000000\n",
       " 0x00000000  0x00000000  0x00000000     0x00000000  0x00000000  0x00000000\n",
       "          ⋮                          ⋱                          \n",
       " 0x00000000  0x00000000  0x00000000     0x00000000  0x00000000  0x00000000\n",
       " 0x00000000  0x00000000  0x00000000     0x00000000  0x00000000  0x00000000\n",
       " 0x00000000  0x00000000  0x00000000  …  0x00000000  0x00000000  0x00000000\n",
       " 0x00000000  0x00000000  0x00000000     0x00000000  0x00000000  0x00000000\n",
       " 0x00000000  0x00000000  0x00000000     0x00000000  0x00000000  0x00000000\n",
       " 0x00000000  0x00000000  0x00000000     0x00000000  0x00000000  0x00000000\n",
       " 0x00000000  0x00000000  0x00000000     0x00000000  0x00000000  0x00000000\n",
       " 0x00000000  0x00000000  0x00000000  …  0x00000000  0x00000000  0x00000000\n",
       " 0x00000000  0x00000000  0x00000000     0x00000000  0x00000000  0x00000000\n",
       " 0x00000000  0x00000000  0x00000000     0x00000000  0x00000000  0x00000000\n",
       " 0x00000000  0x00000000  0x00000000     0x00000000  0x00000000  0x00000000\n",
       " 0x00000000  0x00000000  0x00000000     0x00000000  0x00000000  0x00000000"
      ]
     },
     "execution_count": 23,
     "metadata": {},
     "output_type": "execute_result"
    }
   ],
   "source": [
    "d_m = zeros(UInt32, length(lines[1:42000]), length(lines[1:42000]))"
   ]
  },
  {
   "cell_type": "code",
   "execution_count": 25,
   "id": "b70ff3f9",
   "metadata": {},
   "outputs": [],
   "source": [
    "for i in 1:length(lines[1:42000])\n",
    "    for j in 1:length(lines[1:42000])\n",
    "        d_m[i,j] = i*100000 + j\n",
    "    end\n",
    "end"
   ]
  },
  {
   "cell_type": "code",
   "execution_count": 26,
   "id": "f800bea3",
   "metadata": {},
   "outputs": [
    {
     "ename": "LoadError",
     "evalue": "TaskFailedException:\nIOError: write: invalid argument (EINVAL)\nStacktrace:\n [1] uv_write(::Sockets.TCPSocket, ::Ptr{UInt8}, ::UInt64) at ./stream.jl:951\n [2] unsafe_write(::Sockets.TCPSocket, ::Ptr{UInt8}, ::UInt64) at ./stream.jl:1005\n [3] unsafe_write at ./io.jl:622 [inlined]\n [4] write at ./io.jl:645 [inlined]\n [5] serialize_array_data at /Users/julia/buildbot/worker/package_macos64/build/usr/share/julia/stdlib/v1.5/Serialization/src/Serialization.jl:250 [inlined]\n [6] serialize(::Distributed.ClusterSerializer{Sockets.TCPSocket}, ::Array{UInt32,2}) at /Users/julia/buildbot/worker/package_macos64/build/usr/share/julia/stdlib/v1.5/Serialization/src/Serialization.jl:267\n [7] serialize_global_from_main(::Distributed.ClusterSerializer{Sockets.TCPSocket}, ::Symbol) at /Users/julia/buildbot/worker/package_macos64/build/usr/share/julia/stdlib/v1.5/Distributed/src/clusterserialize.jl:175\n [8] #6 at /Users/julia/buildbot/worker/package_macos64/build/usr/share/julia/stdlib/v1.5/Distributed/src/clusterserialize.jl:101 [inlined]\n [9] foreach at ./abstractarray.jl:2009 [inlined]\n [10] serialize(::Distributed.ClusterSerializer{Sockets.TCPSocket}, ::Core.TypeName) at /Users/julia/buildbot/worker/package_macos64/build/usr/share/julia/stdlib/v1.5/Distributed/src/clusterserialize.jl:101\n [11] serialize_type_data(::Distributed.ClusterSerializer{Sockets.TCPSocket}, ::DataType) at /Users/julia/buildbot/worker/package_macos64/build/usr/share/julia/stdlib/v1.5/Serialization/src/Serialization.jl:530\n [12] serialize_type(::Distributed.ClusterSerializer{Sockets.TCPSocket}, ::DataType, ::Bool) at /Users/julia/buildbot/worker/package_macos64/build/usr/share/julia/stdlib/v1.5/Serialization/src/Serialization.jl:574\n [13] serialize_any(::Distributed.ClusterSerializer{Sockets.TCPSocket}, ::Any) at /Users/julia/buildbot/worker/package_macos64/build/usr/share/julia/stdlib/v1.5/Serialization/src/Serialization.jl:644\n [14] serialize at /Users/julia/buildbot/worker/package_macos64/build/usr/share/julia/stdlib/v1.5/Serialization/src/Serialization.jl:627 [inlined]\n [15] serialize(::Distributed.ClusterSerializer{Sockets.TCPSocket}, ::Tuple{var\"#3#4\",Tuple{Int64,Int64},Tuple{Int64,Int64},Array{Int64,2},Array{Tuple{UnitRange{Int64},UnitRange{Int64}},2},Array{Array{Int64,1},1}}) at /Users/julia/buildbot/worker/package_macos64/build/usr/share/julia/stdlib/v1.5/Serialization/src/Serialization.jl:200\n [16] serialize_msg(::Distributed.ClusterSerializer{Sockets.TCPSocket}, ::Distributed.CallMsg{:call_fetch}) at /Users/julia/buildbot/worker/package_macos64/build/usr/share/julia/stdlib/v1.5/Distributed/src/messages.jl:90\n [17] #invokelatest#1 at ./essentials.jl:710 [inlined]\n [18] invokelatest at ./essentials.jl:709 [inlined]\n [19] send_msg_(::Distributed.Worker, ::Distributed.MsgHeader, ::Distributed.CallMsg{:call_fetch}, ::Bool) at /Users/julia/buildbot/worker/package_macos64/build/usr/share/julia/stdlib/v1.5/Distributed/src/messages.jl:185\n [20] send_msg at /Users/julia/buildbot/worker/package_macos64/build/usr/share/julia/stdlib/v1.5/Distributed/src/messages.jl:134 [inlined]\n [21] remotecall_fetch(::Function, ::Distributed.Worker, ::Function, ::Vararg{Any,N} where N; kwargs::Base.Iterators.Pairs{Union{},Union{},Tuple{},NamedTuple{(),Tuple{}}}) at /Users/julia/buildbot/worker/package_macos64/build/usr/share/julia/stdlib/v1.5/Distributed/src/remotecall.jl:389\n [22] remotecall_fetch(::Function, ::Distributed.Worker, ::Function, ::Vararg{Any,N} where N) at /Users/julia/buildbot/worker/package_macos64/build/usr/share/julia/stdlib/v1.5/Distributed/src/remotecall.jl:386\n [23] remotecall_fetch(::Function, ::Int64, ::Function, ::Vararg{Any,N} where N; kwargs::Base.Iterators.Pairs{Union{},Union{},Tuple{},NamedTuple{(),Tuple{}}}) at /Users/julia/buildbot/worker/package_macos64/build/usr/share/julia/stdlib/v1.5/Distributed/src/remotecall.jl:421\n [24] remotecall_fetch at /Users/julia/buildbot/worker/package_macos64/build/usr/share/julia/stdlib/v1.5/Distributed/src/remotecall.jl:421 [inlined]\n [25] macro expansion at /Users/kamilakolpashnikova/.julia/packages/DistributedArrays/fEM6l/src/darray.jl:88 [inlined]\n [26] (::DistributedArrays.var\"#1#3\"{Tuple{Int64,Int64},var\"#3#4\",Tuple{Int64,Int64},Array{Int64,2},Array{Tuple{UnitRange{Int64},UnitRange{Int64}},2},Array{Array{Int64,1},1},Array{DataType,1},Int64})() at ./task.jl:356\n\n...and 15 more exception(s).\n",
     "output_type": "error",
     "traceback": [
      "TaskFailedException:\nIOError: write: invalid argument (EINVAL)\nStacktrace:\n [1] uv_write(::Sockets.TCPSocket, ::Ptr{UInt8}, ::UInt64) at ./stream.jl:951\n [2] unsafe_write(::Sockets.TCPSocket, ::Ptr{UInt8}, ::UInt64) at ./stream.jl:1005\n [3] unsafe_write at ./io.jl:622 [inlined]\n [4] write at ./io.jl:645 [inlined]\n [5] serialize_array_data at /Users/julia/buildbot/worker/package_macos64/build/usr/share/julia/stdlib/v1.5/Serialization/src/Serialization.jl:250 [inlined]\n [6] serialize(::Distributed.ClusterSerializer{Sockets.TCPSocket}, ::Array{UInt32,2}) at /Users/julia/buildbot/worker/package_macos64/build/usr/share/julia/stdlib/v1.5/Serialization/src/Serialization.jl:267\n [7] serialize_global_from_main(::Distributed.ClusterSerializer{Sockets.TCPSocket}, ::Symbol) at /Users/julia/buildbot/worker/package_macos64/build/usr/share/julia/stdlib/v1.5/Distributed/src/clusterserialize.jl:175\n [8] #6 at /Users/julia/buildbot/worker/package_macos64/build/usr/share/julia/stdlib/v1.5/Distributed/src/clusterserialize.jl:101 [inlined]\n [9] foreach at ./abstractarray.jl:2009 [inlined]\n [10] serialize(::Distributed.ClusterSerializer{Sockets.TCPSocket}, ::Core.TypeName) at /Users/julia/buildbot/worker/package_macos64/build/usr/share/julia/stdlib/v1.5/Distributed/src/clusterserialize.jl:101\n [11] serialize_type_data(::Distributed.ClusterSerializer{Sockets.TCPSocket}, ::DataType) at /Users/julia/buildbot/worker/package_macos64/build/usr/share/julia/stdlib/v1.5/Serialization/src/Serialization.jl:530\n [12] serialize_type(::Distributed.ClusterSerializer{Sockets.TCPSocket}, ::DataType, ::Bool) at /Users/julia/buildbot/worker/package_macos64/build/usr/share/julia/stdlib/v1.5/Serialization/src/Serialization.jl:574\n [13] serialize_any(::Distributed.ClusterSerializer{Sockets.TCPSocket}, ::Any) at /Users/julia/buildbot/worker/package_macos64/build/usr/share/julia/stdlib/v1.5/Serialization/src/Serialization.jl:644\n [14] serialize at /Users/julia/buildbot/worker/package_macos64/build/usr/share/julia/stdlib/v1.5/Serialization/src/Serialization.jl:627 [inlined]\n [15] serialize(::Distributed.ClusterSerializer{Sockets.TCPSocket}, ::Tuple{var\"#3#4\",Tuple{Int64,Int64},Tuple{Int64,Int64},Array{Int64,2},Array{Tuple{UnitRange{Int64},UnitRange{Int64}},2},Array{Array{Int64,1},1}}) at /Users/julia/buildbot/worker/package_macos64/build/usr/share/julia/stdlib/v1.5/Serialization/src/Serialization.jl:200\n [16] serialize_msg(::Distributed.ClusterSerializer{Sockets.TCPSocket}, ::Distributed.CallMsg{:call_fetch}) at /Users/julia/buildbot/worker/package_macos64/build/usr/share/julia/stdlib/v1.5/Distributed/src/messages.jl:90\n [17] #invokelatest#1 at ./essentials.jl:710 [inlined]\n [18] invokelatest at ./essentials.jl:709 [inlined]\n [19] send_msg_(::Distributed.Worker, ::Distributed.MsgHeader, ::Distributed.CallMsg{:call_fetch}, ::Bool) at /Users/julia/buildbot/worker/package_macos64/build/usr/share/julia/stdlib/v1.5/Distributed/src/messages.jl:185\n [20] send_msg at /Users/julia/buildbot/worker/package_macos64/build/usr/share/julia/stdlib/v1.5/Distributed/src/messages.jl:134 [inlined]\n [21] remotecall_fetch(::Function, ::Distributed.Worker, ::Function, ::Vararg{Any,N} where N; kwargs::Base.Iterators.Pairs{Union{},Union{},Tuple{},NamedTuple{(),Tuple{}}}) at /Users/julia/buildbot/worker/package_macos64/build/usr/share/julia/stdlib/v1.5/Distributed/src/remotecall.jl:389\n [22] remotecall_fetch(::Function, ::Distributed.Worker, ::Function, ::Vararg{Any,N} where N) at /Users/julia/buildbot/worker/package_macos64/build/usr/share/julia/stdlib/v1.5/Distributed/src/remotecall.jl:386\n [23] remotecall_fetch(::Function, ::Int64, ::Function, ::Vararg{Any,N} where N; kwargs::Base.Iterators.Pairs{Union{},Union{},Tuple{},NamedTuple{(),Tuple{}}}) at /Users/julia/buildbot/worker/package_macos64/build/usr/share/julia/stdlib/v1.5/Distributed/src/remotecall.jl:421\n [24] remotecall_fetch at /Users/julia/buildbot/worker/package_macos64/build/usr/share/julia/stdlib/v1.5/Distributed/src/remotecall.jl:421 [inlined]\n [25] macro expansion at /Users/kamilakolpashnikova/.julia/packages/DistributedArrays/fEM6l/src/darray.jl:88 [inlined]\n [26] (::DistributedArrays.var\"#1#3\"{Tuple{Int64,Int64},var\"#3#4\",Tuple{Int64,Int64},Array{Int64,2},Array{Tuple{UnitRange{Int64},UnitRange{Int64}},2},Array{Array{Int64,1},1},Array{DataType,1},Int64})() at ./task.jl:356\n\n...and 15 more exception(s).\n",
      "",
      "Stacktrace:",
      " [1] sync_end(::Channel{Any}) at ./task.jl:314",
      " [2] macro expansion at ./task.jl:333 [inlined]",
      " [3] DArray(::Tuple{Int64,Int64}, ::Function, ::Tuple{Int64,Int64}, ::Array{Int64,2}, ::Array{Tuple{UnitRange{Int64},UnitRange{Int64}},2}, ::Array{Array{Int64,1},1}) at /Users/kamilakolpashnikova/.julia/packages/DistributedArrays/fEM6l/src/darray.jl:83",
      " [4] DArray(::Function, ::Tuple{Int64,Int64}, ::Array{Int64,1}, ::Array{Int64,1}) at /Users/kamilakolpashnikova/.julia/packages/DistributedArrays/fEM6l/src/darray.jl:177",
      " [5] DArray at /Users/kamilakolpashnikova/.julia/packages/DistributedArrays/fEM6l/src/darray.jl:184 [inlined]",
      " [6] DArray(::Function, ::Tuple{Int64,Int64}) at /Users/kamilakolpashnikova/.julia/packages/DistributedArrays/fEM6l/src/darray.jl:186",
      " [7] top-level scope at In[26]:1",
      " [8] include_string(::Function, ::Module, ::String, ::String) at ./loading.jl:1091"
     ]
    }
   ],
   "source": [
    "A = DArray(I->d_m, (length(lines[1:42000]), length(lines[1:42000])))"
   ]
  },
  {
   "cell_type": "code",
   "execution_count": 27,
   "id": "a8c32d40",
   "metadata": {},
   "outputs": [
    {
     "data": {
      "text/plain": [
       "\"19:01\""
      ]
     },
     "execution_count": 27,
     "metadata": {},
     "output_type": "execute_result"
    }
   ],
   "source": [
    "using Dates\n",
    "Dates.format(now(), \"HH:MM\")"
   ]
  },
  {
   "cell_type": "code",
   "execution_count": 28,
   "id": "9a70d5fc",
   "metadata": {},
   "outputs": [
    {
     "name": "stderr",
     "output_type": "stream",
     "text": [
      "Worker 2 terminated.\n",
      "Worker 3 terminated.\n",
      "Worker 4 terminated.\n"
     ]
    },
    {
     "ename": "LoadError",
     "evalue": "TaskFailedException:\nProcessExitedException(2)\nStacktrace:\n [1] try_yieldto(::typeof(Base.ensure_rescheduled)) at ./task.jl:656\n [2] wait at ./task.jl:713 [inlined]\n [3] wait(::Base.GenericCondition{ReentrantLock}) at ./condition.jl:106\n [4] take_buffered(::Channel{Any}) at ./channels.jl:387\n [5] take!(::Channel{Any}) at ./channels.jl:381\n [6] take!(::Distributed.RemoteValue) at /Users/julia/buildbot/worker/package_macos64/build/usr/share/julia/stdlib/v1.5/Distributed/src/remotecall.jl:599\n [7] remotecall_fetch(::Function, ::Distributed.Worker, ::Function, ::Vararg{Any,N} where N; kwargs::Base.Iterators.Pairs{Union{},Union{},Tuple{},NamedTuple{(),Tuple{}}}) at /Users/julia/buildbot/worker/package_macos64/build/usr/share/julia/stdlib/v1.5/Distributed/src/remotecall.jl:390\n [8] remotecall_fetch(::Function, ::Distributed.Worker, ::Function, ::Vararg{Any,N} where N) at /Users/julia/buildbot/worker/package_macos64/build/usr/share/julia/stdlib/v1.5/Distributed/src/remotecall.jl:386\n [9] remotecall_fetch(::Function, ::Int64, ::Function, ::Vararg{Any,N} where N; kwargs::Base.Iterators.Pairs{Union{},Union{},Tuple{},NamedTuple{(),Tuple{}}}) at /Users/julia/buildbot/worker/package_macos64/build/usr/share/julia/stdlib/v1.5/Distributed/src/remotecall.jl:421\n [10] remotecall_fetch at /Users/julia/buildbot/worker/package_macos64/build/usr/share/julia/stdlib/v1.5/Distributed/src/remotecall.jl:421 [inlined]\n [11] macro expansion at /Users/kamilakolpashnikova/.julia/packages/DistributedArrays/fEM6l/src/darray.jl:88 [inlined]\n [12] (::DistributedArrays.var\"#1#3\"{Tuple{Int64,Int64},DistributedArrays.var\"#134#135\"{Base.Broadcast.Broadcasted{DistributedArrays.DArrayStyle{Base.Broadcast.DefaultArrayStyle{2}},Tuple{Base.OneTo{Int64},Base.OneTo{Int64}},typeof(pairalignEditNum_Opt),Tuple{DArray{UInt32,2,Array{UInt32,2}}}}},Tuple{Int64,Int64},Array{Int64,2},Array{Tuple{UnitRange{Int64},UnitRange{Int64}},2},Array{Array{Int64,1},1},Array{DataType,1},Int64})() at ./task.jl:356\n\n...and 15 more exception(s).\n",
     "output_type": "error",
     "traceback": [
      "TaskFailedException:\nProcessExitedException(2)\nStacktrace:\n [1] try_yieldto(::typeof(Base.ensure_rescheduled)) at ./task.jl:656\n [2] wait at ./task.jl:713 [inlined]\n [3] wait(::Base.GenericCondition{ReentrantLock}) at ./condition.jl:106\n [4] take_buffered(::Channel{Any}) at ./channels.jl:387\n [5] take!(::Channel{Any}) at ./channels.jl:381\n [6] take!(::Distributed.RemoteValue) at /Users/julia/buildbot/worker/package_macos64/build/usr/share/julia/stdlib/v1.5/Distributed/src/remotecall.jl:599\n [7] remotecall_fetch(::Function, ::Distributed.Worker, ::Function, ::Vararg{Any,N} where N; kwargs::Base.Iterators.Pairs{Union{},Union{},Tuple{},NamedTuple{(),Tuple{}}}) at /Users/julia/buildbot/worker/package_macos64/build/usr/share/julia/stdlib/v1.5/Distributed/src/remotecall.jl:390\n [8] remotecall_fetch(::Function, ::Distributed.Worker, ::Function, ::Vararg{Any,N} where N) at /Users/julia/buildbot/worker/package_macos64/build/usr/share/julia/stdlib/v1.5/Distributed/src/remotecall.jl:386\n [9] remotecall_fetch(::Function, ::Int64, ::Function, ::Vararg{Any,N} where N; kwargs::Base.Iterators.Pairs{Union{},Union{},Tuple{},NamedTuple{(),Tuple{}}}) at /Users/julia/buildbot/worker/package_macos64/build/usr/share/julia/stdlib/v1.5/Distributed/src/remotecall.jl:421\n [10] remotecall_fetch at /Users/julia/buildbot/worker/package_macos64/build/usr/share/julia/stdlib/v1.5/Distributed/src/remotecall.jl:421 [inlined]\n [11] macro expansion at /Users/kamilakolpashnikova/.julia/packages/DistributedArrays/fEM6l/src/darray.jl:88 [inlined]\n [12] (::DistributedArrays.var\"#1#3\"{Tuple{Int64,Int64},DistributedArrays.var\"#134#135\"{Base.Broadcast.Broadcasted{DistributedArrays.DArrayStyle{Base.Broadcast.DefaultArrayStyle{2}},Tuple{Base.OneTo{Int64},Base.OneTo{Int64}},typeof(pairalignEditNum_Opt),Tuple{DArray{UInt32,2,Array{UInt32,2}}}}},Tuple{Int64,Int64},Array{Int64,2},Array{Tuple{UnitRange{Int64},UnitRange{Int64}},2},Array{Array{Int64,1},1},Array{DataType,1},Int64})() at ./task.jl:356\n\n...and 15 more exception(s).\n",
      "",
      "Stacktrace:",
      " [1] sync_end(::Channel{Any}) at ./task.jl:314",
      " [2] macro expansion at ./task.jl:333 [inlined]",
      " [3] DArray(::Tuple{Int64,Int64}, ::Function, ::Tuple{Int64,Int64}, ::Array{Int64,2}, ::Array{Tuple{UnitRange{Int64},UnitRange{Int64}},2}, ::Array{Array{Int64,1},1}) at /Users/kamilakolpashnikova/.julia/packages/DistributedArrays/fEM6l/src/darray.jl:83",
      " [4] DArray(::Function, ::Tuple{Int64,Int64}, ::Array{Int64,1}, ::Array{Int64,1}) at /Users/kamilakolpashnikova/.julia/packages/DistributedArrays/fEM6l/src/darray.jl:177",
      " [5] DArray at /Users/kamilakolpashnikova/.julia/packages/DistributedArrays/fEM6l/src/darray.jl:184 [inlined]",
      " [6] DArray(::Function, ::Tuple{Int64,Int64}) at /Users/kamilakolpashnikova/.julia/packages/DistributedArrays/fEM6l/src/darray.jl:186",
      " [7] copy at /Users/kamilakolpashnikova/.julia/packages/DistributedArrays/fEM6l/src/broadcast.jl:95 [inlined]",
      " [8] materialize(::Base.Broadcast.Broadcasted{DistributedArrays.DArrayStyle{Base.Broadcast.DefaultArrayStyle{2}},Nothing,typeof(pairalignEditNum_Opt),Tuple{DArray{UInt32,2,Array{UInt32,2}}}}) at ./broadcast.jl:837",
      " [9] top-level scope at In[28]:1",
      " [10] include_string(::Function, ::Module, ::String, ::String) at ./loading.jl:1091"
     ]
    },
    {
     "name": "stderr",
     "output_type": "stream",
     "text": [
      "Worker 5 terminated.\n",
      "Worker 6 terminated.\n",
      "Worker 7 terminated.\n",
      "Worker 8 terminated.\n",
      "Worker 9 terminated.\n",
      "Worker 10 terminated.\n",
      "Worker 11 terminated.\n",
      "Worker 12 terminated.\n",
      "Worker 13 terminated.\n",
      "Worker 14 terminated.\n",
      "Worker 15 terminated.\n",
      "Worker 16 terminated.\n",
      "Worker 17 terminated.\n"
     ]
    }
   ],
   "source": [
    "output_mat_opt = pairalignEditNum_Opt.(A)"
   ]
  },
  {
   "cell_type": "code",
   "execution_count": null,
   "id": "770c5e90",
   "metadata": {},
   "outputs": [],
   "source": [
    "Dates.format(now(), \"HH:MM\")"
   ]
  }
 ],
 "metadata": {
  "@webio": {
   "lastCommId": null,
   "lastKernelId": null
  },
  "kernelspec": {
   "display_name": "Julia 1.5.2",
   "language": "julia",
   "name": "julia-1.5"
  },
  "language_info": {
   "file_extension": ".jl",
   "mimetype": "application/julia",
   "name": "julia",
   "version": "1.5.2"
  }
 },
 "nbformat": 4,
 "nbformat_minor": 5
}
